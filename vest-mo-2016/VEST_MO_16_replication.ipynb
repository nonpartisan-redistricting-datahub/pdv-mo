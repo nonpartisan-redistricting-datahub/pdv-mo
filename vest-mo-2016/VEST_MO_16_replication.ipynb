{
 "cells": [
  {
   "cell_type": "code",
   "execution_count": 1,
   "id": "51de5d25",
   "metadata": {},
   "outputs": [],
   "source": [
    "import pandas as pd # standard python data library\n",
    "import geopandas as gp # the geo-version of pandas\n",
    "import numpy as np \n",
    "import os\n",
    "import fiona\n",
    "from statistics import mean, median\n",
    "from pandas import read_csv\n",
    "gp.io.file.fiona.drvsupport.supported_drivers['KML'] = 'rw' #To load KML files\n",
    "import string\n",
    "import xml.etree.ElementTree as et"
   ]
  },
  {
   "cell_type": "markdown",
   "id": "d222d05f",
   "metadata": {},
   "source": [
    "Missouri\n",
    "--------\n",
    "Election results from the Secretary of State's office via OpenElections (https://github.com/openelections/openelections-data-mo/tree/master/2016). Absentee,provisional, and mail ballots were reported countywide in nearly every county; these were distributed by candidate to precincts based on their share of the precinct-level reported vote.\n",
    "\n",
    "Precinct shapefiles primarily from the U.S. Census Bureau's 2020 Redistricting Data Program Phase 2 release. Monroe County comes from the 2010 Census VTD release. Platte County comes from the 2020 Census VTD release.  The following counties instead used maps or shapefiles sourced from the respective county governments: Audrain, Bates, Caldwell, Callaway, Camden, Cape Girardeau, Cedar, Cooper, Franklin, Greene, Jackson, Jasper, Jefferson, Laclede, Lafayette, Lawrence, Marion, McDonald, Miller, Nodaway, Osage, Ozark, Pemiscot, Pike, Randolph, Scott, Ste. Genevieve, Texas, Warren, Washington, Worth, Wright.\n",
    "\n",
    "Precinct mergers were made in the following counties to match county reporting units: Andrew, Audrain, Barry, Benton, Bollinger, Boone, Callaway, Camden, Cape Girardeau, Carroll, Carter, Cass, Christian, Clark, Cole, Cooper, Crawford, Dallas, Dekalb, Douglas, Dunklin, Franklin, Gentry, Greene, Grundy, Howard, Howell, Jackson, Jasper, Jefferson, Johnson, Linn, Livingston, Marion, Mercer, Mississippi, Moniteau, Morgan, New Madrid, Nodaway, Oregon, Osage, Pemiscot, Pettis, Phelps, Platte, Polk, Putnam, Ralls, Randolph, Ray, Ripley, St. Clair, St. Louis, Schuyler, Shannon, Shelby, Stone, Sullivan, Warren, Wayne, Webster, Worth.\n",
    "\n",
    "Additional modifications to reflect how election results were reported in 2016:\n",
    "\n",
    "Audrain: Add Vandalia City; Align Mexico precincts with municipal code\n",
    "Barry: Add Monett City; Align Cassville with corporate boundary\n",
    "Barton: Adjust Lamar ward boundaries to match city map\n",
    "Bollinger: Adjust Patton/Sedgewickville to match county GIS\n",
    "Butler: Align Poplar Bluff with corporate boundary and adjust wards to match city map\n",
    "Callaway: Align Fulton, Holts Summit precincts with 2016 corporate boundaries\n",
    "Carroll: Adjust Carrollton City wards to match voter file\n",
    "Cass: Align Belton, Pleasant Hill, Raymore precincts with corporate boundaries; Adjust 37 Pleasant Prairie/25 West Peculiar Rural\n",
    "Chariton: Adjust Salisbury ward boundaries to match city map\n",
    "Christian: Revise Cassidy 1/Cassidy 2; Reverse Nixa City annexations into Rosedale 1A/1B, Union Chapel 1\n",
    "Clay: Adjust Excelsior Springs, Kearney, Smithville precincts to match 2016 ward and corporate boundaries; Adjust KC 21-1/15, 21-1/17, 21-3/11, 21-4/6, 21-4/11, 21-5/7/24, 21-6/24, 21-7/20, 21-13/26, 21-14/23, 21-17/16, 21-17/26, 21-17/Platte 1, Gallatin 7/16, 10/13, 10/16, 11/15, 13/15, Kearney 3/Platte 2, Liberty 1/10, 6/13, 7/11, 11/14, Washington 1/3 to match voter file\n",
    "Clinton: Align Atchison/Concord, Jackson/Lathrop with 2016 precinct split assignments\n",
    "Cole: Adjust Marion Twp St Martins to include St Martins city in Jefferson Twp\n",
    "Crawford: Move Benton Twp section of Leasburg precinct from Recklein to Leasburg\n",
    "Dade: Realign Greenfield wards to match municipal code\n",
    "Dallas: Split North Benton Inside/OCL; Align N/S Benton with Buffalo ward map\n",
    "Dent: Split Boss precinct from R-4 precinct; Adjust R-2/R-3 boundary\n",
    "Dunklin: Align Holcomb, Rives with township boundaries; Adjust Arbyrd/Senath; Align Kennett wards with city map\n",
    "Franklin: Split Dry Branch between Stanton & St. Clair Out of Town\n",
    "Gasconade: Align Hermann, Owensville, Rosebud with corporate boundaries and ward descriptions\n",
    "Howard: Split Old Franklin & New Franklin\n",
    "Howell: Align West Plains precincts with 2016 corporate boundary\n",
    "Iron: Adjust Annapolis/Des Arc/Vulcan, Ironton/Pilot Knob\n",
    "Jasper: Realign Carthage 2/3, Joplin 1/7, 10/13, 10/15, 13/22, Oronogo 1/2, Webb City 1/4 to match city ward maps\n",
    "Jefferson: Split Festus Ward 4 P1/P2; Adjust Crystal City/Riverview\n",
    "Johnson: Adjust Warrensburg NE/NW boundary to match county maps\n",
    "Lewis: Split LaBelle Twp between LaBelle FS/Lewistown FS with PLSS grid\n",
    "Lincoln: Align Moscow Mills, Troy with 2016 corporate boundaries; Adjust Briscoe/Troy Rural\n",
    "Linn: Split Brookfield Township between Brookfield 1&2/3&4\n",
    "Livingston: Align Chillicothe with 2016 corporate boundaries\n",
    "Macon: Align Macon City wards with corporate boundaries\n",
    "Madison: Align Fredericktown wards with corporate boundaries\n",
    "Marion: Split Fabius-Smileyville/Taylor, Warren-Monroe City/Warren; Align Hannibal wards with voter file\n",
    "Miller: Adjust all precinct boundaries to match voter file\n",
    "Mississippi: Adjust Bertrand/East Prairie Rural; Align East Prairie City with corporate boundary\n",
    "Montgomery: Align Bellflower/Middletown, Big Spring/Rhineland with voter file\n",
    "Morgan: Adjust Versaille North/South boundary to match county GIS\n",
    "New Madrid: Add New Madrid City wards; Add Big Prairie 4 precinct; Move Portageville Ward 1 to Portage 1\n",
    "Newton: Align Staples precincts with Joplin City GIS boundaries; Align Neosho precincts with Neosho City GIS boundaries; Adjust Newtonia/Ritchey Wentworth\n",
    "Pettis: Adjust Sedalia City wards to match city map\n",
    "Phelps: Align St. James ward boundaries with city map\n",
    "Pike: Adjust Cuivre JL boundaries with Ashley NO, Buffalo E, Prairieville I\n",
    "Platte: Align Lake Waukomis, Parkville, Platte City, Riverside/Northmore, Weatherby Lake with corporate boundaries; Adjust Platte Hills/Park Hill, Seven Bridges/Shiloh\n",
    "Polk: Split Campbell/Jefferson precincts by school district\n",
    "Pulaski: Adjust Big Piney/St. Roberts, Laquey/Waynesville\n",
    "Putnam: Split Union Twp into NE/SW precincts to match county map\n",
    "Ralls: Replace Center/Liberty precincts with 2010 VTDs\n",
    "Ray: Adjust Richmond City wards, Homestead Village/Wood Heights/Lawson\n",
    "Reynolds: Realign precincts countywide to match voter file\n",
    "Saline: Split Nelson precinct from Hardeman precinct; Adjust Marshall Ward 2/3 boundary\n",
    "St. Charles: Adjust Brian/Ridgepoint, Civic/St. Paul, Harvester/Sycamore, Mamelle/Marina\n",
    "St. Francois: Align Desloge, Farmington, Park Hills with corporate boundaries and city ward maps; Adjust Bonne Terre/Timberline, Patterson/Timberline, Leadwood/Park Hills to match voter file\n",
    "St. Louis: Add UNV044 precinct; Revise QUE047 precinct\n",
    "Scott: Adjust Haywood City/Morley, Sikeston Ward 1/McMullin/Vanduser\n",
    "Shannon: Align all precincts with county GIS and voter file\n",
    "Shelby: Adjust Jackson/North River to match voter file\n",
    "Stoddard: Align Advance, Bernie, Bloomfield, Dexter, Puxico with corporate boundaries; Adjust Advance/Leora, Bernie/Dexter/Pyle, Bloomfield/Gray Ridge\n",
    "Stone: Move Branson West from Ruth A to Ruth C; Adjust Ruth B City/Rural to match county GIS\n",
    "Taney: Adjust Boston Center/Walnut Shade; Align Branson wards with 2016 corporate boundary\n",
    "Vernon: Align Bronaugh/Moundville, Harwood/Schell City, Deerfield/NG Armory with voter file\n",
    "Washington: Adjust City Hall/Stony Point, Cruise/Richwoods to match county GIS\n",
    "\n"
   ]
  },
  {
   "cell_type": "code",
   "execution_count": 19,
   "id": "7e025fce",
   "metadata": {},
   "outputs": [],
   "source": [
    "vest_mo_16 = gp.read_file(\"./raw-from-source/VEST/mo_2016/mo_2016.shp\")"
   ]
  },
  {
   "cell_type": "code",
   "execution_count": 2,
   "id": "2373bbd2",
   "metadata": {},
   "outputs": [],
   "source": [
    "fips_file = pd.read_csv(\"./raw-from-source/FIPS/US_FIPS_Codes.csv\")\n",
    "fips_file = fips_file[fips_file[\"State\"]==\"Missouri\"]\n",
    "fips_file[\"FIPS County\"]=fips_file[\"FIPS County\"].astype(str)\n",
    "fips_file[\"FIPS County\"]=fips_file[\"FIPS County\"].str.zfill(3)\n",
    "fips_file[\"unique_ID\"] =  \"42\" + fips_file[\"FIPS County\"]\n",
    "fips_codes = fips_file[\"unique_ID\"].tolist()\n",
    "mo_fips_dict = dict(zip(fips_file[\"County Name\"],fips_file[\"FIPS County\"]))"
   ]
  },
  {
   "cell_type": "code",
   "execution_count": 3,
   "id": "b6d4d65c",
   "metadata": {},
   "outputs": [],
   "source": [
    "elections_2016 = pd.read_csv(\"./raw-from-source/Open_Elections/openelections-data-mo-master/2016/20161108__mo__general__precinct.csv\")"
   ]
  },
  {
   "cell_type": "code",
   "execution_count": 4,
   "id": "2ccb07f5",
   "metadata": {},
   "outputs": [],
   "source": [
    "office_list = ['President', 'U.S. Senate', 'Governor', 'Lieutenant Governor','Secretary of State', 'State Treasurer', 'Attorney General']\n",
    "elections_2016 = elections_2016[elections_2016[\"office\"].isin(office_list)]"
   ]
  },
  {
   "cell_type": "markdown",
   "id": "ed493e3e",
   "metadata": {},
   "source": [
    "G16PRERTRU - Donald J. Trump (Republican Party)\n",
    "G16PREDCLI - Hillary Rodham Clinton (Democratic Party)\n",
    "G16PRELJOH - Gary Johnson (Libertarian Party)\n",
    "G16PREGSTE - Jill Stein (Green Party)\n",
    "G16PRECCAS - Darrell L. Castle (Constitution Party)\n",
    "\n",
    "G16USSRBLU - Roy Blunt (Republican Party)\n",
    "G16USSDKAN - Jason Kander (Democratic Party)\n",
    "G16USSLDIN - Jonathan Dine (Libertarian Party)\n",
    "G16USSGMCF - Johnathan McFarland (Green Party)\n",
    "G16USSCRYM - Fred Ryman (Constitution Party)\n",
    "\n",
    "G16GOVRGRE - Eric Greitens (Republican Party)\n",
    "G16GOVDKOS - Chris Koster (Democratic Party)\n",
    "G16GOVLSPR - Cisse W. Spragins (Libertarian Party)\n",
    "G16GOVGFIT - Don Fitz (Green Party)\n",
    "G16GOVITUR - Lester Benton (Les) Turilli, Jr. (Independent)\n",
    "\n",
    "G16LTGRPAR - Mike Parson (Republican Party)\n",
    "G16LTGDCAR - Russ Carnahan (Democratic Party)\n",
    "G16LTGLHED - Steven R. Hedrick (Libertarian Party)\n",
    "G16LTGGLEA - Jennifer Leach (Green Party)\n",
    "\n",
    "G16ATGRHAW - Josh Hawley (Republican Party)\n",
    "G16ATGDHEN - Teresa Hensley (Democratic Party)\n",
    "\n",
    "G16TRERSCH - Eric Schmitt (Republican Party)\n",
    "G16TREDBAK - Judy Baker (Democratic Party)\n",
    "G16TRELOTO - Sean O'Toole (Libertarian Party)\n",
    "G16TREGHEX - Carol Hexem (Green Party)\n",
    "\n",
    "G16SOSRASH - John (Jay) Ashcroft (Republican Party)\n",
    "G16SOSDSMI - Robin Smith (Democratic Party)\n",
    "G16SOSLMOR - Chris Morrill (Libertarian Party)"
   ]
  },
  {
   "cell_type": "code",
   "execution_count": 5,
   "id": "bf0c7bbe",
   "metadata": {},
   "outputs": [
    {
     "name": "stdout",
     "output_type": "stream",
     "text": [
      "Donald J. Trump, Michael R. Pence                   3228\n",
      "Roy Blunt                                           3225\n",
      "Josh Hawley                                         3222\n",
      "Eric Schmitt                                        3222\n",
      "John (Jay) Ashcroft                                 3222\n",
      "Eric Greitens                                       3221\n",
      "Mike Parson                                         3221\n",
      "Hillary Rodham Clinton, Timothy Michael Kaine       3217\n",
      "Jason Kander                                        3214\n",
      "Chris Koster                                        3213\n",
      "Teresa Hensley                                      3210\n",
      "Robin Smith                                         3209\n",
      "Russ Carnahan                                       3209\n",
      "Judy Baker                                          3209\n",
      "Chris Morrill                                       3191\n",
      "Gary Johnson, Bill Weld                             3186\n",
      "Steven R. Hedrick                                   3185\n",
      "Jonathan Dine                                       3185\n",
      "Sean O'Toole                                        3184\n",
      "Jennifer Leach                                      3158\n",
      "Fred Ryman                                          3126\n",
      "Cisse W Spragins                                    3122\n",
      "Johnathan McFarland                                 3122\n",
      "Carol Hexem                                         3115\n",
      "Lester Benton (Les) Turilli, Jr.                    3094\n",
      "Don Fitz                                            3005\n",
      "Jill Stein, Ajamu Baraka                            2964\n",
      "Darrell L. Castle, Scott N. Bradley                 2949\n",
      "Evan McMullin, Nathan Johnson                        255\n",
      "Patrick Lee                                           50\n",
      "Jake Wilburn                                          39\n",
      "Gina Bufe                                             30\n",
      "Tom Hoefling, Steve Schulin                           27\n",
      "Laurence Kotlikoff, Edward Leamer                     25\n",
      "Dave Altis                                            16\n",
      "Arnie C. AC Dienoff                                   16\n",
      "Rocky\" Roque De La Fuente, Michael Steinberg\"         14\n",
      "Jon Kelly                                             13\n",
      "Marshall Schoenke, James Creighton Mitchell, Jr       13\n",
      "Thomas Morgan                                         12\n",
      "Nathaniel (Nate) Malone                               12\n",
      "Steven Wallace                                        12\n",
      "Theo Brown Sr                                         10\n",
      "Martin Lindstedt                                      10\n",
      "\"Rocky\" Roque De La Fuente, Michael Steinberg          1\n",
      "Marshall Schoenke, James Creighton Mitchell, Jr.       1\n",
      "Name: candidate, dtype: int64\n"
     ]
    }
   ],
   "source": [
    "print(elections_2016[\"candidate\"].value_counts())"
   ]
  },
  {
   "cell_type": "code",
   "execution_count": 6,
   "id": "16149fe7",
   "metadata": {},
   "outputs": [
    {
     "name": "stdout",
     "output_type": "stream",
     "text": [
      "28\n"
     ]
    }
   ],
   "source": [
    "candidate_list = [\"Donald J. Trump, Michael R. Pence\",\"Roy Blunt\",\"Eric Schmitt\",\"Josh Hawley\",\n",
    "                 \"John (Jay) Ashcroft\",\"Eric Greitens\",\"Mike Parson\",\"Hillary Rodham Clinton, Timothy Michael Kaine\",\n",
    "                 \"Jason Kander\",\"Chris Koster\",\"Teresa Hensley\",\"Judy Baker\",\"Russ Carnahan\",\"Robin Smith\",\"Chris Morrill\",\n",
    "                 \"Gary Johnson, Bill Weld\",\"Jonathan Dine\",\"Steven R. Hedrick\",\"Sean O'Toole\",\"Jennifer Leach\",\"Fred Ryman\",\n",
    "                 \"Cisse W Spragins\",\"Johnathan McFarland\",\"Carol Hexem\",\"Lester Benton (Les) Turilli, Jr.\",\"Don Fitz\",\n",
    "                 \"Jill Stein, Ajamu Baraka\",\"Darrell L. Castle, Scott N. Bradley\"]\n",
    "\n",
    "print(len(candidate_list))\n",
    "\n",
    "elections_2016=elections_2016[elections_2016[\"candidate\"].isin(candidate_list)]"
   ]
  },
  {
   "cell_type": "code",
   "execution_count": 7,
   "id": "179bd979",
   "metadata": {},
   "outputs": [
    {
     "name": "stdout",
     "output_type": "stream",
     "text": [
      "Donald J. Trump, Michael R. Pence                3228\n",
      "Roy Blunt                                        3225\n",
      "Josh Hawley                                      3222\n",
      "John (Jay) Ashcroft                              3222\n",
      "Eric Schmitt                                     3222\n",
      "Mike Parson                                      3221\n",
      "Eric Greitens                                    3221\n",
      "Hillary Rodham Clinton, Timothy Michael Kaine    3217\n",
      "Jason Kander                                     3214\n",
      "Chris Koster                                     3213\n",
      "Teresa Hensley                                   3210\n",
      "Robin Smith                                      3209\n",
      "Russ Carnahan                                    3209\n",
      "Judy Baker                                       3209\n",
      "Chris Morrill                                    3191\n",
      "Gary Johnson, Bill Weld                          3186\n",
      "Jonathan Dine                                    3185\n",
      "Steven R. Hedrick                                3185\n",
      "Sean O'Toole                                     3184\n",
      "Jennifer Leach                                   3158\n",
      "Fred Ryman                                       3126\n",
      "Johnathan McFarland                              3122\n",
      "Cisse W Spragins                                 3122\n",
      "Carol Hexem                                      3115\n",
      "Lester Benton (Les) Turilli, Jr.                 3094\n",
      "Don Fitz                                         3005\n",
      "Jill Stein, Ajamu Baraka                         2964\n",
      "Darrell L. Castle, Scott N. Bradley              2949\n",
      "Name: candidate, dtype: int64\n",
      "28\n"
     ]
    }
   ],
   "source": [
    "print(elections_2016[\"candidate\"].value_counts())\n",
    "print(len(elections_2016[\"candidate\"].value_counts()))"
   ]
  },
  {
   "cell_type": "code",
   "execution_count": 8,
   "id": "be7f6a49",
   "metadata": {},
   "outputs": [],
   "source": [
    "elections_2016[\"county\"]=elections_2016[\"county\"].map(mo_fips_dict).fillna(elections_2016[\"county\"])"
   ]
  },
  {
   "cell_type": "code",
   "execution_count": 9,
   "id": "7c33a202",
   "metadata": {},
   "outputs": [
    {
     "name": "stdout",
     "output_type": "stream",
     "text": [
      "  county                precinct     office district party  \\\n",
      "0    001    SOUTHWEST ONE/BENTON  President      NaN   DEM   \n",
      "1    001    SOUTHEAST TWO/BENTON  President      NaN   DEM   \n",
      "2    001  SOUTHEAST THREE/BENTON  President      NaN   DEM   \n",
      "3    001   NORTHEAST FOUR/BENTON  President      NaN   DEM   \n",
      "4    001   NORTHEAST FIVE/BENTON  President      NaN   DEM   \n",
      "\n",
      "                                       candidate  votes  \n",
      "0  Hillary Rodham Clinton, Timothy Michael Kaine    224  \n",
      "1  Hillary Rodham Clinton, Timothy Michael Kaine    458  \n",
      "2  Hillary Rodham Clinton, Timothy Michael Kaine    391  \n",
      "3  Hillary Rodham Clinton, Timothy Michael Kaine    386  \n",
      "4  Hillary Rodham Clinton, Timothy Michael Kaine    256  \n"
     ]
    }
   ],
   "source": [
    "print(elections_2016.head())\n",
    "elections_2016[\"pivot_col\"]=elections_2016[\"county\"]+elections_2016[\"precinct\"]"
   ]
  },
  {
   "cell_type": "code",
   "execution_count": 12,
   "id": "93703819",
   "metadata": {},
   "outputs": [],
   "source": [
    "pivoted_2016 = pd.pivot_table(elections_2016,values=[\"votes\"],index=[\"pivot_col\"],columns=[\"candidate\"],aggfunc=sum)\n",
    "pivoted_2016 = pivoted_2016.fillna(0)"
   ]
  },
  {
   "cell_type": "code",
   "execution_count": 13,
   "id": "7122b5c5",
   "metadata": {},
   "outputs": [
    {
     "name": "stdout",
     "output_type": "stream",
     "text": [
      "candidate                            Carol Hexem  Chris Koster  Chris Morrill  \\\n",
      "0                       001ABSENTEE         13.0         570.0           40.0   \n",
      "1                       001BRASHEAR          4.0         245.0           28.0   \n",
      "2                        001FEDERAL          0.0           0.0            0.0   \n",
      "3          001NORTHEAST FIVE/BENTON         13.0         304.0           21.0   \n",
      "4          001NORTHEAST FOUR/BENTON         20.0         427.0           42.0   \n",
      "\n",
      "candidate  Cisse W Spragins  Darrell L. Castle, Scott N. Bradley  Don Fitz  \\\n",
      "0                      19.0                                  8.0       3.0   \n",
      "1                       8.0                                  3.0      13.0   \n",
      "2                       0.0                                  0.0       0.0   \n",
      "3                       3.0                                  4.0       5.0   \n",
      "4                      21.0                                  2.0      13.0   \n",
      "\n",
      "candidate  Donald J. Trump, Michael R. Pence  Eric Greitens  Eric Schmitt  \\\n",
      "0                                      816.0          762.0         775.0   \n",
      "1                                      638.0          551.0         610.0   \n",
      "2                                        3.0            0.0           0.0   \n",
      "3                                      435.0          428.0         442.0   \n",
      "4                                      400.0          397.0         387.0   \n",
      "\n",
      "candidate  ...  Josh Hawley  Judy Baker  Lester Benton (Les) Turilli, Jr.  \\\n",
      "0          ...        817.0       500.0                              12.0   \n",
      "1          ...        633.0       179.0                               9.0   \n",
      "2          ...          0.0         0.0                               0.0   \n",
      "3          ...        462.0       249.0                               6.0   \n",
      "4          ...        423.0       393.0                               7.0   \n",
      "\n",
      "candidate  Mike Parson  Robin Smith  Roy Blunt  Russ Carnahan  Sean O'Toole  \\\n",
      "0                754.0        450.0      774.0          531.0          37.0   \n",
      "1                550.0        165.0      551.0          215.0          16.0   \n",
      "2                  0.0          0.0        1.0            0.0           0.0   \n",
      "3                416.0        256.0      410.0          279.0          19.0   \n",
      "4                373.0        382.0      381.0          403.0          38.0   \n",
      "\n",
      "candidate  Steven R. Hedrick  Teresa Hensley  \n",
      "0                       27.0           506.0  \n",
      "1                       24.0           174.0  \n",
      "2                        0.0             0.0  \n",
      "3                       11.0           260.0  \n",
      "4                       29.0           415.0  \n",
      "\n",
      "[5 rows x 29 columns]\n"
     ]
    }
   ],
   "source": [
    "#print(pivoted_2016.head())\n",
    "pivoted_2016.reset_index(drop=False,inplace=True)\n",
    "pivoted_2016.columns = pivoted_2016.columns.droplevel(0)\n",
    "\n",
    "print(pivoted_2016.head())"
   ]
  },
  {
   "cell_type": "code",
   "execution_count": 14,
   "id": "960cbcb6",
   "metadata": {},
   "outputs": [
    {
     "name": "stdout",
     "output_type": "stream",
     "text": [
      "Index(['', 'Carol Hexem', 'Chris Koster', 'Chris Morrill', 'Cisse W Spragins',\n",
      "       'Darrell L. Castle, Scott N. Bradley', 'Don Fitz',\n",
      "       'Donald J. Trump, Michael R. Pence', 'Eric Greitens', 'Eric Schmitt',\n",
      "       'Fred Ryman', 'Gary Johnson, Bill Weld',\n",
      "       'Hillary Rodham Clinton, Timothy Michael Kaine', 'Jason Kander',\n",
      "       'Jennifer Leach', 'Jill Stein, Ajamu Baraka', 'John (Jay) Ashcroft',\n",
      "       'Johnathan McFarland', 'Jonathan Dine', 'Josh Hawley', 'Judy Baker',\n",
      "       'Lester Benton (Les) Turilli, Jr.', 'Mike Parson', 'Robin Smith',\n",
      "       'Roy Blunt', 'Russ Carnahan', 'Sean O'Toole', 'Steven R. Hedrick',\n",
      "       'Teresa Hensley'],\n",
      "      dtype='object', name='candidate')\n"
     ]
    }
   ],
   "source": [
    "print(pivoted_2016.columns)"
   ]
  },
  {
   "cell_type": "code",
   "execution_count": 15,
   "id": "f79a5753",
   "metadata": {},
   "outputs": [
    {
     "name": "stdout",
     "output_type": "stream",
     "text": [
      "19321091.0\n"
     ]
    }
   ],
   "source": [
    "sum_var = 0\n",
    "for i in ['Carol Hexem', 'Chris Koster', 'Chris Morrill', 'Cisse W Spragins',\n",
    "       'Darrell L. Castle, Scott N. Bradley', 'Don Fitz',\n",
    "       'Donald J. Trump, Michael R. Pence', 'Eric Greitens', 'Eric Schmitt',\n",
    "       'Fred Ryman', 'Hillary Rodham Clinton, Timothy Michael Kaine',\n",
    "       'Jason Kander', 'Jennifer Leach', 'Jill Stein, Ajamu Baraka',\n",
    "       'John (Jay) Ashcroft', 'Johnathan McFarland', 'Jonathan Dine',\n",
    "       'Josh Hawley', 'Judy Baker', 'Lester Benton (Les) Turilli, Jr.',\n",
    "       'Mike Parson', 'Robin Smith', 'Roy Blunt', 'Russ Carnahan',\n",
    "       \"Sean O'Toole\", 'Steven R. Hedrick', 'Teresa Hensley']:\n",
    "    sum_var += np.sum(pivoted_2016[i])\n",
    "print(sum_var)"
   ]
  },
  {
   "cell_type": "code",
   "execution_count": 20,
   "id": "ab3f1604",
   "metadata": {},
   "outputs": [
    {
     "name": "stdout",
     "output_type": "stream",
     "text": [
      "19418450\n"
     ]
    }
   ],
   "source": [
    "sum_var = 0\n",
    "for i in ['G16PRERTRU', 'G16PREDCLI', 'G16PRELJOH',\n",
    "       'G16PREGSTE', 'G16PRECCAS', 'G16USSRBLU', 'G16USSDKAN', 'G16USSLDIN',\n",
    "       'G16USSGMCF', 'G16USSCRYM', 'G16GOVRGRE', 'G16GOVDKOS', 'G16GOVLSPR',\n",
    "       'G16GOVGFIT', 'G16GOVITUR', 'G16LTGRPAR', 'G16LTGDCAR', 'G16LTGLHED',\n",
    "       'G16LTGGLEA', 'G16ATGRHAW', 'G16ATGDHEN', 'G16TRERSCH', 'G16TREDBAK',\n",
    "       'G16TRELOTO', 'G16TREGHEX', 'G16SOSRASH', 'G16SOSDSMI', 'G16SOSLMOR']:\n",
    "    sum_var += np.sum(vest_mo_16[i])\n",
    "print(sum_var)"
   ]
  },
  {
   "cell_type": "code",
   "execution_count": 21,
   "id": "ab59a43c",
   "metadata": {},
   "outputs": [
    {
     "ename": "KeyError",
     "evalue": "\"None of [Index(['G16PRERTRU', 'G16PREDCLI', 'G16PRELJOH', 'G16PREGSTE', 'G16PRECCAS',\\n       'G16USSRBLU', 'G16USSDKAN', 'G16USSLDIN', 'G16USSGMCF', 'G16USSCRYM',\\n       'G16GOVRGRE', 'G16GOVDKOS', 'G16GOVLSPR', 'G16GOVGFIT', 'G16GOVITUR',\\n       'G16LTGRPAR', 'G16LTGDCAR', 'G16LTGLHED', 'G16LTGGLEA', 'G16ATGRHAW',\\n       'G16ATGDHEN', 'G16TRERSCH', 'G16TREDBAK', 'G16TRELOTO', 'G16TREGHEX',\\n       'G16SOSRASH', 'G16SOSDSMI', 'G16SOSLMOR'],\\n      dtype='object', name='candidate')] are in the [columns]\"",
     "output_type": "error",
     "traceback": [
      "\u001b[0;31m---------------------------------------------------------------------------\u001b[0m",
      "\u001b[0;31mKeyError\u001b[0m                                  Traceback (most recent call last)",
      "\u001b[0;32m<ipython-input-21-7484640a88b3>\u001b[0m in \u001b[0;36m<module>\u001b[0;34m\u001b[0m\n\u001b[0;32m----> 1\u001b[0;31m pivoted_2016 = pivoted_2016[['G16PRERTRU', 'G16PREDCLI', 'G16PRELJOH',\n\u001b[0m\u001b[1;32m      2\u001b[0m        \u001b[0;34m'G16PREGSTE'\u001b[0m\u001b[0;34m,\u001b[0m \u001b[0;34m'G16PRECCAS'\u001b[0m\u001b[0;34m,\u001b[0m \u001b[0;34m'G16USSRBLU'\u001b[0m\u001b[0;34m,\u001b[0m \u001b[0;34m'G16USSDKAN'\u001b[0m\u001b[0;34m,\u001b[0m \u001b[0;34m'G16USSLDIN'\u001b[0m\u001b[0;34m,\u001b[0m\u001b[0;34m\u001b[0m\u001b[0;34m\u001b[0m\u001b[0m\n\u001b[1;32m      3\u001b[0m        \u001b[0;34m'G16USSGMCF'\u001b[0m\u001b[0;34m,\u001b[0m \u001b[0;34m'G16USSCRYM'\u001b[0m\u001b[0;34m,\u001b[0m \u001b[0;34m'G16GOVRGRE'\u001b[0m\u001b[0;34m,\u001b[0m \u001b[0;34m'G16GOVDKOS'\u001b[0m\u001b[0;34m,\u001b[0m \u001b[0;34m'G16GOVLSPR'\u001b[0m\u001b[0;34m,\u001b[0m\u001b[0;34m\u001b[0m\u001b[0;34m\u001b[0m\u001b[0m\n\u001b[1;32m      4\u001b[0m        \u001b[0;34m'G16GOVGFIT'\u001b[0m\u001b[0;34m,\u001b[0m \u001b[0;34m'G16GOVITUR'\u001b[0m\u001b[0;34m,\u001b[0m \u001b[0;34m'G16LTGRPAR'\u001b[0m\u001b[0;34m,\u001b[0m \u001b[0;34m'G16LTGDCAR'\u001b[0m\u001b[0;34m,\u001b[0m \u001b[0;34m'G16LTGLHED'\u001b[0m\u001b[0;34m,\u001b[0m\u001b[0;34m\u001b[0m\u001b[0;34m\u001b[0m\u001b[0m\n\u001b[1;32m      5\u001b[0m        \u001b[0;34m'G16LTGGLEA'\u001b[0m\u001b[0;34m,\u001b[0m \u001b[0;34m'G16ATGRHAW'\u001b[0m\u001b[0;34m,\u001b[0m \u001b[0;34m'G16ATGDHEN'\u001b[0m\u001b[0;34m,\u001b[0m \u001b[0;34m'G16TRERSCH'\u001b[0m\u001b[0;34m,\u001b[0m \u001b[0;34m'G16TREDBAK'\u001b[0m\u001b[0;34m,\u001b[0m\u001b[0;34m\u001b[0m\u001b[0;34m\u001b[0m\u001b[0m\n",
      "\u001b[0;32m~/opt/anaconda3/envs/geo_env/lib/python3.9/site-packages/pandas/core/frame.py\u001b[0m in \u001b[0;36m__getitem__\u001b[0;34m(self, key)\u001b[0m\n\u001b[1;32m   3028\u001b[0m             \u001b[0;32mif\u001b[0m \u001b[0mis_iterator\u001b[0m\u001b[0;34m(\u001b[0m\u001b[0mkey\u001b[0m\u001b[0;34m)\u001b[0m\u001b[0;34m:\u001b[0m\u001b[0;34m\u001b[0m\u001b[0;34m\u001b[0m\u001b[0m\n\u001b[1;32m   3029\u001b[0m                 \u001b[0mkey\u001b[0m \u001b[0;34m=\u001b[0m \u001b[0mlist\u001b[0m\u001b[0;34m(\u001b[0m\u001b[0mkey\u001b[0m\u001b[0;34m)\u001b[0m\u001b[0;34m\u001b[0m\u001b[0;34m\u001b[0m\u001b[0m\n\u001b[0;32m-> 3030\u001b[0;31m             \u001b[0mindexer\u001b[0m \u001b[0;34m=\u001b[0m \u001b[0mself\u001b[0m\u001b[0;34m.\u001b[0m\u001b[0mloc\u001b[0m\u001b[0;34m.\u001b[0m\u001b[0m_get_listlike_indexer\u001b[0m\u001b[0;34m(\u001b[0m\u001b[0mkey\u001b[0m\u001b[0;34m,\u001b[0m \u001b[0maxis\u001b[0m\u001b[0;34m=\u001b[0m\u001b[0;36m1\u001b[0m\u001b[0;34m,\u001b[0m \u001b[0mraise_missing\u001b[0m\u001b[0;34m=\u001b[0m\u001b[0;32mTrue\u001b[0m\u001b[0;34m)\u001b[0m\u001b[0;34m[\u001b[0m\u001b[0;36m1\u001b[0m\u001b[0;34m]\u001b[0m\u001b[0;34m\u001b[0m\u001b[0;34m\u001b[0m\u001b[0m\n\u001b[0m\u001b[1;32m   3031\u001b[0m \u001b[0;34m\u001b[0m\u001b[0m\n\u001b[1;32m   3032\u001b[0m         \u001b[0;31m# take() does not accept boolean indexers\u001b[0m\u001b[0;34m\u001b[0m\u001b[0;34m\u001b[0m\u001b[0;34m\u001b[0m\u001b[0m\n",
      "\u001b[0;32m~/opt/anaconda3/envs/geo_env/lib/python3.9/site-packages/pandas/core/indexing.py\u001b[0m in \u001b[0;36m_get_listlike_indexer\u001b[0;34m(self, key, axis, raise_missing)\u001b[0m\n\u001b[1;32m   1264\u001b[0m             \u001b[0mkeyarr\u001b[0m\u001b[0;34m,\u001b[0m \u001b[0mindexer\u001b[0m\u001b[0;34m,\u001b[0m \u001b[0mnew_indexer\u001b[0m \u001b[0;34m=\u001b[0m \u001b[0max\u001b[0m\u001b[0;34m.\u001b[0m\u001b[0m_reindex_non_unique\u001b[0m\u001b[0;34m(\u001b[0m\u001b[0mkeyarr\u001b[0m\u001b[0;34m)\u001b[0m\u001b[0;34m\u001b[0m\u001b[0;34m\u001b[0m\u001b[0m\n\u001b[1;32m   1265\u001b[0m \u001b[0;34m\u001b[0m\u001b[0m\n\u001b[0;32m-> 1266\u001b[0;31m         \u001b[0mself\u001b[0m\u001b[0;34m.\u001b[0m\u001b[0m_validate_read_indexer\u001b[0m\u001b[0;34m(\u001b[0m\u001b[0mkeyarr\u001b[0m\u001b[0;34m,\u001b[0m \u001b[0mindexer\u001b[0m\u001b[0;34m,\u001b[0m \u001b[0maxis\u001b[0m\u001b[0;34m,\u001b[0m \u001b[0mraise_missing\u001b[0m\u001b[0;34m=\u001b[0m\u001b[0mraise_missing\u001b[0m\u001b[0;34m)\u001b[0m\u001b[0;34m\u001b[0m\u001b[0;34m\u001b[0m\u001b[0m\n\u001b[0m\u001b[1;32m   1267\u001b[0m         \u001b[0;32mreturn\u001b[0m \u001b[0mkeyarr\u001b[0m\u001b[0;34m,\u001b[0m \u001b[0mindexer\u001b[0m\u001b[0;34m\u001b[0m\u001b[0;34m\u001b[0m\u001b[0m\n\u001b[1;32m   1268\u001b[0m \u001b[0;34m\u001b[0m\u001b[0m\n",
      "\u001b[0;32m~/opt/anaconda3/envs/geo_env/lib/python3.9/site-packages/pandas/core/indexing.py\u001b[0m in \u001b[0;36m_validate_read_indexer\u001b[0;34m(self, key, indexer, axis, raise_missing)\u001b[0m\n\u001b[1;32m   1306\u001b[0m             \u001b[0;32mif\u001b[0m \u001b[0mmissing\u001b[0m \u001b[0;34m==\u001b[0m \u001b[0mlen\u001b[0m\u001b[0;34m(\u001b[0m\u001b[0mindexer\u001b[0m\u001b[0;34m)\u001b[0m\u001b[0;34m:\u001b[0m\u001b[0;34m\u001b[0m\u001b[0;34m\u001b[0m\u001b[0m\n\u001b[1;32m   1307\u001b[0m                 \u001b[0maxis_name\u001b[0m \u001b[0;34m=\u001b[0m \u001b[0mself\u001b[0m\u001b[0;34m.\u001b[0m\u001b[0mobj\u001b[0m\u001b[0;34m.\u001b[0m\u001b[0m_get_axis_name\u001b[0m\u001b[0;34m(\u001b[0m\u001b[0maxis\u001b[0m\u001b[0;34m)\u001b[0m\u001b[0;34m\u001b[0m\u001b[0;34m\u001b[0m\u001b[0m\n\u001b[0;32m-> 1308\u001b[0;31m                 \u001b[0;32mraise\u001b[0m \u001b[0mKeyError\u001b[0m\u001b[0;34m(\u001b[0m\u001b[0;34mf\"None of [{key}] are in the [{axis_name}]\"\u001b[0m\u001b[0;34m)\u001b[0m\u001b[0;34m\u001b[0m\u001b[0;34m\u001b[0m\u001b[0m\n\u001b[0m\u001b[1;32m   1309\u001b[0m \u001b[0;34m\u001b[0m\u001b[0m\n\u001b[1;32m   1310\u001b[0m             \u001b[0max\u001b[0m \u001b[0;34m=\u001b[0m \u001b[0mself\u001b[0m\u001b[0;34m.\u001b[0m\u001b[0mobj\u001b[0m\u001b[0;34m.\u001b[0m\u001b[0m_get_axis\u001b[0m\u001b[0;34m(\u001b[0m\u001b[0maxis\u001b[0m\u001b[0;34m)\u001b[0m\u001b[0;34m\u001b[0m\u001b[0;34m\u001b[0m\u001b[0m\n",
      "\u001b[0;31mKeyError\u001b[0m: \"None of [Index(['G16PRERTRU', 'G16PREDCLI', 'G16PRELJOH', 'G16PREGSTE', 'G16PRECCAS',\\n       'G16USSRBLU', 'G16USSDKAN', 'G16USSLDIN', 'G16USSGMCF', 'G16USSCRYM',\\n       'G16GOVRGRE', 'G16GOVDKOS', 'G16GOVLSPR', 'G16GOVGFIT', 'G16GOVITUR',\\n       'G16LTGRPAR', 'G16LTGDCAR', 'G16LTGLHED', 'G16LTGGLEA', 'G16ATGRHAW',\\n       'G16ATGDHEN', 'G16TRERSCH', 'G16TREDBAK', 'G16TRELOTO', 'G16TREGHEX',\\n       'G16SOSRASH', 'G16SOSDSMI', 'G16SOSLMOR'],\\n      dtype='object', name='candidate')] are in the [columns]\""
     ]
    }
   ],
   "source": [
    "pivoted_2016 = pivoted_2016[['G16PRERTRU', 'G16PREDCLI', 'G16PRELJOH',\n",
    "       'G16PREGSTE', 'G16PRECCAS', 'G16USSRBLU', 'G16USSDKAN', 'G16USSLDIN',\n",
    "       'G16USSGMCF', 'G16USSCRYM', 'G16GOVRGRE', 'G16GOVDKOS', 'G16GOVLSPR',\n",
    "       'G16GOVGFIT', 'G16GOVITUR', 'G16LTGRPAR', 'G16LTGDCAR', 'G16LTGLHED',\n",
    "       'G16LTGGLEA', 'G16ATGRHAW', 'G16ATGDHEN', 'G16TRERSCH', 'G16TREDBAK',\n",
    "       'G16TRELOTO', 'G16TREGHEX', 'G16SOSRASH', 'G16SOSDSMI', 'G16SOSLMOR']]"
   ]
  },
  {
   "cell_type": "code",
   "execution_count": null,
   "id": "b45e928f",
   "metadata": {},
   "outputs": [],
   "source": []
  }
 ],
 "metadata": {
  "kernelspec": {
   "display_name": "Python 3",
   "language": "python",
   "name": "python3"
  },
  "language_info": {
   "codemirror_mode": {
    "name": "ipython",
    "version": 3
   },
   "file_extension": ".py",
   "mimetype": "text/x-python",
   "name": "python",
   "nbconvert_exporter": "python",
   "pygments_lexer": "ipython3",
   "version": "3.9.2"
  }
 },
 "nbformat": 4,
 "nbformat_minor": 5
}
