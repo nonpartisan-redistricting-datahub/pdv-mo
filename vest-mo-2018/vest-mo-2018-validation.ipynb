{
 "cells": [
  {
   "cell_type": "code",
   "execution_count": 1,
   "metadata": {},
   "outputs": [],
   "source": [
    "import maup # mggg's library for proration, see documentation here: https://github.com/mggg/maup\n",
    "import pandas as pd # standard python data library\n",
    "import geopandas as gp # the geo-version of pandas\n",
    "import numpy as np \n",
    "import os\n",
    "import fiona\n",
    "from statistics import mean, median\n",
    "from pandas import read_csv\n",
    "gp.io.file.fiona.drvsupport.supported_drivers['KML'] = 'rw' #To load KML files\n",
    "import string\n",
    "import xml.etree.ElementTree as et"
   ]
  },
  {
   "cell_type": "markdown",
   "metadata": {},
   "source": [
    "# Election Results"
   ]
  },
  {
   "cell_type": "markdown",
   "metadata": {},
   "source": [
    "## Election Data Sources"
   ]
  },
  {
   "cell_type": "markdown",
   "metadata": {},
   "source": [
    "Election results from the Secretary of State's office via OpenElections (https://github.com/openelections/openelections-data-mo/tree/master/2018). Absentee, provisional, and mail ballots were reported countywide in nearly every county; these were distributed by candidate to precincts based on their share of the precinct-level reported vote.\n",
    "\n",
    "- G18USSRHAW - Josh Hawley (Republican Party)  \n",
    "- G18USSDMCC - Claire McCaskill (Democratic Party)  \n",
    "- G18USSLCAM - Japheth Campbell (Libertarian Party)  \n",
    "- G18USSGCRA - Jo Crain (Green Party)  \n",
    "- G18USSIODE - Craig O'Dear (Independent)  \n",
    "  \n",
    "  \n",
    "- G18AUDRMCD - Saundra McDowell (Republican Party)  \n",
    "- G18AUDDGAL - Nicole Galloway (Democratic Party)  \n",
    "- G18AUDLOTO - Sean O'Toole (Libertarian Party)  \n",
    "- G18AUDGFIT - Don Fitz (Green Party)  \n",
    "- G18AUDCLUE - Jacob Luetkemeyer (Constitution Party)  \n"
   ]
  },
  {
   "cell_type": "markdown",
   "metadata": {},
   "source": [
    "## Load Election Data"
   ]
  },
  {
   "cell_type": "code",
   "execution_count": 2,
   "metadata": {},
   "outputs": [],
   "source": [
    "#Import VEST file\n",
    "vest_mo_18 = gp.read_file(\"./raw-from-source/VEST/mo_2018/mo_2018.shp\")\n",
    "\n",
    "#Import elections file\n",
    "mo_elections = pd.read_csv(\"./raw-from-source/Open_Elections/20181106__mo__general__precinct.csv\")\n",
    "\n",
    "#Clean names and filter down to relevant candidates and offices\n",
    "candidate_list = ['Josh Hawley','Claire McCaskill','Japheth Campbell','Jo Crain',\n",
    " \"Craig O'Dear\",'Saundra McDowell','Nicole Galloway',\"Sean O'Toole\",'Don Fitz','Jacob Luetkemeyer']\n",
    "office_list = ['U.S. Senate', 'State Auditor']\n",
    "mo_elections[\"candidate\"] = mo_elections[\"candidate\"].str.strip()\n",
    "mo_elections = mo_elections[mo_elections[\"office\"].isin(office_list)]\n",
    "mo_elections = mo_elections[mo_elections[\"candidate\"].isin(candidate_list)]\n",
    "\n",
    "#Load in FIPS data to change counties from names to fips\n",
    "fips_file = pd.read_csv(\"./raw-from-source/FIPS/US_FIPS_Codes.csv\")\n",
    "fips_file = fips_file[fips_file[\"State\"]==\"Missouri\"]\n",
    "fips_file[\"FIPS County\"] = fips_file[\"FIPS County\"].astype(str)\n",
    "fips_file[\"FIPS County\"] = fips_file[\"FIPS County\"].str.zfill(3)\n",
    "fips_dict = dict(zip(fips_file['County Name'], fips_file['FIPS County']))\n",
    "mo_changes = {'De Kalb':'Dekalb','Kansas City':'Jackson','McDonald':'Mcdonald',\n",
    "              'St. Charles':'St Charles','St. Clair':'St Clair',\n",
    "              'Ste. Genevieve':'Ste Genevieve','St. Francois':'St Francois',\n",
    "              'St. Louis City':'St Louis City','St. Louis County':'St Louis'}\n",
    "mo_elections['county'] = mo_elections['county'].map(mo_changes).fillna(mo_elections['county'])\n",
    "mo_elections['COUNTYFP'] = mo_elections['county'].map(fips_dict).fillna(mo_elections['county'])\n",
    "mo_elections[\"unique_ID\"]=mo_elections[\"COUNTYFP\"]+mo_elections[\"precinct\"]"
   ]
  },
  {
   "cell_type": "markdown",
   "metadata": {},
   "source": [
    "### Pivot Election Results and Change Precinct Names"
   ]
  },
  {
   "cell_type": "code",
   "execution_count": 3,
   "metadata": {},
   "outputs": [],
   "source": [
    "#Pivot election results\n",
    "mo_elections_pivot = pd.pivot_table(mo_elections,index=[\"unique_ID\",\"COUNTYFP\",\"precinct\"],columns=[\"candidate\"],values=['votes'],aggfunc=sum)\n",
    "\n",
    "#Clean up dataframe NA values, index, and names\n",
    "mo_elections_pivot = mo_elections_pivot.fillna(0)\n",
    "mo_elections_pivot.columns = mo_elections_pivot.columns.droplevel(0)\n",
    "mo_elections_pivot.reset_index(drop=False,inplace=True)\n",
    "mo_elections_pivot = mo_elections_pivot.rename(columns={'Claire McCaskill':\"G18USSDMCC\",\"Craig O'Dear\": \"G18USSIODE\",'Don Fitz':\"G18AUDGFIT\",'Jacob Luetkemeyer':\"G18AUDCLUE\",'Japheth Campbell':\"G18USSLCAM\",'Jo Crain':\"G18USSGCRA\",'Josh Hawley':\"G18USSRHAW\",'Nicole Galloway':\"G18AUDDGAL\",'Saundra McDowell':\"G18AUDRMCD\",\"Sean O'Toole\":\"G18AUDLOTO\"})\n",
    "\n",
    "#Change unique_ID names to match VEST final file\n",
    "#matcher_increase is a CSV file that I created that has the name changes that VEST used\n",
    "matcher_increase = pd.read_csv(\"./raw-from-source/matcher_increase.csv\")\n",
    "new_name_dict = dict(zip(matcher_increase['source_names'], matcher_increase['vest_names']))\n",
    "mo_elections_pivot[\"unique_ID\"] = mo_elections_pivot[\"unique_ID\"].str.strip()\n",
    "mo_elections_pivot[\"unique_ID\"] = mo_elections_pivot[\"unique_ID\"].map(new_name_dict).fillna(mo_elections_pivot[\"unique_ID\"])"
   ]
  },
  {
   "cell_type": "markdown",
   "metadata": {},
   "source": [
    "### Check totals before assigning countywide votes"
   ]
  },
  {
   "cell_type": "markdown",
   "metadata": {},
   "source": [
    "Note: There seem to be minor differences in the totals (max of 15 in one column)"
   ]
  },
  {
   "cell_type": "code",
   "execution_count": 4,
   "metadata": {},
   "outputs": [
    {
     "name": "stdout",
     "output_type": "stream",
     "text": [
      "G18USSDMCC\n",
      "For  G18USSDMCC diff of 9.0\n",
      "G18USSIODE\n",
      "For  G18USSIODE diff of 0.0\n",
      "G18AUDGFIT\n",
      "For  G18AUDGFIT diff of 2.0\n",
      "G18AUDCLUE\n",
      "For  G18AUDCLUE diff of 0.0\n",
      "G18USSLCAM\n",
      "For  G18USSLCAM diff of 0.0\n",
      "G18USSGCRA\n",
      "For  G18USSGCRA diff of 2.0\n",
      "G18USSRHAW\n",
      "For  G18USSRHAW diff of 15.0\n",
      "G18AUDDGAL\n",
      "For  G18AUDDGAL diff of 2.0\n",
      "G18AUDRMCD\n",
      "For  G18AUDRMCD diff of 14.0\n",
      "G18AUDLOTO\n",
      "For  G18AUDLOTO diff of 0.0\n"
     ]
    }
   ],
   "source": [
    "col_list = [\"G18USSDMCC\",\"G18USSIODE\",\"G18AUDGFIT\",\"G18AUDCLUE\",\"G18USSLCAM\",\"G18USSGCRA\",\"G18USSRHAW\",\"G18AUDDGAL\",\"G18AUDRMCD\",\"G18AUDLOTO\"]\n",
    "for i in col_list:\n",
    "    print(i)\n",
    "    print(\"For \", i,\"diff of \" + str(abs(sum(mo_elections_pivot[i])-sum(vest_mo_18[i]))))"
   ]
  },
  {
   "cell_type": "markdown",
   "metadata": {},
   "source": [
    "### Assign Countywide Votes"
   ]
  },
  {
   "cell_type": "code",
   "execution_count": 5,
   "metadata": {},
   "outputs": [],
   "source": [
    "kc_precincts = mo_elections_pivot[mo_elections_pivot[\"unique_ID\"].str[0:5]==\"095KC\"]\n",
    "remove_list = [\"ABSENTEE\",\"PROVISIONAL\",\"FEDERAL\",\"FEDERAL/STATE\",\"INTRASTATE\",\"WRITE-IN\",\"CENTRAL POLLING LOCATION\",\"CENTRAL POLL\",\"ABSENTEE1\",\"ABSENTEE2\",\"VOTE CENTER\",\"CENTRAL POLLING LOCATION: MSU\",\"INTRASTATE/NEW RESIDENT\",\"WRITE-INS\",\"MULTI-PRECINCT COLLECTION\",\"INTRASTATE NEW RESIDENT\",\"MULTI-PRECINCT COLLECTION\",\"ABSENTEE, PROVISIONAL & CENTRAL\",\"INTRASTATE01\",\"INTRASTATE02\"]\n",
    "mo_elections_countywide = mo_elections_pivot[(mo_elections_pivot[\"precinct\"].isin(remove_list)) | (mo_elections_pivot[\"unique_ID\"]=='019CENTRAL')]\n",
    "mo_elections_pivot = mo_elections_pivot[~(mo_elections_pivot[\"precinct\"].isin(remove_list)) & ~(mo_elections_pivot[\"unique_ID\"]=='019CENTRAL') & ~(mo_elections_pivot[\"unique_ID\"].str[0:5]==\"095KC\")]\n",
    "countywide_totals = mo_elections_countywide.groupby([\"COUNTYFP\"]).sum()\n",
    "precinct_totals = mo_elections_pivot.groupby([\"COUNTYFP\"]).sum()\n",
    "data_to_add = pd.merge(precinct_totals,countywide_totals,on=['COUNTYFP'],how='left',indicator=False)\n",
    "data_to_add.reset_index(inplace=True,drop=False)\n",
    "\n",
    "joined = pd.merge(mo_elections_pivot,data_to_add,on=['COUNTYFP'],how='left',indicator=False)\n",
    "joined = joined.fillna(0)\n",
    "col_list = [\"G18USSDMCC\",\"G18USSIODE\",\"G18AUDGFIT\",\"G18AUDCLUE\",\"G18USSLCAM\",\"G18USSGCRA\",\"G18USSRHAW\",\"G18AUDDGAL\",\"G18AUDRMCD\",\"G18AUDLOTO\"]\n",
    "for i in col_list:\n",
    "    precinct_totals = i + \"_x\"\n",
    "    countywide_reported = i+\"_y\"\n",
    "    joined[i]=round(joined[i]+((joined[i]*joined[countywide_reported])/joined[precinct_totals]),0)\n",
    "joined = joined [[\"unique_ID\",\"COUNTYFP\",\"precinct\",\"G18USSDMCC\",\"G18USSIODE\",\"G18AUDGFIT\",\"G18AUDCLUE\",\"G18USSLCAM\",\"G18USSGCRA\",\"G18USSRHAW\",\"G18AUDDGAL\",\"G18AUDRMCD\",\"G18AUDLOTO\"]]\n",
    "joined = joined.append(kc_precincts)"
   ]
  },
  {
   "cell_type": "markdown",
   "metadata": {},
   "source": [
    "### Deal with Empty Precincts"
   ]
  },
  {
   "cell_type": "code",
   "execution_count": 6,
   "metadata": {},
   "outputs": [
    {
     "name": "stdout",
     "output_type": "stream",
     "text": [
      "2161    189MER44\n",
      "Name: unique_ID, dtype: object\n"
     ]
    }
   ],
   "source": [
    "vest_mo_18[\"unique_ID\"]=vest_mo_18[\"COUNTYFP\"]+vest_mo_18[\"NAME\"]\n",
    "vest_empty = vest_mo_18[(vest_mo_18['G18USSRHAW']==0) & (vest_mo_18['G18USSDMCC']==0) &\n",
    "              (vest_mo_18['G18USSLCAM']==0) & (vest_mo_18['G18USSGCRA']==0) &\n",
    "              (vest_mo_18['G18USSIODE']==0) & (vest_mo_18['G18AUDRMCD']==0) &\n",
    "              (vest_mo_18['G18AUDDGAL']==0) & (vest_mo_18['G18AUDLOTO']==0) &\n",
    "              (vest_mo_18['G18AUDGFIT']==0) & (vest_mo_18['G18AUDCLUE']==0)][\"unique_ID\"]\n",
    "\n",
    "joined_empty = joined[(joined['G18USSRHAW']==0) & (joined['G18USSDMCC']==0) &\n",
    "              (joined['G18USSLCAM']==0) & (joined['G18USSGCRA']==0) &\n",
    "              (joined['G18USSIODE']==0) & (joined['G18AUDRMCD']==0) &\n",
    "              (joined['G18AUDDGAL']==0) & (joined['G18AUDLOTO']==0) &\n",
    "              (joined['G18AUDGFIT']==0) & (joined['G18AUDCLUE']==0)][\"unique_ID\"]\n",
    "\n",
    "print(joined_empty.head())"
   ]
  },
  {
   "cell_type": "code",
   "execution_count": 7,
   "metadata": {},
   "outputs": [],
   "source": [
    "#Create empty precincts for empty VEST precincts\n",
    "new_precincts = pd.DataFrame(columns=joined.columns)\n",
    "new_precincts[\"unique_ID\"]=vest_empty\n",
    "col_list = [\"G18USSDMCC\",\"G18USSIODE\",\"G18AUDGFIT\",\"G18AUDCLUE\",\"G18USSLCAM\",\"G18USSGCRA\",\"G18USSRHAW\",\"G18AUDDGAL\",\"G18AUDRMCD\",\"G18AUDLOTO\"]\n",
    "for i in col_list:\n",
    "    new_precincts[i]=0\n",
    "joined = joined.append(new_precincts)"
   ]
  },
  {
   "cell_type": "markdown",
   "metadata": {},
   "source": [
    "### Check election results by joining to VEST final file"
   ]
  },
  {
   "cell_type": "code",
   "execution_count": 8,
   "metadata": {},
   "outputs": [
    {
     "name": "stdout",
     "output_type": "stream",
     "text": [
      "(3242, 15)\n",
      "(3243, 13)\n",
      "both          3242\n",
      "right_only       1\n",
      "left_only        0\n",
      "Name: _merge, dtype: int64\n",
      "3242    189MER44\n",
      "Name: unique_ID, dtype: object\n"
     ]
    }
   ],
   "source": [
    "print(vest_mo_18.shape)\n",
    "print(joined.shape)\n",
    "\n",
    "#Note: Only one county did not join, but it is the empty one from above\n",
    "final_join = pd.merge(vest_mo_18,joined,how=\"outer\",on=\"unique_ID\",indicator=True)\n",
    "print(final_join[\"_merge\"].value_counts())\n",
    "print(final_join[final_join[\"_merge\"]==\"right_only\"][\"unique_ID\"])"
   ]
  },
  {
   "cell_type": "markdown",
   "metadata": {},
   "source": [
    "### Validate Election Results"
   ]
  },
  {
   "cell_type": "code",
   "execution_count": 9,
   "metadata": {},
   "outputs": [
    {
     "name": "stdout",
     "output_type": "stream",
     "text": [
      "New max diff is:  1.0\n",
      "043West Finley\n",
      "New max diff is:  2.0\n",
      "0194K/4M/37\n",
      "There are  3242  total rows\n",
      "1067  of these rows have election result differences\n",
      "2175  of these rows are the same\n",
      "\n",
      "The max difference between any one shared column in a row is:  2.0\n",
      "The average difference is:  1.0192307692307692\n",
      "There are  0 precinct results with a difference greater than 5\n"
     ]
    }
   ],
   "source": [
    "def validater_row (df, column_List):\n",
    "    matching_rows = 0\n",
    "    different_rows = 0\n",
    "    diff_list=[]\n",
    "    diff_values = []\n",
    "    max_diff = 0\n",
    "    \n",
    "    for j in range(0,len(df.index)):\n",
    "        same = True\n",
    "        for i in column_List:\n",
    "            left_Data = i + \"_x\"\n",
    "            right_Data = i + \"_y\"\n",
    "            diff = abs(df.iloc[j][left_Data]-df.iloc[j][right_Data])\n",
    "            if(diff != 0):\n",
    "                diff_values.append(abs(diff))\n",
    "                same = False\n",
    "                if(np.isnan(diff)):\n",
    "                    print(\"NaN value at diff is: \", df.iloc[j]['unique_ID'])\n",
    "                if (diff>max_diff):\n",
    "                    max_diff = diff\n",
    "                    print(\"New max diff is: \", str(max_diff))\n",
    "                    print(df.iloc[j]['unique_ID'])\n",
    "        if(same != True):\n",
    "            different_rows +=1\n",
    "            diff_list.append(df.iloc[j]['unique_ID'])\n",
    "        else:\n",
    "            matching_rows +=1\n",
    "    print(\"There are \", len(df.index),\" total rows\")\n",
    "    print(different_rows,\" of these rows have election result differences\")\n",
    "    print(matching_rows,\" of these rows are the same\")\n",
    "    print(\"\")\n",
    "    print(\"The max difference between any one shared column in a row is: \", max_diff)\n",
    "    if(len(diff_values)!=0):\n",
    "        print(\"The average difference is: \", str(sum(diff_values)/len(diff_values)))\n",
    "    count_big_diff = len([i for i in diff_values if i > 5])\n",
    "    print(\"There are \", str(count_big_diff), \"precinct results with a difference greater than 5\")\n",
    "    diff_list.sort()\n",
    "\n",
    "col_list = [\"G18USSDMCC\",\"G18USSIODE\",\"G18AUDGFIT\",\"G18AUDCLUE\",\"G18USSLCAM\",\"G18USSGCRA\",\"G18USSRHAW\",\"G18AUDDGAL\",\"G18AUDRMCD\",\"G18AUDLOTO\"]\n",
    "validater_row(final_join[final_join[\"_merge\"]==\"both\"],col_list)"
   ]
  },
  {
   "cell_type": "markdown",
   "metadata": {},
   "source": [
    "# Precinct Shapefiles"
   ]
  },
  {
   "cell_type": "markdown",
   "metadata": {},
   "source": [
    "## Precinct Shapefile Sources"
   ]
  },
  {
   "cell_type": "markdown",
   "metadata": {},
   "source": [
    "The documentation mentions 4 different sources for shapefiles:\n",
    "\n",
    "1. Precinct shapefiles primarily from the U.S. Census Bureau's 2020 Redistricting Data Program Phase 2 release.  \n",
    "2. Monroe County comes from the 2010 Census VTD release.  \n",
    "3. Platte County comes from the 2020 Census VTD release.  \n",
    "4. The following counties instead used maps or shapefiles sourced from the respective county governments: Audrain, Bates, Caldwell, Callaway, Camden, Cape Girardeau, Cedar, Cooper, Franklin, Greene, Jackson, Jasper, Jefferson, Laclede, Lafayette, Lawrence, Marion, McDonald, Miller, Nodaway, Osage, Ozark, Pemiscot, Pike, Randolph, Scott, Ste. Genevieve, Texas, Warren, Washington, Worth, Wright.  "
   ]
  },
  {
   "cell_type": "markdown",
   "metadata": {},
   "source": [
    "### 1. U.S. Census Bureau's 2020 Redistricting Data Program Phase 2 release\n",
    "> Precinct shapefiles primarily from the U.S. Census Bureau's 2020 Redistricting Data Program Phase 2 release.\n",
    "\n",
    "https://www.census.gov/geo/partnerships/pvs/partnership19v2/st29_mo.html"
   ]
  },
  {
   "cell_type": "code",
   "execution_count": 10,
   "metadata": {},
   "outputs": [],
   "source": [
    "#When downloading from the Census redistricing data program, these use a FIPS code to identify counties\n",
    "\n",
    "fips_file[\"unique_ID\"] =  \"29\" + fips_file[\"FIPS County\"]\n",
    "fips_codes = fips_file[\"unique_ID\"].tolist()\n",
    "\n",
    "#Combine all the data from separate files into one\n",
    "li = []\n",
    "for i in fips_codes:\n",
    "    ref = \"./raw-from-source/Census/2020_Phase_2/partnership_shapefiles_19v2_\"\n",
    "    file_ref = ref+i+\"/PVS_19_v2_vtd_\"+i+\".shp\"\n",
    "    file_prev = gp.read_file(file_ref)\n",
    "    #print(file_prev.shape)\n",
    "    li.append(file_prev)\n",
    "global shapefiles_census\n",
    "shapefiles_census = pd.concat(li, axis=0, ignore_index=True)"
   ]
  },
  {
   "cell_type": "code",
   "execution_count": 11,
   "metadata": {},
   "outputs": [
    {
     "name": "stdout",
     "output_type": "stream",
     "text": [
      "189CHE018              2\n",
      "189NW006               2\n",
      "037No. 27 - Union      1\n",
      "183Bayfield            1\n",
      "113Birkhead            1\n",
      "                      ..\n",
      "189MER047              1\n",
      "189JEF027              1\n",
      "167Northeast Marion    1\n",
      "189SF006               1\n",
      "189CC060               1\n",
      "Name: unique_ID, Length: 3150, dtype: int64\n"
     ]
    }
   ],
   "source": [
    "county_list = [\"Audrain\", \"Bates\",\"Caldwell\",\"Callaway\",\"Camden\",\"Cape Girardeau\",\"Cedar\",\"Cooper\",\"Franklin\",\"Greene\",\"Jackson\",\"Jasper\",\"Jefferson\", \n",
    "               \"Laclede\", \"Lafayette\",\"Lawrence\", \"Marion\", \"Mcdonald\",\"Miller\",\"Monroe\",\"Nodaway\",\n",
    "               \"Osage\", \"Ozark\", \"Pemiscot\",\"Platte\", \"Pike\", \"Randolph\", \"Scott\",\"Ste Genevieve\", \"Texas\", \"Warren\", \"Washington\", \"Worth\", \"Wright\"]\n",
    "fips_to_take = fips_file[fips_file[\"County Name\"].isin(county_list)]\n",
    "different_source = fips_to_take[\"FIPS County\"].tolist()\n",
    "\n",
    "shapefiles_census = shapefiles_census[~shapefiles_census[\"COUNTYFP\"].isin(different_source)]\n",
    "\n",
    "#Create a unique ID\n",
    "shapefiles_census[\"unique_ID\"] = shapefiles_census[\"COUNTYFP\"]+shapefiles_census[\"NAME\"]\n",
    "shapefiles_census[\"unique_ID\"] = shapefiles_census[\"unique_ID\"].apply(lambda x: x.title() if (x[0:3]!=\"189\" and x[0:3]!=\"510\" and x[0:3]!=\"047\" and x[0:3]!=\"159\" and x[0:3]!=\"051\" and x[0:3]!=\"217\" and x[0:3]!=\"183\" and x[0:3]!=\"009\" ) else x)\n",
    "shapefiles_census[\"unique_ID\"] = shapefiles_census[\"unique_ID\"].str.strip()\n",
    "\n",
    "#Check if unique_ID value is unique\n",
    "print(shapefiles_census[\"unique_ID\"].value_counts())\n",
    "\n",
    "#Filter down election results to just these counties\n",
    "elections_census_shapes = joined[~joined[\"COUNTYFP\"].isin(different_source)]\n",
    "\n"
   ]
  },
  {
   "cell_type": "markdown",
   "metadata": {},
   "source": [
    "### Look into duplicate unique IDs"
   ]
  },
  {
   "cell_type": "markdown",
   "metadata": {},
   "source": [
    "Ultimately, I didn't merge these because VEST didn't specify whether they did or not"
   ]
  },
  {
   "cell_type": "code",
   "execution_count": 12,
   "metadata": {},
   "outputs": [
    {
     "name": "stdout",
     "output_type": "stream",
     "text": [
      "     STATEFP COUNTYFP   VTDST NAMELSAD VTDI LSAD CHNG_TYPE ORIG_NAME  \\\n",
      "3087      29      189  CHE018   CHE018    A   00      None      None   \n",
      "3181      29      189  CH1605   CHE018    A   00      None      None   \n",
      "\n",
      "     ORIG_CODE RELATE    NAME VINTAGE FUNCSTAT JUSTIFY  MTFCC  \\\n",
      "3087      None   None  CHE018      90        N    None  G5240   \n",
      "3181      None   None  CHE018      90        N    None  G5240   \n",
      "\n",
      "                                               geometry  unique_ID  \n",
      "3087  POLYGON Z ((-90.61789 38.66091 0.00000, -90.61...  189CHE018  \n",
      "3181  POLYGON Z ((-90.59452 38.66029 0.00000, -90.59...  189CHE018  \n"
     ]
    },
    {
     "data": {
      "text/plain": [
       "<matplotlib.axes._subplots.AxesSubplot at 0x7fde19a27af0>"
      ]
     },
     "execution_count": 12,
     "metadata": {},
     "output_type": "execute_result"
    },
    {
     "data": {
      "image/png": "[encoded data removed]",
      "text/plain": [
       "<Figure size 432x288 with 1 Axes>"
      ]
     },
     "metadata": {
      "needs_background": "light"
     },
     "output_type": "display_data"
    }
   ],
   "source": [
    "print(shapefiles_census[shapefiles_census[\"unique_ID\"]==\"189CHE018\"])\n",
    "\n",
    "ax = shapefiles_census[shapefiles_census[\"VTDST\"]==\"CHE018\"].plot()\n",
    "shapefiles_census[shapefiles_census[\"VTDST\"]==\"CH1605\"].plot(ax = ax,color=\"orange\")"
   ]
  },
  {
   "cell_type": "code",
   "execution_count": 13,
   "metadata": {},
   "outputs": [
    {
     "name": "stdout",
     "output_type": "stream",
     "text": [
      "     STATEFP COUNTYFP   VTDST NAMELSAD VTDI LSAD CHNG_TYPE ORIG_NAME  \\\n",
      "2943      29      189  0NW006    NW006    A   00      None      None   \n",
      "3897      29      189  NW1604    NW006    A   00      None      None   \n",
      "\n",
      "     ORIG_CODE RELATE   NAME VINTAGE FUNCSTAT JUSTIFY  MTFCC  \\\n",
      "2943      None   None  NW006      90        N    None  G5240   \n",
      "3897      None   None  NW006      90        N    None  G5240   \n",
      "\n",
      "                                               geometry unique_ID  \n",
      "2943  POLYGON Z ((-90.47419 38.78762 0.00000, -90.47...  189NW006  \n",
      "3897  POLYGON Z ((-90.37090 38.80798 0.00000, -90.37...  189NW006  \n",
      "Empty DataFrame\n",
      "Columns: [unique_ID, COUNTYFP, precinct, G18USSDMCC, G18USSIODE, G18AUDGFIT, G18AUDCLUE, G18USSLCAM, G18USSGCRA, G18USSRHAW, G18AUDDGAL, G18AUDRMCD, G18AUDLOTO]\n",
      "Index: []\n"
     ]
    },
    {
     "data": {
      "image/png": "[encoded data removed]",
      "text/plain": [
       "<Figure size 432x288 with 1 Axes>"
      ]
     },
     "metadata": {
      "needs_background": "light"
     },
     "output_type": "display_data"
    }
   ],
   "source": [
    "print(shapefiles_census[shapefiles_census[\"unique_ID\"]==\"189NW006\"])\n",
    "\n",
    "ax = shapefiles_census[shapefiles_census[\"VTDST\"]==\"0NW006\"].plot()\n",
    "shapefiles_census[shapefiles_census[\"VTDST\"]==\"NW1604\"].plot(ax = ax,color=\"orange\")\n",
    "\n",
    "print(elections_census_shapes[elections_census_shapes[\"unique_ID\"]==\"189NW006\"])"
   ]
  },
  {
   "cell_type": "markdown",
   "metadata": {},
   "source": [
    "### Name Changes to Join Election Results to Precincts"
   ]
  },
  {
   "cell_type": "markdown",
   "metadata": {},
   "source": [
    "Note: All name changes and mergers below were determined by examining the names side by side and making changes as necessary. In checking the election results, I sometimes looked at VEST's final file to see what name changes they made if it was not clear."
   ]
  },
  {
   "cell_type": "code",
   "execution_count": 14,
   "metadata": {},
   "outputs": [],
   "source": [
    "census_name_changes_dict = {\"003Savannah Southeast\":\"003Southeast\"\n",
    "                            ,\"003Savannah Southwest\":\"003Southwest\",\n",
    " \"017Drum-Dongola\":\"017Drum Dungola\",\n",
    " \"021Bible Baptist Temple\":\"021Riverside Baptist Church\",\n",
    "'037No. 1 - Sherman':'03701 Sherman',\n",
    "'037No. 7 - Coldwater':'03707 Drexel',\n",
    "'037No. 10 - Grand River':'03710 Grand River Rural',\n",
    "'037No. 11 - Grand River, Ward 1':'03711 Harrisonville Ward 1',\n",
    "'037No. 12 - Grand River, Ward 2':'03712 Harrisonville Ward 2',\n",
    "'037No. 13 - Grand River, Ward 3':'03713 Harrisonville Ward 3',\n",
    "'037No. 14 - Grand River, Ward 4':'03714 Harrisonville Ward 4',\n",
    "'037No. 19 - Polk':'03719 Polk',\n",
    "'037No. 20 - Pleasant Hill':'03720 Pleasant Hill',\n",
    "'037No. 21 - Pleasant Hill':'03721 Pleasant Hill East',\n",
    "'037No. 22 - Pleasant Hill':'03722 Pleasant Hill',\n",
    "'037No. 23 - Pleasant Hill':'03723 Pleasant Hill Rural',\n",
    "'037No. 24 - Peculiar':'03724 Peculiar Rural',\n",
    "'037No. 25 - West Peculiar':'03725 West Peculiar Rural',\n",
    "'037No. 26 - West Peculiar':'03726 West Peculiar City',\n",
    "'037No. 27 - Union':'03727 Union',\n",
    "'037No. 28 - Big Creek':'03728 Big Creek Rural',\n",
    "'037No. 29 - Big Creek':'03729 Winnebago',\n",
    "'037No. 30 - Raymore':'03730 Raymore Rural',\n",
    "'037No. 31 - Raymore, Ward 3':'03731 Raymore Ward 3',\n",
    "'037No. 32 - Raymore, Ward 2':'03732 Raymore Ward 2',\n",
    "'037No. 33 - Raymore, Ward 2':'03733 Raymore Ward 2',\n",
    "'037No. 34 - Raymore, Wards 3 & 4':'03734 Raymore Wards 3 & 4',\n",
    "'037No. 35 - Raymore, Ward 4':'03735 Raymore Ward 4',\n",
    "'037No. 36 - Kansas City':'03736 Mt Pleasant Rural',\n",
    "'037No. 37 - Mt Pleasant':'03737 Pleasant Prairie',\n",
    "'037No. 38 - Mt Pleasant, NE Ward 1':'03738 Belton NE Ward 1',\n",
    "'037No. 39 - Mt Pleasant, NE Ward 1':'03739 Belton NE Ward 1',\n",
    "'037No. 40 - Mt Pleasant, NW Ward 2':'03740 Belton NW Ward 2',\n",
    "'037No. 41 - Mt Pleasant, NW Ward 2':'03741 Belton NW Ward 2',\n",
    "'037No. 42 - Mt Pleasant, SW Ward 3':'03742 Belton SW Ward 3',\n",
    "'037No. 43 - Mt Pleasant, SW Ward 3':'03743 Belton SW Ward 3',\n",
    "'037No. 44 - Mt Pleasant, SW Ward 4':'03744 Belton SW Ward 4',\n",
    "'037No. 45 - Mt Pleasant, SE Ward 4':'03745 Belton SE Ward 4',\n",
    "'037No. 46 - Mt Pleasant':'03746 East Creek',\n",
    "'037No. 47 - Raymore, Ward 1':'03747 Raymore Ward 1',\n",
    "'145Neosho No. 3':'145Neosho #3',\n",
    " \"043Cassidy\":\"043Cassidy 1\",\"510ST 1-4\":\"510STL 1-4\",\n",
    "'181Flatwoods & Johnson P2 & Washington':'181Flatwoods/Johnson P2/Washington',\n",
    "'181Gatewood & Union':'181Gatewood/Union',\n",
    "'181Harris & Varner P1':'181Harris/Varner P1',\n",
    "'181Shirley & Kelly & Pine':'181Shirley/Kelly/Pine',\n",
    "'181Thomas & Varner P2':'181Thomas/Varner P2'}\n",
    "\n",
    "\n",
    "shapefiles_census[\"unique_ID\"] = shapefiles_census[\"unique_ID\"].map(census_name_changes_dict).fillna(shapefiles_census[\"unique_ID\"])\n"
   ]
  },
  {
   "cell_type": "code",
   "execution_count": 15,
   "metadata": {},
   "outputs": [],
   "source": [
    "#Get CRS and cut down columns\n",
    "shapefiles_census_crs = shapefiles_census.crs\n",
    "shapefiles_census = shapefiles_census[['geometry', 'unique_ID']]"
   ]
  },
  {
   "cell_type": "markdown",
   "metadata": {},
   "source": [
    "### Precinct Merger Code"
   ]
  },
  {
   "cell_type": "code",
   "execution_count": 16,
   "metadata": {},
   "outputs": [],
   "source": [
    "dict_func_calls = {'03716 East Lynne/18 Gunn City':[\"037No. 16 - Camp Branch\",\"037No. 18 - Index\"],\n",
    "'03702 Dayton/03 Garden City/15 Camp Branch/17 Index':['037No. 2 - Dayton','037No. 3 - Garden City','037No. 15 - Camp Branch','037No. 17 - Index'],\n",
    "'03704 Austin/05 Archie/06 Everett':[\"037No. 4 - Austin\",\"037No. 5 - Austin\",\"037No. 6 - Everett\"],\n",
    "'03708 West Dolan/09 Dolan':[\"037No. 8 - West Dolan\",\"037No. 9 - Dolan\"],\n",
    "'1591st Ward':['1591st Ward 1st Precinct','1591st Ward 2nd Precinct','1591st Ward 3rd Precinct'],\n",
    "'1592nd Ward':['1592nd Ward 3rd Precinct','1592nd Ward 1st Precinct','1592nd Ward 2nd Precinct'],\n",
    "'1593rd Ward':['1593rd Ward 1st Precinct','1593rd Ward 2nd Precinct','1593rd Ward 3rd Precinct'],\n",
    "'1594th Ward':['1594th Ward 1st Precinct','1594th Ward 2nd Precinct','1594th Ward 3rd Precinct'],\n",
    "'159Smithton W BP/Smithton E & W/Lake Creek':['159Smithton E & W/Lake Creek','159Smithton W BP' ],\n",
    "'181Poynor/Current River/West Doniphan/Doniphan P1/Doniphan P2':['181Doniphan P1 & Doniphan P2','181Poynor & Current River & West Doniphan'],\n",
    "'185Appleton':['185Appleton No. 1','185Appleton No. 2'],\n",
    "'185Butler':['185Butler East','185Butler West'],\n",
    "'185Collins/Washington':['185Collins','185Washington'],\n",
    "'185Dallas/Doyal':['185Dallas','185Doyal'],\n",
    "'185Monegaw/Osage':['185Monegaw','185Osage'],\n",
    "'185Osceola/Polk':['185Osceola East','185Osceola West','185Polk'],\n",
    "'185Center/Roscoe':[ '185Center','185Roscoe'],\n",
    "'185Speedwell/Taber':['185Speedwell','185Taber'],\n",
    "'187Farmington No. 4/Busiek':['187Busiek','187Farmington No. 4'],\n",
    "'197Coffey/Downing':['197Coffey','197Downing'],\n",
    "'197North Liberty/Coatsville/Glenwood/South Liberty':['197Coatsville','197Glenwood','197North Liberty','197South Liberty'],\n",
    "'197East Prairie/West Prairie':['197East Prairie','197West Prairie'],\n",
    "'203Spring Creek/Birch Tree/Bartlett':['203Spring Creek','203Bartlett','203Birch Tree'],\n",
    "'203Eminence/Delaware':['203Delaware','203Eminence'],\n",
    "'205BETHEL/TIGER FORK':['205Bethel/Tiger Fork',],\n",
    "'207Bloomfield Ward No. 1/2':['207Bloomfield Ward No. 2','207Bloomfield Ward No. 1'],\n",
    "'211Green City/Pennville':['211Green City','211Pennville'],\n",
    "'211Taylor/Humphreys':['211Taylor','211Humphreys'],\n",
    "'211Pollock/Boynton':['211Boynton','211Pollock'],\n",
    "'211South Polk/Reger/Pleasant Hill':['211Reger','211South Polk','211Pleasant Hill'],\n",
    "'211West Polk/Asbury':['211West Polk','211Asbury'],\n",
    "\"223Peach Tree/Piedmont Ward 1/Ward 2\":['223Peach Tree','223Piedmont Ward No. 1','223Piedmont Ward No. 2'],\n",
    "\"223Wappapello/McGee/Shook\":['223Wappapello','223McGee','223Shook'],\n",
    "\"223Coldwater/Greenville/Silva\":['223Coldwater','223Greenville','223Silva'],\n",
    "\"223Cool Springs/Chaonia\":['223Chaonia','223Cool Springs'],\n",
    "\"223Lowndes/Hiram\":['223Lowndes','223Hiram'],\n",
    "\"223Patterson/Brunot/Smith Mill\":['223Patterson','223Smith Mill','223Brunot'],\n",
    "\"223Cascade/Clubb\":['223Clubb','223Cascade'],\n",
    "\"225East Ozark/Northview A\":[\"225Northview A\",\"225East Ozark\"],\n",
    "\"225Finley/Hazelwood\":[\"225Finley\",\"225Hazelwood\"],\n",
    "\"225Niangua/Union\":[\"225Niangua\",\"225Union\"],\n",
    "\"225Washington/Grant\":[\"225Washington\",\"225Grant\"]}"
   ]
  },
  {
   "cell_type": "code",
   "execution_count": 17,
   "metadata": {},
   "outputs": [],
   "source": [
    "def precinct_merger(precinct_list,new_precinct):\n",
    "    global shapefiles_census\n",
    "    prec_holder = []\n",
    "    for i in precinct_list:\n",
    "        prec_holder.append(shapefiles_census.loc[shapefiles_census[\"unique_ID\"]==i])\n",
    "    new_geom = pd.concat(prec_holder, ignore_index=True).unary_union\n",
    "    new_prec = gp.GeoDataFrame(geometry=[new_geom],columns=[\"geometry\",\"unique_ID\"],crs = shapefiles_census_crs)\n",
    "    new_prec[\"unique_ID\"]=new_precinct\n",
    "    shapefiles_census = shapefiles_census.append(new_prec)\n",
    "    shapefiles_census = shapefiles_census[~shapefiles_census[\"unique_ID\"].isin(precinct_list)]\n",
    "\n",
    "for val in dict_func_calls:\n",
    "    precinct_merger(dict_func_calls[val],val)"
   ]
  },
  {
   "cell_type": "code",
   "execution_count": 18,
   "metadata": {},
   "outputs": [],
   "source": [
    "county_fips_code_list = [\"003\",\"009\",\"015\",\"017\",\"019\",\"035\",\"043\",\"143\",\"189\"]\n",
    "filtered_census = elections_census_shapes[elections_census_shapes[\"unique_ID\"].str[0:3].isin(county_fips_code_list)][\"unique_ID\"]\n",
    "for val in filtered_census:\n",
    "    if \"/\" in val:\n",
    "        pieces = val.split(\"/\")\n",
    "        fips = pieces[0][0:3]\n",
    "        holder = []\n",
    "        holder.append(pieces[0])\n",
    "        for i in range(1,len(pieces)):\n",
    "            holder.append(fips+pieces[i])\n",
    "        precinct_merger(holder,val)"
   ]
  },
  {
   "cell_type": "code",
   "execution_count": 19,
   "metadata": {},
   "outputs": [
    {
     "name": "stdout",
     "output_type": "stream",
     "text": [
      "both          2088\n",
      "right_only     337\n",
      "left_only      171\n",
      "Name: _merge, dtype: int64\n"
     ]
    }
   ],
   "source": [
    "#Attempt to join on the \"unique_ID\" column\n",
    "census_join = pd.merge(elections_census_shapes,shapefiles_census,how=\"outer\",on=\"unique_ID\",indicator=True)\n",
    "print(census_join[\"_merge\"].value_counts())\n",
    "#census_join[census_join[\"_merge\"]==\"left_only\"].to_csv(\"./census_join/election.csv\")\n",
    "#census_join[census_join[\"_merge\"]==\"right_only\"].to_csv(\"./census_join/shapes.csv\")"
   ]
  },
  {
   "cell_type": "markdown",
   "metadata": {},
   "source": [
    "Documentation (modifications not attempted)\n",
    "--------\n",
    "\n",
    "Precinct mergers were made in the following counties to match county reporting units: \n",
    "- Andrew: Precinct mergers to match county reporting units\n",
    "- Barry: Precinct mergers to match county reporting units\n",
    "- Barry: Add Monett City; Align Cassville with corporate boundary\n",
    "- Barton: Adjust Lamar ward boundaries to match city map\n",
    "- Benton: Precinct mergers to match county reporting units\n",
    "- Bollinger: Precinct mergers to match county reporting units\n",
    "- Bollinger: Adjust Patton/Sedgewickville to match county GIS\n",
    "- Butler: Align Poplar Bluff with corporate boundary and adjust wards to match city map\n",
    "- Boone: Precinct mergers to match county reporting units\n",
    "- Carroll: Precinct mergers to match county reporting units\n",
    "- Carroll: Adjust Carrollton City wards to match voter file\n",
    "- Carter: Precinct mergers to match county reporting units\n",
    "- Cass: Precinct mergers to match county reporting units\n",
    "- Cass: Align Belton, Pleasant Hill, Raymore precincts with corporate boundaries; Adjust 37 Pleasant Prairie/25 West Peculiar Rural\n",
    "- Chariton: Adjust Salisbury wards to match city map\n",
    "- Christian: Revise Cassidy 1/Cassidy 2; Reverse Nixa City annexation into Rosedale 1B\n",
    "- Christian: Precinct mergers to match county reporting units\n",
    "- Clark: Precinct mergers to match county reporting units\n",
    "- Clay: Adjust Excelsior Springs, Kearney, Smithville precincts to match 2018 ward and corporate boundaries; Adjust KC 21-1/15, 21-1/17, 21-3/11, 21-4/6, 21-4/11, 21-5/7/24, 21-6/24, 21-7/20, 21-13/26, 21-14/23, 21-17/16, 21-17/26, 21-17/Platte 1, Gallatin 7/16, 10/13, 10/16, 11/15, 13/15, Kearney 3/Platte 2, Liberty 1/10, 6/13, 7/11, 11/14, Washington 1/3 to match voter file\n",
    "- Clinton: Align Atchison/Concord, Jackson/Lathrop with 2018 precinct split assignments\n",
    "- Cole: Precinct mergers to match county reporting units\n",
    "- Cole: Adjust Marion Twp St Martins to include St Martins city in Jefferson Twp\n",
    "- Crawford: Move Benton Twp section of Leasburg precinct from Recklein to Leasburg\n",
    "- Crawford: Precinct mergers to match county reporting units\n",
    "- Dade: Realign Greenfield wards to match municipal code\n",
    "- Dallas: Split N Benton Inside/OCL, S Benton Inside/OCL; Align N/S Benton with Buffalo ward map\n",
    "- Dallas: Precinct mergers to match county reporting units\n",
    "- Dekalb: Precinct mergers to match county reporting units\n",
    "- Dent: Split Boss precinct from R-4 precinct; Adjust R-2/R-3 boundary\n",
    "- Douglas: Precinct mergers to match county reporting units\n",
    "- Dunklin: Precinct mergers to match county reporting units\n",
    "- Dunklin: Align Holcomb, Rives with township boundaries; Adjust Arbyrd/Senath; Align Kennett wards with city map\n",
    "- Gasconade: Align Hermann, Owensville, Rosebud with corporate boundaries and ward descriptions\n",
    "- Gentry: Precinct mergers to match county reporting units\n",
    "- Grundy: Precinct mergers to match county reporting units\n",
    "- Holt: Precinct mergers to match county reporting units\n",
    "- Holt: Split West between Central/Northwest by school district\n",
    "- Howard: Precinct mergers to match county reporting units\n",
    "- Howell: Precinct mergers to match county reporting units\n",
    "- Howell: Align West Plains precincts with 2018 corporate boundary\n",
    "- Iron: Adjust Annapolis/Des Arc/Vulcan, Ironton/Pilot Knob\n",
    "- Johnson: Adjust Warrensburg NE/NW boundary to match county maps\n",
    "- Johnson: Precinct mergers to match county reporting units\n",
    "- Lewis: Split LaBelle Twp between LaBelle FS/Lewistown FS with PLSS grid\n",
    "- Lincoln: Align Moscow Mills, Troy with 2018 corporate boundaries; Adjust Briscoe/Troy Rural\n",
    "- Linn: Precinct mergers to match county reporting units\n",
    "- Linn: Split Brookfield Township between Brookfield 1&2/3&4\n",
    "- Livingston: Align Chillicothe with 2018 corporate boundaries\n",
    "- Livingston: Precinct mergers to match county reporting units\n",
    "- Macon: Align Macon City wards with corporate boundaries\n",
    "- Madison: Align Fredericktown wards with corporate boundaries\n",
    "- Mercer: Precinct mergers to match county reporting units\n",
    "- Mississippi: Precinct mergers to match county reporting units\n",
    "- Mississippi: Adjust Bertrand/East Prairie Rural; Align East Prairie City with corporate boundary\n",
    "- Moniteau: Precinct mergers to match county reporting units\n",
    "- Montgomery: Align Bellflower/Middletown, Big Spring/Rhineland with voter file\n",
    "- Morgan: Adjust Versaille North/South boundary to match county GIS\n",
    "- Morgan: Precinct mergers to match county reporting units\n",
    "- New Madrid: Precinct mergers to match county reporting units\n",
    "- New Madrid: Add New Madrid City wards; Add Big Prairie 4 precinct; Move Portageville Ward 1 to Portage 1\n",
    "- Newton: Align Staples precincts with Joplin City GIS boundaries; Align Neosho precincts with Neosho City GIS boundaries; Adjust Newtonia/Ritchey Wentworth\n",
    "- Oregon: Precinct mergers to match county reporting units\n",
    "- Pettis: Precinct mergers to match county reporting units\n",
    "- Pettis: Adjust Sedalia City wards to match city map\n",
    "- Phelps: Align St. James ward boundaries with city map\n",
    "- Phelps: Precinct mergers to match county reporting units\n",
    "- Polk: Precinct mergers to match county reporting units\n",
    "- Polk: Split Campbell/Jefferson precincts by school district\n",
    "- Putnam: Split Union Twp into NE/SW precincts to match county map\n",
    "- Putnam: Precinct mergers to match county reporting units\n",
    "- Pulaski: Adjust Big Piney/St. Roberts, Laquey/Waynesville\n",
    "- Ralls: Precinct mergers to match county reporting units\n",
    "- Ralls: Replace Center/Liberty precincts with 2010 VTDs\n",
    "- Ray: Adjust Richmond City wards, Homestead Village/Wood Heights/Lawson, Richmond/Orrick\n",
    "- Ray: Precinct mergers to match county reporting units\n",
    "- Reynolds: Realign precincts countywide to match voter file\n",
    "- Ripley: Precinct mergers to match county reporting units\n",
    "- Saline: Split Nelson precinct from Hardeman precinct; Adjust Marshall Ward 2/3 boundary\n",
    "- St. Charles: Adjust Brian/Ridgepoint, Civic/St. Paul, Harvester/Sycamore, Mamelle/Marina\n",
    "- St. Clair: Precinct mergers to match county reporting units\n",
    "- St. Francois: Precinct mergers to match county reporting units\n",
    "- St. Francois: Align Desloge, Farmington, Park Hills with corporate boundaries and city ward maps; Adjust Bonne Terre/Timberline, Patterson/Timberline, Leadwood/Park Hills to match voter file\n",
    "- St. Louis: Precinct mergers to match county reporting units\n",
    "- St. Louis: Add UNV044 precinct; Split NRW011/NRW052\n",
    "- Schuyler: Precinct mergers to match county reporting units\n",
    "- Shannon: Precinct mergers to match county reporting units\n",
    "- Shannon: Align all precincts with county GIS and voter file\n",
    "- Shelby: Precinct mergers to match county reporting units\n",
    "- Shelby: Adjust Jackson/North River to match voter file\n",
    "- Stoddard: Precinct mergers to match county reporting units\n",
    "- Stoddard: Align Advance, Bernie, Bloomfield, Dexter, Puxico with corporate boundaries; Adjust Advance/Leora, Bernie/Dexter/Pyle, Bloomfield/Gray Ridge\n",
    "- Stone: Move Branson West from Ruth A to Ruth C; Split Ruth C Rural/Sunset Cove; Adjust Ruth B City/Rural to match county GIS\n",
    "- Sullivan: Precinct mergers to match county reporting units\n",
    "- Taney: Adjust Boston Center/Walnut Shade; Align Branson wards with 2018 corporate boundary\n",
    "- Vernon: Align Bronaugh/Moundville, Harwood/Schell City, Deerfield/NG Armory with voter file\n",
    "- Wayne: Precinct mergers to match county reporting units\n",
    "- Webster: Precinct mergers to match county reporting units\n",
    "\n",
    "\n",
    "\n"
   ]
  },
  {
   "cell_type": "markdown",
   "metadata": {},
   "source": [
    "### 2. 2010 Census VTD release\n",
    ">Monroe County comes from the 2010 Census VTD release.\n",
    "\n",
    "https://www.census.gov/cgi-bin/geo/shapefiles/index.php?year=2010&layergroup=Voting+Districts"
   ]
  },
  {
   "cell_type": "code",
   "execution_count": 20,
   "metadata": {},
   "outputs": [],
   "source": [
    "monroe_shape = gp.read_file(\"./raw-from-source/Census/2010_VTD/tl_2010_29137_vtd10/tl_2010_29137_vtd10.shp\")"
   ]
  },
  {
   "cell_type": "markdown",
   "metadata": {},
   "source": [
    "### 3. 2020 Census VTD release\n",
    ">Platte County comes from the 2020 Census VTD release.\n",
    "\n",
    "https://www.census.gov/geographies/mapping-files/time-series/geo/tiger-line-file.2020.html"
   ]
  },
  {
   "cell_type": "code",
   "execution_count": 21,
   "metadata": {},
   "outputs": [
    {
     "data": {
      "text/plain": [
       "<matplotlib.axes._subplots.AxesSubplot at 0x7fde190f1130>"
      ]
     },
     "execution_count": 21,
     "metadata": {},
     "output_type": "execute_result"
    },
    {
     "data": {
      "image/png": "[encoded data removed]",
      "text/plain": [
       "<Figure size 432x288 with 1 Axes>"
      ]
     },
     "metadata": {
      "needs_background": "light"
     },
     "output_type": "display_data"
    }
   ],
   "source": [
    "platte_shape = gp.read_file(\"./raw-from-source/Census/2020_VTD/tl_2020_29_all/tl_2020_29165_vtd20.shp\")\n",
    "platte_shape.plot()"
   ]
  },
  {
   "cell_type": "markdown",
   "metadata": {},
   "source": [
    "- Platte: Precinct mergers to match county reporting units\n",
    "- Platte: Align Lake Waukomis, Parkville, Platte City, Riverside/Northmore, Weatherby Lake with corporate boundaries; Adjust Platte Hills/Park Hill, Seven Bridges/Shiloh"
   ]
  },
  {
   "cell_type": "markdown",
   "metadata": {},
   "source": [
    "### 4. Counties themselves\n",
    "> The following counties instead used maps or shapefiles sourced from the respective county governments:  \n",
    "Audrain, Bates, Caldwell, Callaway, Camden, Cape Girardeau, Cedar, Cooper, Franklin, Greene, Jackson, Jasper, Jefferson, Laclede, Lafayette, Lawrence, Marion, McDonald, Miller, Nodaway, Osage, Ozark, Pemiscot, Pike, Randolph, Scott, Ste. Genevieve, Texas, Warren, Washington, Worth, Wright.  "
   ]
  },
  {
   "cell_type": "markdown",
   "metadata": {},
   "source": [
    "Able to find shapefiles for Camden, Cooper, Marion, Lafayette, Laclede, Jasper, Bates, Audrain.  \n",
    "\n",
    "Of these, only Jasper came in shapefile format. The others came in tif formats that I was unable to load into this notebook without digitizing."
   ]
  },
  {
   "cell_type": "code",
   "execution_count": 22,
   "metadata": {},
   "outputs": [
    {
     "name": "stdout",
     "output_type": "stream",
     "text": [
      "(74, 10)\n"
     ]
    }
   ],
   "source": [
    "jasper_shape = gp.read_file(\"./raw-from-source/Counties/Jasper/Voting_Precincts_2020-shp/Voting_Precincts_2020.shp\")\n",
    "print(jasper_shape.shape)"
   ]
  },
  {
   "cell_type": "markdown",
   "metadata": {},
   "source": [
    "- Audrain: https://audraingis.integritygis.com/H5/Index.html?viewer=audrain\n",
    "- Bates: https://batesgis.integritygis.com/H5/Index.html?viewer=bates\n",
    "- Caldwell: can't find\n",
    "- Callaway: can't find\n",
    "- Camden: https://camdengis.integritygis.com/H5/Index.html?viewer=camden\n",
    "- Cape Girardeau: only pdf (https://capecountyelections.com/wp-content/uploads/2019/06/Voter_Precincts.pdf)\n",
    "- Cedar: can't find\n",
    "- Cooper: https://coopergis.integritygis.com/H5/Index.html?viewer=cooper\n",
    "- Franklin: can't find\n",
    "- Greene: not available (https://www.greenecountyassessor.org/assessor/maps/mapadv.aspx)\n",
    "- Jackson: not downloadable (https://jcebmo.org/wp-content/uploads/JACKSON-COUNTY-TOWNSHIPS-PRECINCTS.pdf)\n",
    "- Jasper: https://jaspercountymogisintiatives-jcmo.hub.arcgis.com/datasets/voting-precincts-2020\n",
    "- Jefferson: can't find\n",
    "- Laclede: https://lacledegis.integritygis.com/H5/Index.html?viewer=laclede\n",
    "- Lafayette: https://lafayettegis.integritygis.com/H5/Index.html?viewer=lafayette\n",
    "- Lawrence: not downloadable (https://www.lawrencecountymo.org/elections)\n",
    "- Marion: https://mariongis.integritygis.com/H5/Index.html?viewer=marion_public\n",
    "- McDonald: can't find\n",
    "- Miller: not available (https://millergis.integritygis.com/H5/Index.html?viewer=miller)\n",
    "- Nodaway: can't find\n",
    "- Osage: can't find\n",
    "- Ozark: can't find\n",
    "- Pemiscot: can't find\n",
    "- Pike: can't find\n",
    "- Randolph: can't find\n",
    "- Scott: not downloadable https://www.arcgis.com/apps/webappviewer/index.html?id=73de0cc0034040a5b8b0f5988a643164\n",
    "- Ste. Genevieve: can't find\n",
    "- Texas: can't find\n",
    "- Warren: not downloadable (https://www.arcgis.com/apps/webappviewer/index.html?id=edfaf72f348b4ea28a959815d82dfe86)\n",
    "- Washington: can't find\n",
    "- Worth: can't find\n",
    "- Wright: can't find"
   ]
  },
  {
   "cell_type": "markdown",
   "metadata": {},
   "source": [
    "### Shapefile Modifications\n",
    "\n",
    "- Audrain: Precinct mergers to match county reporting units\n",
    "- Audrain: Add Vandalia City; Align Mexico precincts with municipal code\n",
    "  \n",
    "- Callaway: Align Fulton, Holts Summit precincts with 2018 corporate boundaries\n",
    "- Callaway: Precinct mergers to match county reporting units\n",
    "\n",
    "- Camden: Precinct mergers to match county reporting units\n",
    "\n",
    "- Cape Girardeau: Precinct mergers to match county reporting units\n",
    "\n",
    "- Cooper: Precinct mergers to match county reporting units\n",
    "\n",
    "- Franklin: Split Dry Branch between Stanton & St. Clair Out of Town\n",
    "- Franklin: Precinct mergers to match county reporting units\n",
    "\n",
    "- Greene: Precinct mergers to match county reporting units\n",
    "\n",
    "- Jackson: Precinct mergers to match county reporting units\n",
    "\n",
    "- Jasper: Precinct mergers to match county reporting units\n",
    "- Jasper: Realign Carthage 2/3, Joplin 1/7, 10/13, 10/15, 13/22, Oronogo 1/2, Webb City 1/4 to match city ward maps\n",
    "\n",
    "- Jefferson: Precinct mergers to match county reporting units\n",
    "- Jefferson: Split Festus Ward 1 P1/P2, Ward 3 P1/P2, Ward 4 P1/P2; Adjust Crystal City/Riverview\n",
    "\n",
    "- Marion: Precinct mergers to match county reporting units\n",
    "- Marion: Split Fabius-Smileyville/Taylor, Warren-Monroe City/Warren; Align Hannibal wards with voter file\n",
    "\n",
    "- Miller: Adjust all precinct boundaries to match voter file\n",
    "\n",
    "- Nodaway: Precinct mergers to match county reporting units\n",
    "\n",
    "- Osage: Precinct mergers to match county reporting units\n",
    "\n",
    "- Pemiscot: Precinct mergers to match county reporting units\n",
    "\n",
    "- Pike: Adjust Cuivre JL boundaries with Ashley NO, Buffalo E, Prairieville I\n",
    "\n",
    "- Randolph: Precinct mergers to match county reporting units\n",
    "\n",
    "- Scott: Adjust Haywood City/Morley, Sikeston Ward 1/McMullin/Vanduser\n",
    "\n",
    "- Warren: Precinct mergers to match county reporting units\n",
    "\n",
    "- Washington: Adjust City Hall/Stony Point, Cruise/Richwoods to match county GIS\n",
    "\n",
    "- Worth: Precinct mergers to match county reporting units"
   ]
  },
  {
   "cell_type": "markdown",
   "metadata": {},
   "source": [
    "### Attempt to join election results to precincts from these 3 counties"
   ]
  },
  {
   "cell_type": "code",
   "execution_count": 23,
   "metadata": {},
   "outputs": [],
   "source": [
    "#Platte County\n",
    "platte_shape[\"unique_ID\"] = \"165\"+platte_shape[\"NAME20\"]\n",
    "platte_shape[\"unique_ID\"] = platte_shape[\"unique_ID\"].str.strip()\n",
    "platte_shape = platte_shape[[\"unique_ID\",\"geometry\"]]\n",
    "\n",
    "#Monroe County\n",
    "monroe_shape[\"unique_ID\"] = \"137\"+monroe_shape[\"NAME10\"]\n",
    "monroe_shape[\"unique_ID\"] = monroe_shape[\"unique_ID\"].str.strip()\n",
    "monroe_shape = monroe_shape[[\"unique_ID\",\"geometry\"]]\n",
    "\n",
    "#Jasper County\n",
    "jasper_shape[\"unique_ID\"] = \"097\"+jasper_shape[\"Precinct\"]\n",
    "jasper_shape[\"unique_ID\"] = jasper_shape[\"unique_ID\"].str.strip()\n",
    "jasper_shape = jasper_shape[[\"unique_ID\",\"geometry\"]]\n",
    "\n",
    "#Create a merged dataframe with these 3\n",
    "counties_shapes = pd.concat([platte_shape,monroe_shape,jasper_shape], axis=0, ignore_index=True)\n",
    "\n",
    "county_list = [\"Platte\", \"Monroe\",\"Jasper\"]\n",
    "fips_to_take = fips_file[fips_file[\"County Name\"].isin(county_list)]\n",
    "different_source = fips_to_take[\"FIPS County\"].tolist()\n",
    "elections_counties_shapes =  joined[joined[\"COUNTYFP\"].isin(different_source)]"
   ]
  },
  {
   "cell_type": "markdown",
   "metadata": {},
   "source": [
    "### Precinct name change and merger code"
   ]
  },
  {
   "cell_type": "code",
   "execution_count": 24,
   "metadata": {},
   "outputs": [],
   "source": [
    "def precinct_merger_2(precinct_list,new_precinct):\n",
    "    global counties_shapes\n",
    "    prec_holder = []\n",
    "    for i in precinct_list:\n",
    "        prec_holder.append(counties_shapes.loc[counties_shapes[\"unique_ID\"]==i])\n",
    "    new_geom = pd.concat(prec_holder, ignore_index=True).unary_union\n",
    "    new_prec = gp.GeoDataFrame(geometry=[new_geom],columns=[\"geometry\",\"unique_ID\"],crs = shapefiles_census_crs)\n",
    "    new_prec[\"unique_ID\"]=new_precinct\n",
    "    counties_shapes = counties_shapes.append(new_prec)\n",
    "    counties_shapes = counties_shapes[~counties_shapes[\"unique_ID\"].isin(precinct_list)]"
   ]
  },
  {
   "cell_type": "code",
   "execution_count": 25,
   "metadata": {},
   "outputs": [],
   "source": [
    "name_changes = {\"097Duenweg Ward 2\":\"097Duenweg\",'097Jackson West_new':'097Jackson West',\"137Monroe City 1, 2, & 3/Indian Creek 4\":\"137Monroe City 1 & 2 & 3/Indian Creek 4\",\"165South-East 37\":\"165Southeast 27\"}\n",
    "dict_func_calls = {'097Carterville Wards 1-4':[\"097Carterville - Ward 1\",\"097Carterville - Ward 2\",\"097Carterville - Ward 3\",\"097Carterville - Ward 4\"],\n",
    "                  '097Sarcoxie 1-2':['097Sarcoxie 2','097Sarcoxie 1'],\n",
    "                  '097Jackson West_new':['097Jackson West']}\n",
    "\n",
    "for val in dict_func_calls:\n",
    "    precinct_merger_2(dict_func_calls[val],val)\n",
    "    \n",
    "    \n",
    "#First call on dict_func, then 097, contains \"/\"\n",
    "counties_shapes[\"unique_ID\"] = counties_shapes[\"unique_ID\"].map(name_changes).fillna(counties_shapes[\"unique_ID\"])"
   ]
  },
  {
   "cell_type": "code",
   "execution_count": 26,
   "metadata": {},
   "outputs": [],
   "source": [
    "county_fips_code_list = [\"097\",\"165\"]\n",
    "filtered_census = elections_counties_shapes[elections_counties_shapes[\"unique_ID\"].str[0:3].isin(county_fips_code_list)][\"unique_ID\"]\n",
    "for val in filtered_census:\n",
    "    if \"/\" in val:\n",
    "        pieces = val.split(\"/\")\n",
    "        fips = pieces[0][0:3]\n",
    "        holder = []\n",
    "        holder.append(pieces[0])\n",
    "        for i in range(1,len(pieces)):\n",
    "            holder.append(fips+pieces[i])\n",
    "            #print(holder)\n",
    "        precinct_merger_2(holder,val)"
   ]
  },
  {
   "cell_type": "code",
   "execution_count": 27,
   "metadata": {},
   "outputs": [
    {
     "name": "stdout",
     "output_type": "stream",
     "text": [
      "both          81\n",
      "right_only     0\n",
      "left_only      0\n",
      "Name: _merge, dtype: int64\n",
      "097Tuckahoe                                   1\n",
      "097Pine/Prairie Star                          1\n",
      "165Parkville 5                                1\n",
      "097Duenweg                                    1\n",
      "165Prairie Point 2/Tiffany Springs 32         1\n",
      "                                             ..\n",
      "097Joplin 22/Joplin 24                        1\n",
      "165Seven Bridges 44                           1\n",
      "165Northern Heights 35                        1\n",
      "137Monroe City 1 & 2 & 3/Indian Creek 4       1\n",
      "165Beverly 16/Tracy 17/Settle's Station 28    1\n",
      "Name: unique_ID, Length: 81, dtype: int64\n"
     ]
    }
   ],
   "source": [
    "#Attempt to join on the \"unique_ID\" column\n",
    "county_join = pd.merge(elections_counties_shapes,counties_shapes,how=\"outer\",on=\"unique_ID\",indicator=True)\n",
    "print(county_join[\"_merge\"].value_counts())\n",
    "print(county_join[county_join[\"_merge\"]==\"both\"][\"unique_ID\"].value_counts())\n",
    "#county_join[county_join[\"_merge\"]==\"left_only\"].to_csv(\"./county_join/election.csv\")\n",
    "#county_join[county_join[\"_merge\"]==\"right_only\"].to_csv(\"./county_join/shapes.csv\")"
   ]
  },
  {
   "cell_type": "markdown",
   "metadata": {},
   "source": [
    "## Validation of precincts with election results + shapefiles"
   ]
  },
  {
   "cell_type": "code",
   "execution_count": 28,
   "metadata": {},
   "outputs": [
    {
     "name": "stdout",
     "output_type": "stream",
     "text": [
      "(2169, 15)\n"
     ]
    }
   ],
   "source": [
    "li = [county_join[county_join[\"_merge\"]==\"both\"],census_join[census_join[\"_merge\"]==\"both\"]]\n",
    "final_source = gp.GeoDataFrame(pd.concat(li))\n",
    "print(final_source.shape)"
   ]
  },
  {
   "cell_type": "code",
   "execution_count": 29,
   "metadata": {},
   "outputs": [
    {
     "name": "stdout",
     "output_type": "stream",
     "text": [
      "both          2169\n",
      "left_only     1073\n",
      "right_only       0\n",
      "Name: final_ind, dtype: int64\n"
     ]
    }
   ],
   "source": [
    "full_file = pd.merge(vest_mo_18,final_source,how=\"outer\",on=\"unique_ID\",indicator=\"final_ind\")\n",
    "print(full_file[\"final_ind\"].value_counts())\n",
    "both = full_file[full_file[\"final_ind\"]==\"both\"]\n",
    "both.reset_index(inplace=True)"
   ]
  },
  {
   "cell_type": "code",
   "execution_count": 30,
   "metadata": {},
   "outputs": [],
   "source": [
    "source_shapes = gp.GeoDataFrame(both, geometry='geometry_x')\n",
    "vest_shapes = gp.GeoDataFrame(both, geometry='geometry_y')\n",
    "vals = source_shapes.geom_almost_equals(vest_shapes,decimal=0)"
   ]
  },
  {
   "cell_type": "code",
   "execution_count": 31,
   "metadata": {},
   "outputs": [
    {
     "name": "stdout",
     "output_type": "stream",
     "text": [
      "True     1192\n",
      "False     977\n",
      "dtype: int64\n"
     ]
    }
   ],
   "source": [
    "print(vals.value_counts())"
   ]
  },
  {
   "cell_type": "code",
   "execution_count": null,
   "metadata": {},
   "outputs": [
    {
     "name": "stdout",
     "output_type": "stream",
     "text": [
      "189    273\n",
      "047     66\n",
      "183     59\n",
      "097     42\n",
      "019     40\n",
      "      ... \n",
      "045      1\n",
      "063      1\n",
      "133      1\n",
      "089      1\n",
      "067      1\n",
      "Name: unique_ID, Length: 73, dtype: int64\n"
     ]
    }
   ],
   "source": [
    "print(both[~vals][\"unique_ID\"].str[0:3].value_counts())\n",
    "diff_precincts = gp.GeoDataFrame(both[~vals], geometry='geometry_x',crs=shapefiles_census_crs)\n",
    "\n",
    "shp_difference = gp.overlay(source_shapes,vest_shapes,how='symmetric_difference')\n",
    "shp_difference.plot()"
   ]
  },
  {
   "cell_type": "code",
   "execution_count": null,
   "metadata": {},
   "outputs": [],
   "source": [
    "#Show a random difference\n",
    "test = both[~vals].sample(axis=0,n=1).index[0]\n",
    "print(both[~vals])\n",
    "display(both.iloc[test][\"geometry_x\"])\n",
    "display(both.iloc[test][\"geometry_y\"])\n",
    "\n",
    "test = both[~vals].sample(axis=0).index[0]\n",
    "display(both.iloc[test][\"geometry_x\"])\n",
    "display(both.iloc[test][\"geometry_y\"])"
   ]
  },
  {
   "cell_type": "markdown",
   "metadata": {},
   "source": [
    "### Look into county w/ FIPS 189"
   ]
  },
  {
   "cell_type": "code",
   "execution_count": null,
   "metadata": {
    "scrolled": true
   },
   "outputs": [],
   "source": [
    "print(both[both[\"unique_ID\"].str[0:3]==\"189\"].shape)\n",
    "kc_1 = gp.GeoDataFrame(both[both[\"unique_ID\"].str[0:3]==\"189\"], geometry='geometry_x',crs=shapefiles_census_crs)\n",
    "kc_2 = gp.GeoDataFrame(both[both[\"unique_ID\"].str[0:3]==\"189\"], geometry='geometry_y',crs=shapefiles_census_crs)\n",
    "\n",
    "gp.overlay(kc_1,kc_2,how='symmetric_difference').plot()"
   ]
  },
  {
   "cell_type": "code",
   "execution_count": null,
   "metadata": {},
   "outputs": [],
   "source": [
    "col_list = [\"G18USSDMCC\",\"G18USSIODE\",\"G18AUDGFIT\",\"G18AUDCLUE\",\"G18USSLCAM\",\"G18USSGCRA\",\"G18USSRHAW\",\"G18AUDDGAL\",\"G18AUDRMCD\",\"G18AUDLOTO\"]\n",
    "validater_row(both,col_list)"
   ]
  }
 ],
 "metadata": {
  "kernelspec": {
   "display_name": "Python 3",
   "language": "python",
   "name": "python3"
  },
  "language_info": {
   "codemirror_mode": {
    "name": "ipython",
    "version": 3
   },
   "file_extension": ".py",
   "mimetype": "text/x-python",
   "name": "python",
   "nbconvert_exporter": "python",
   "pygments_lexer": "ipython3",
   "version": "3.8.8"
  }
 },
 "nbformat": 4,
 "nbformat_minor": 4
}
