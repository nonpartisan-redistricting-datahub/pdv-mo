{
 "cells": [
  {
   "cell_type": "code",
   "execution_count": null,
   "metadata": {},
   "outputs": [],
   "source": [
    "import maup # mggg's library for proration, see documentation here: https://github.com/mggg/maup\n",
    "import pandas as pd # standard python data library\n",
    "import geopandas as gp # the geo-version of pandas\n",
    "import numpy as np \n",
    "import os\n",
    "import fiona\n",
    "from statistics import mean, median\n",
    "from pandas import read_csv\n",
    "gp.io.file.fiona.drvsupport.supported_drivers['KML'] = 'rw' #To load KML files\n",
    "import string\n",
    "import xml.etree.ElementTree as et"
   ]
  },
  {
   "cell_type": "code",
   "execution_count": null,
   "metadata": {},
   "outputs": [],
   "source": [
    "vest_mo_18 = gp.read_file(\"./raw-from-source/VEST/mo_2018/mo_2018.shp\")"
   ]
  },
  {
   "cell_type": "markdown",
   "metadata": {},
   "source": [
    "## Election Data Sources"
   ]
  },
  {
   "cell_type": "markdown",
   "metadata": {},
   "source": [
    "Election results from the Secretary of State's office via OpenElections (https://github.com/openelections/openelections-data-mo/tree/master/2018). Absentee, provisional, and mail ballots were reported countywide in nearly every county; these were distributed by candidate to precincts based on their share of the precinct-level reported vote.\n",
    "\n",
    "- G18USSRHAW - Josh Hawley (Republican Party)  \n",
    "- G18USSDMCC - Claire McCaskill (Democratic Party)  \n",
    "- G18USSLCAM - Japheth Campbell (Libertarian Party)  \n",
    "- G18USSGCRA - Jo Crain (Green Party)  \n",
    "- G18USSIODE - Craig O'Dear (Independent)  \n",
    "  \n",
    "  \n",
    "- G18AUDRMCD - Saundra McDowell (Republican Party)  \n",
    "- G18AUDDGAL - Nicole Galloway (Democratic Party)  \n",
    "- G18AUDLOTO - Sean O'Toole (Libertarian Party)  \n",
    "- G18AUDGFIT - Don Fitz (Green Party)  \n",
    "- G18AUDCLUE - Jacob Luetkemeyer (Constitution Party)  \n"
   ]
  },
  {
   "cell_type": "code",
   "execution_count": null,
   "metadata": {},
   "outputs": [],
   "source": [
    "mo_elections = pd.read_csv(\"./raw-from-source/Open_Elections/20181106__mo__general__precinct.csv\")\n",
    "candidate_list = ['Josh Hawley','Claire McCaskill','Japheth Campbell','Jo Crain',\n",
    " \"Craig O'Dear\",'Saundra McDowell','Nicole Galloway',\"Sean O'Toole\",'Don Fitz','Jacob Luetkemeyer']\n",
    "office_list = ['U.S. Senate', 'State Auditor']\n",
    "mo_elections[\"candidate\"] = mo_elections[\"candidate\"].str.strip()\n",
    "mo_elections = mo_elections[mo_elections[\"office\"].isin(office_list)]\n",
    "mo_elections = mo_elections[mo_elections[\"candidate\"].isin(candidate_list)]\n"
   ]
  },
  {
   "cell_type": "code",
   "execution_count": null,
   "metadata": {},
   "outputs": [],
   "source": [
    "fips_file = pd.read_csv(\"./raw-from-source/FIPS/US_FIPS_Codes.csv\")\n",
    "fips_file = fips_file[fips_file[\"State\"]==\"Missouri\"]\n",
    "fips_file[\"FIPS County\"] = fips_file[\"FIPS County\"].astype(str)\n",
    "fips_file[\"FIPS County\"] = fips_file[\"FIPS County\"].str.zfill(3)\n",
    "#print(fips_file[~fips_file[\"County Name\"].isin(mo_elections[\"county\"])][\"County Name\"].unique())\n",
    "fips_dict = dict(zip(fips_file['County Name'], fips_file['FIPS County']))\n",
    "mo_changes = {'De Kalb':'Dekalb','Kansas City':'Jackson','McDonald':'Mcdonald',\n",
    "              'St. Charles':'St Charles','St. Clair':'St Clair',\n",
    "              'Ste. Genevieve':'Ste Genevieve','St. Francois':'St Francois',\n",
    "              'St. Louis City':'St Louis City','St. Louis County':'St Louis'}\n",
    "mo_elections['county'] = mo_elections['county'].map(mo_changes).fillna(mo_elections['county'])\n",
    "mo_elections['COUNTYFP'] = mo_elections['county'].map(fips_dict).fillna(mo_elections['county'])\n",
    "mo_elections[\"unique_ID\"]=mo_elections[\"COUNTYFP\"]+mo_elections[\"precinct\"]"
   ]
  },
  {
   "cell_type": "code",
   "execution_count": null,
   "metadata": {},
   "outputs": [],
   "source": [
    "mo_elections_pivot = pd.pivot_table(mo_elections,index=[\"unique_ID\",\"COUNTYFP\",\"precinct\"],columns=[\"candidate\"],values=['votes'],aggfunc=sum)\n",
    "mo_elections_pivot = mo_elections_pivot.fillna(0)\n",
    "mo_elections_pivot.columns = mo_elections_pivot.columns.droplevel(0)\n",
    "mo_elections_pivot.reset_index(drop=False,inplace=True)\n",
    "mo_elections_pivot = mo_elections_pivot.rename(columns={'Claire McCaskill':\"G18USSDMCC\",\"Craig O'Dear\": \"G18USSIODE\",'Don Fitz':\"G18AUDGFIT\",'Jacob Luetkemeyer':\"G18AUDCLUE\",'Japheth Campbell':\"G18USSLCAM\",'Jo Crain':\"G18USSGCRA\",'Josh Hawley':\"G18USSRHAW\",'Nicole Galloway':\"G18AUDDGAL\",'Saundra McDowell':\"G18AUDRMCD\",\"Sean O'Toole\":\"G18AUDLOTO\"})"
   ]
  },
  {
   "cell_type": "code",
   "execution_count": null,
   "metadata": {},
   "outputs": [],
   "source": [
    "remove_list = [\"ABSENTEE\",\"PROVISIONAL\",\"FEDERAL\",\"FEDERAL/STATE\",\"INTRASTATE\",\"WRITE-IN\",\"CENTRAL POLLING LOCATION\",\"CENTRAL POLL\",\"ABSENTEE1\",\"ABSENTEE2\",\"VOTE CENTER\",\"CENTRAL POLLING LOCATION: MSU\",\"INTRASTATE/NEW RESIDENT\",\"WRITE-INS\",\"MULTI-PRECINCT COLLECTION\",\"INTRASTATE NEW RESIDENT\",\"MULTI-PRECINCT COLLECTION\",\"ABSENTEE, PROVISIONAL & CENTRAL\"]\n",
    "mo_elections_countywide = mo_elections_pivot[(mo_elections_pivot[\"precinct\"].isin(remove_list)) | (mo_elections_pivot[\"unique_ID\"]=='019CENTRAL')]\n",
    "mo_elections_pivot = mo_elections_pivot[~(mo_elections_pivot[\"precinct\"].isin(remove_list)) | (mo_elections_pivot[\"unique_ID\"]=='019CENTRAL')]\n",
    "print(mo_elections_countywide.head())\n",
    "print(mo_elections_pivot.head())\n",
    "countywide_totals = mo_elections_countywide.groupby([\"COUNTYFP\"]).sum()\n",
    "precinct_totals = mo_elections_pivot.groupby([\"COUNTYFP\"]).sum()"
   ]
  },
  {
   "cell_type": "code",
   "execution_count": null,
   "metadata": {},
   "outputs": [],
   "source": [
    "data_to_add = pd.merge(precinct_totals,countywide_totals,on=['COUNTYFP'],how='left',indicator=False)\n",
    "data_to_add.reset_index(inplace=True,drop=False)\n",
    "\n",
    "joined = pd.merge(mo_elections_pivot,data_to_add,on=['COUNTYFP'],how='left',indicator=False)\n",
    "joined = joined.fillna(0)\n",
    "col_list = [\"G18USSDMCC\",\"G18USSIODE\",\"G18AUDGFIT\",\"G18AUDCLUE\",\"G18USSLCAM\",\"G18USSGCRA\",\"G18USSRHAW\",\"G18AUDDGAL\",\"G18AUDRMCD\",\"G18AUDLOTO\"]\n",
    "for i in col_list:\n",
    "    precinct_totals = i + \"_x\"\n",
    "    countywide_reported = i+\"_y\"\n",
    "    joined[i]=(joined[i]+((joined[i]*joined[countywide_reported])/joined[precinct_totals]))\n",
    "joined = joined [[\"unique_ID\",\"COUNTYFP\",\"precinct\",\"G18USSDMCC\",\"G18USSIODE\",\"G18AUDGFIT\",\"G18AUDCLUE\",\"G18USSLCAM\",\"G18USSGCRA\",\"G18USSRHAW\",\"G18AUDDGAL\",\"G18AUDRMCD\",\"G18AUDLOTO\"]]\n",
    "matcher_increase = pd.read_csv(\"./matcher_increase.csv\")\n",
    "print(matcher_increase.head())\n",
    "new_name_dict = dict(zip(matcher_increase['source_names'], matcher_increase['vest_names']))\n",
    "joined[\"unique_ID\"] = joined[\"unique_ID\"].str.strip()\n",
    "joined[\"unique_ID\"] = joined[\"unique_ID\"].map(new_name_dict).fillna(joined[\"unique_ID\"])"
   ]
  },
  {
   "cell_type": "markdown",
   "metadata": {},
   "source": [
    "- G18USSRHAW - Josh Hawley (Republican Party)  \n",
    "- G18USSDMCC - Claire McCaskill (Democratic Party)  \n",
    "- G18USSLCAM - Japheth Campbell (Libertarian Party)  \n",
    "- G18USSGCRA - Jo Crain (Green Party)  \n",
    "- G18USSIODE - Craig O'Dear (Independent)  \n",
    "  \n",
    "  \n",
    "- G18AUDRMCD - Saundra McDowell (Republican Party)  \n",
    "- G18AUDDGAL - Nicole Galloway (Democratic Party)  \n",
    "- G18AUDLOTO - Sean O'Toole (Libertarian Party)  \n",
    "- G18AUDGFIT - Don Fitz (Green Party)  \n",
    "- G18AUDCLUE - Jacob Luetkemeyer (Constitution Party)  "
   ]
  },
  {
   "cell_type": "code",
   "execution_count": null,
   "metadata": {},
   "outputs": [],
   "source": [
    "vest_mo_18[\"unique_ID\"]=vest_mo_18[\"COUNTYFP\"]+vest_mo_18[\"NAME\"]\n",
    "vest_empty = vest_mo_18[(vest_mo_18['G18USSRHAW']==0) & (vest_mo_18['G18USSDMCC']==0) &\n",
    "              (vest_mo_18['G18USSLCAM']==0) & (vest_mo_18['G18USSGCRA']==0) &\n",
    "              (vest_mo_18['G18USSIODE']==0) & (vest_mo_18['G18AUDRMCD']==0) &\n",
    "              (vest_mo_18['G18AUDDGAL']==0) & (vest_mo_18['G18AUDLOTO']==0) &\n",
    "              (vest_mo_18['G18AUDGFIT']==0) & (vest_mo_18['G18AUDCLUE']==0)][\"unique_ID\"]\n",
    "\n",
    "new_precincts = pd.DataFrame(columns=joined.columns)\n",
    "new_precincts[\"unique_ID\"]=vest_empty\n",
    "col_list = [\"G18USSDMCC\",\"G18USSIODE\",\"G18AUDGFIT\",\"G18AUDCLUE\",\"G18USSLCAM\",\"G18USSGCRA\",\"G18USSRHAW\",\"G18AUDDGAL\",\"G18AUDRMCD\",\"G18AUDLOTO\"]\n",
    "for i in col_list:\n",
    "    new_precincts[i]=0\n",
    "joined = joined.append(new_precincts)"
   ]
  },
  {
   "cell_type": "code",
   "execution_count": null,
   "metadata": {},
   "outputs": [],
   "source": [
    "print(vest_mo_18.head())\n",
    "\n",
    "final_join = pd.merge(vest_mo_18,joined,how=\"outer\",on=\"unique_ID\",indicator=True)\n",
    "print(final_join[\"_merge\"].value_counts())\n",
    "final_join[final_join[\"_merge\"]==\"right_only\"].to_csv(\"./election_only.csv\")\n",
    "final_join[final_join[\"_merge\"]==\"left_only\"].to_csv(\"./VEST_only.csv\")"
   ]
  },
  {
   "cell_type": "markdown",
   "metadata": {},
   "source": [
    "## Precinct Shapefile Sources"
   ]
  },
  {
   "cell_type": "markdown",
   "metadata": {},
   "source": [
    "The documentation mentions 4 different sources for shapefiles:\n",
    "\n",
    "1. Precinct shapefiles primarily from the U.S. Census Bureau's 2020 Redistricting Data Program Phase 2 release.  \n",
    "2. Monroe County comes from the 2010 Census VTD release.  \n",
    "3. Platte County comes from the 2020 Census VTD release.  \n",
    "4. The following counties instead used maps or shapefiles sourced from the respective county governments: Audrain, Bates, Caldwell, Callaway, Camden, Cape Girardeau, Cedar, Cooper, Franklin, Greene, Jackson, Jasper, Jefferson, Laclede, Lafayette, Lawrence, Marion, McDonald, Miller, Nodaway, Osage, Ozark, Pemiscot, Pike, Randolph, Scott, Ste. Genevieve, Texas, Warren, Washington, Worth, Wright.  "
   ]
  },
  {
   "cell_type": "markdown",
   "metadata": {},
   "source": [
    "### 1. U.S. Census Bureau's 2020 Redistricting Data Program Phase 2 release\n",
    "> Precinct shapefiles primarily from the U.S. Census Bureau's 2020 Redistricting Data Program Phase 2 release.\n",
    "\n",
    "https://www.census.gov/geo/partnerships/pvs/partnership19v2/st29_mo.html"
   ]
  },
  {
   "cell_type": "code",
   "execution_count": null,
   "metadata": {},
   "outputs": [],
   "source": [
    "#When downloading from the Census redistricing data program, these use a FIPS code to identify counties\n",
    "\n",
    "fips_file[\"unique_ID\"] =  \"29\" + fips_file[\"FIPS County\"]\n",
    "fips_codes = fips_file[\"unique_ID\"].tolist()\n",
    "\n",
    "#Combine all the data from separate files into one\n",
    "li = []\n",
    "for i in fips_codes:\n",
    "    ref = \"./raw-from-source/Census/2020_Phase_2/partnership_shapefiles_19v2_\"\n",
    "    file_ref = ref+i+\"/PVS_19_v2_vtd_\"+i+\".shp\"\n",
    "    file_prev = gp.read_file(file_ref)\n",
    "    #print(file_prev.shape)\n",
    "    li.append(file_prev)\n",
    "shapefiles_census = pd.concat(li, axis=0, ignore_index=True)\n",
    "print(shapefiles_census.shape)"
   ]
  },
  {
   "cell_type": "code",
   "execution_count": null,
   "metadata": {},
   "outputs": [],
   "source": [
    "#print(shapefiles_census.head())\n",
    "county_list = [\"Audrain\", \"Bates\",\"Caldwell\",\"Callaway\",\"Camden\",\"Cape Girardeau\",\"Cedar\",\"Cooper\",\"Franklin\",\"Greene\",\"Jackson\",\"Jasper\",\"Jefferson\", \n",
    "               \"Laclede\", \"Lafayette\",\"Lawrence\", \"Marion\", \"Mcdonald\",\"Miller\",\"Monroe\",\"Nodaway\",\n",
    "               \"Osage\", \"Ozark\", \"Pemiscot\",\"Platte\", \"Pike\", \"Randolph\", \"Scott\",\"Ste Genevieve\", \"Texas\", \"Warren\", \"Washington\", \"Worth\", \"Wright\"]\n",
    "print(len(county_list))\n",
    "fips_to_take = fips_file[fips_file[\"County Name\"].isin(county_list)]\n",
    "different_source = fips_to_take[\"FIPS County\"].tolist()\n",
    "print(different_source)\n",
    "\n",
    "shapefiles_census = shapefiles_census[~shapefiles_census[\"COUNTYFP\"].isin(different_source)]"
   ]
  },
  {
   "cell_type": "code",
   "execution_count": null,
   "metadata": {},
   "outputs": [],
   "source": [
    "#Filter down election results to just these counties\n",
    "print(joined.shape)\n",
    "elections_census_shapes = joined[~joined[\"COUNTYFP\"].isin(different_source)]\n",
    "print(elections_census_shapes.shape)\n",
    "\n",
    "#Create a unique ID\n",
    "shapefiles_census[\"unique_ID\"] = shapefiles_census[\"COUNTYFP\"]+shapefiles_census[\"NAME\"]\n",
    "\n",
    "#Attempt to join on the \"unique_ID\" column\n",
    "census_join = pd.merge(elections_census_shapes,shapefiles_census,how=\"outer\",on=\"unique_ID\",indicator=True)\n",
    "print(census_join[\"_merge\"].value_counts())\n",
    "census_join[census_join[\"_merge\"]==\"left_only\"].to_csv(\"./census_join/election.csv\")\n",
    "census_join[census_join[\"_merge\"]==\"right_only\"].to_csv(\"./census_join/shapes.csv\")"
   ]
  },
  {
   "cell_type": "code",
   "execution_count": null,
   "metadata": {},
   "outputs": [],
   "source": [
    "print(shapefiles_census[shapefiles_census[\"COUNTYFP\"].str[0:3]==\"009\"][\"unique_ID\"])\n",
    "print(elections_census_shapes[elections_census_shapes[\"unique_ID\"].str[0:3]==\"009\"][\"unique_ID\"])"
   ]
  },
  {
   "cell_type": "code",
   "execution_count": null,
   "metadata": {},
   "outputs": [],
   "source": [
    "precinct_merger([\"003John Glenn A\" \"003Country Club\",\"003John Glenn\",\"003Beeler\"],\"003John Glenn/Country Club/Beeler\")\n",
    "precinct_merger([\"003Platte West\",\"003Rosendale\",\"003Bolckow\"],\"003Platte West/Rosendale/Bolckow\")\n",
    "precinct_merger([\"003Fillmore\",\"003Clay\"],\"003Fillmore/Clay\")\n",
    "precinct_merger([\"003Empire East\",\"003Platte East\"],\"003Platte East/Empire East\")\n",
    "precinct_merger([\"003Savannah Northeast\",\"003Savannah Southeast\"],\"003Savannah Northeast/Southeast\")\n",
    "precinct_merger([\"003Savannah Northwest\",\"003Savannah Southwest\"],\"003Savannah Northwest/Southwest\")\n",
    "precinct_merger([\"009McDonald\",\"009Butterfield\"],\"009McDonald/Butterfield\")\n",
    "precinct_merger([\"009Cassville Rural\",\"009Mineral\"],\"009Cassville Rural/Mineral\")\n",
    "precinct_merger([\"009Kings Prairie\",\"009Pleasant Ridge\"],\"009Kings Prairie/Pleasant Ridge\")\n",
    "precinct_merger([\"009Capps Creek\"],\"009Monett/Capps Creek\")\n",
    "precinct_merger([\"009Crane Creek\",\"009Ozark\"],\"009Ozark/Crane Creek\")\n",
    "precinct_merger([\"009Purdy\",\"009McDowell\"],\"009McDowell/Purdy\")\n",
    "precinct_merger([\"009Ash\",\"009Washburn\"],\"009Washburn/Ash\")\n",
    "precinct_merger([\"015COLE\"],\"015Cole\")\n",
    "precinct_merger([\"015ALEXANDER\",\"015FRISTOE\"],\"015Fristoe/Alexander\")\n",
    "precinct_merger([\"015LINDSEY\"],\"015Lindsey\")\n",
    "precinct_merger([\"015TOM\"],\"015Tom\")\n",
    "precinct_merger([\"015UNION\"],\"015Union\")\n",
    "precinct_merger([\"015WHITE\"],\"015White\")\n",
    "precinct_merger([\"015WILLIAMS\"],\"015Williams\")\n",
    "\n",
    "precinct_merger([\"017Drum-Dongola\"],\"017Drum Dungola\")\n",
    "precinct_merger([\"017Lutesville\",\"017Marble Hill\"],\"017Lutesville/Marble Hill\")\n",
    "\n",
    "county_list = [\"01909/11\",\"01910/12\",\"01915/40\",\"01918/19\",\"0191C/1G\",\"0191E/6B\",\"0191F/1J/1L\",\"0191I/6F\",\"0191K/2K\",\"01922/45\",\"01924/33\",\"01925/34\",\"01928/29\",\"0192A/2G\",\"0192B/2J\",\"0192C/2F\",\"0192L/20\",\"01930/43\",\"01931/32\",\"01935/42\",\"0193A/3G/3L\",\"0193E/3H\",\"0193I/3J\",\"0193M/6J\",\"0193N/41\",\"0194A/4J\",\"0194C/4D\",\"0194F/4I/5A\",\"0194H/4N\",\"0194K/4M/37\",\"0195C/5H\",\"0195D/5G/5M\",\"0195E/5P\",\"0195I/5J\",\"0195N/36/44\",\"0196A/6L\",\"0196C/6H\",\"0196D/6K/6M\",\"0196E/6I\"]\n",
    "#For those, split on the \"/\" and call precinct merger\n",
    "county_list_2 = pd.read_csv(\"./189_columns.csv\")\n",
    "county_list_3 = list(county_list_2[\"val\"])\n",
    "print(county_list_3)\n"
   ]
  },
  {
   "cell_type": "code",
   "execution_count": null,
   "metadata": {},
   "outputs": [],
   "source": [
    "txt = \"0191F/1J/1L\"\n",
    "txt.split(\"/\")"
   ]
  },
  {
   "cell_type": "markdown",
   "metadata": {},
   "source": [
    "Missouri\n",
    "--------\n",
    "\n",
    "Precinct mergers were made in the following counties to match county reporting units: \n",
    "- Andrew: Precinct mergers to match county reporting units\n",
    "- Barry: Precinct mergers to match county reporting units\n",
    "- Barry: Add Monett City; Align Cassville with corporate boundary\n",
    "- Barton: Adjust Lamar ward boundaries to match city map\n",
    "- Benton: Precinct mergers to match county reporting units\n",
    "- Bollinger: Precinct mergers to match county reporting units\n",
    "- Bollinger: Adjust Patton/Sedgewickville to match county GIS\n",
    "- Butler: Align Poplar Bluff with corporate boundary and adjust wards to match city map\n",
    "- Boone: Precinct mergers to match county reporting units\n",
    "- Carroll: Precinct mergers to match county reporting units\n",
    "- Carroll: Adjust Carrollton City wards to match voter file\n",
    "- Carter: Precinct mergers to match county reporting units\n",
    "- Cass: Precinct mergers to match county reporting units\n",
    "- Cass: Align Belton, Pleasant Hill, Raymore precincts with corporate boundaries; Adjust 37 Pleasant Prairie/25 West Peculiar Rural\n",
    "- Chariton: Adjust Salisbury wards to match city map\n",
    "- Christian: Revise Cassidy 1/Cassidy 2; Reverse Nixa City annexation into Rosedale 1B\n",
    "- Christian: Precinct mergers to match county reporting units\n",
    "- Clark: Precinct mergers to match county reporting units\n",
    "- Clay: Adjust Excelsior Springs, Kearney, Smithville precincts to match 2018 ward and corporate boundaries; Adjust KC 21-1/15, 21-1/17, 21-3/11, 21-4/6, 21-4/11, 21-5/7/24, 21-6/24, 21-7/20, 21-13/26, 21-14/23, 21-17/16, 21-17/26, 21-17/Platte 1, Gallatin 7/16, 10/13, 10/16, 11/15, 13/15, Kearney 3/Platte 2, Liberty 1/10, 6/13, 7/11, 11/14, Washington 1/3 to match voter file\n",
    "- Clinton: Align Atchison/Concord, Jackson/Lathrop with 2018 precinct split assignments\n",
    "- Cole: Precinct mergers to match county reporting units\n",
    "- Cole: Adjust Marion Twp St Martins to include St Martins city in Jefferson Twp\n",
    "- Crawford: Move Benton Twp section of Leasburg precinct from Recklein to Leasburg\n",
    "- Crawford: Precinct mergers to match county reporting units\n",
    "- Dade: Realign Greenfield wards to match municipal code\n",
    "- Dallas: Split N Benton Inside/OCL, S Benton Inside/OCL; Align N/S Benton with Buffalo ward map\n",
    "- Dallas: Precinct mergers to match county reporting units\n",
    "- Dekalb: Precinct mergers to match county reporting units\n",
    "- Dent: Split Boss precinct from R-4 precinct; Adjust R-2/R-3 boundary\n",
    "- Douglas: Precinct mergers to match county reporting units\n",
    "- Dunklin: Precinct mergers to match county reporting units\n",
    "- Dunklin: Align Holcomb, Rives with township boundaries; Adjust Arbyrd/Senath; Align Kennett wards with city map\n",
    "- Gasconade: Align Hermann, Owensville, Rosebud with corporate boundaries and ward descriptions\n",
    "- Gentry: Precinct mergers to match county reporting units\n",
    "- Grundy: Precinct mergers to match county reporting units\n",
    "- Holt: Precinct mergers to match county reporting units\n",
    "- Holt: Split West between Central/Northwest by school district\n",
    "- Howard: Precinct mergers to match county reporting units\n",
    "- Howell: Precinct mergers to match county reporting units\n",
    "- Howell: Align West Plains precincts with 2018 corporate boundary\n",
    "- Iron: Adjust Annapolis/Des Arc/Vulcan, Ironton/Pilot Knob\n",
    "- Johnson: Adjust Warrensburg NE/NW boundary to match county maps\n",
    "- Johnson: Precinct mergers to match county reporting units\n",
    "- Lewis: Split LaBelle Twp between LaBelle FS/Lewistown FS with PLSS grid\n",
    "- Lincoln: Align Moscow Mills, Troy with 2018 corporate boundaries; Adjust Briscoe/Troy Rural\n",
    "- Linn: Precinct mergers to match county reporting units\n",
    "- Linn: Split Brookfield Township between Brookfield 1&2/3&4\n",
    "- Livingston: Align Chillicothe with 2018 corporate boundaries\n",
    "- Livingston: Precinct mergers to match county reporting units\n",
    "- Macon: Align Macon City wards with corporate boundaries\n",
    "- Madison: Align Fredericktown wards with corporate boundaries\n",
    "- Mercer: Precinct mergers to match county reporting units\n",
    "- Mississippi: Precinct mergers to match county reporting units\n",
    "- Mississippi: Adjust Bertrand/East Prairie Rural; Align East Prairie City with corporate boundary\n",
    "- Moniteau: Precinct mergers to match county reporting units\n",
    "- Montgomery: Align Bellflower/Middletown, Big Spring/Rhineland with voter file\n",
    "- Morgan: Adjust Versaille North/South boundary to match county GIS\n",
    "- Morgan: Precinct mergers to match county reporting units\n",
    "- New Madrid: Precinct mergers to match county reporting units\n",
    "- New Madrid: Add New Madrid City wards; Add Big Prairie 4 precinct; Move Portageville Ward 1 to Portage 1\n",
    "- Newton: Align Staples precincts with Joplin City GIS boundaries; Align Neosho precincts with Neosho City GIS boundaries; Adjust Newtonia/Ritchey Wentworth\n",
    "- Oregon: Precinct mergers to match county reporting units\n",
    "- Pettis: Precinct mergers to match county reporting units\n",
    "- Pettis: Adjust Sedalia City wards to match city map\n",
    "- Phelps: Align St. James ward boundaries with city map\n",
    "- Phelps: Precinct mergers to match county reporting units\n",
    "- Polk: Precinct mergers to match county reporting units\n",
    "- Polk: Split Campbell/Jefferson precincts by school district\n",
    "- Putnam: Split Union Twp into NE/SW precincts to match county map\n",
    "- Putnam: Precinct mergers to match county reporting units\n",
    "- Pulaski: Adjust Big Piney/St. Roberts, Laquey/Waynesville\n",
    "- Ralls: Precinct mergers to match county reporting units\n",
    "- Ralls: Replace Center/Liberty precincts with 2010 VTDs\n",
    "- Ray: Adjust Richmond City wards, Homestead Village/Wood Heights/Lawson, Richmond/Orrick\n",
    "- Ray: Precinct mergers to match county reporting units\n",
    "- Reynolds: Realign precincts countywide to match voter file\n",
    "- Ripley: Precinct mergers to match county reporting units\n",
    "- Saline: Split Nelson precinct from Hardeman precinct; Adjust Marshall Ward 2/3 boundary\n",
    "- St. Charles: Adjust Brian/Ridgepoint, Civic/St. Paul, Harvester/Sycamore, Mamelle/Marina\n",
    "- St. Clair: Precinct mergers to match county reporting units\n",
    "- St. Francois: Precinct mergers to match county reporting units\n",
    "- St. Francois: Align Desloge, Farmington, Park Hills with corporate boundaries and city ward maps; Adjust Bonne Terre/Timberline, Patterson/Timberline, Leadwood/Park Hills to match voter file\n",
    "- St. Louis: Precinct mergers to match county reporting units\n",
    "- St. Louis: Add UNV044 precinct; Split NRW011/NRW052\n",
    "- Schuyler: Precinct mergers to match county reporting units\n",
    "- Shannon: Precinct mergers to match county reporting units\n",
    "- Shannon: Align all precincts with county GIS and voter file\n",
    "- Shelby: Precinct mergers to match county reporting units\n",
    "- Shelby: Adjust Jackson/North River to match voter file\n",
    "- Stoddard: Precinct mergers to match county reporting units\n",
    "- Stoddard: Align Advance, Bernie, Bloomfield, Dexter, Puxico with corporate boundaries; Adjust Advance/Leora, Bernie/Dexter/Pyle, Bloomfield/Gray Ridge\n",
    "- Stone: Move Branson West from Ruth A to Ruth C; Split Ruth C Rural/Sunset Cove; Adjust Ruth B City/Rural to match county GIS\n",
    "- Sullivan: Precinct mergers to match county reporting units\n",
    "- Taney: Adjust Boston Center/Walnut Shade; Align Branson wards with 2018 corporate boundary\n",
    "- Vernon: Align Bronaugh/Moundville, Harwood/Schell City, Deerfield/NG Armory with voter file\n",
    "- Wayne: Precinct mergers to match county reporting units\n",
    "- Webster: Precinct mergers to match county reporting units\n",
    "\n",
    "\n",
    "\n"
   ]
  },
  {
   "cell_type": "markdown",
   "metadata": {},
   "source": [
    "### 2. 2010 Census VTD release\n",
    ">Monroe County comes from the 2010 Census VTD release.\n",
    "\n",
    "https://www.census.gov/cgi-bin/geo/shapefiles/index.php?year=2010&layergroup=Voting+Districts"
   ]
  },
  {
   "cell_type": "code",
   "execution_count": null,
   "metadata": {},
   "outputs": [],
   "source": [
    "monroe_shape = gp.read_file(\"./raw-from-source/Census/2010_VTD/tl_2010_29137_vtd10/tl_2010_29137_vtd10.shp\")"
   ]
  },
  {
   "cell_type": "markdown",
   "metadata": {},
   "source": [
    "### 3. 2020 Census VTD release\n",
    ">Platte County comes from the 2020 Census VTD release.\n",
    "\n",
    "https://www.census.gov/geographies/mapping-files/time-series/geo/tiger-line-file.2020.html"
   ]
  },
  {
   "cell_type": "code",
   "execution_count": null,
   "metadata": {},
   "outputs": [],
   "source": [
    "platte_shape = gp.read_file(\"./raw-from-source/Census/2020_VTD/tl_2020_29_all/tl_2020_29165_vtd20.shp\")\n",
    "platte_shape.plot()"
   ]
  },
  {
   "cell_type": "markdown",
   "metadata": {},
   "source": [
    "- Platte: Precinct mergers to match county reporting units\n",
    "- Platte: Align Lake Waukomis, Parkville, Platte City, Riverside/Northmore, Weatherby Lake with corporate boundaries; Adjust Platte Hills/Park Hill, Seven Bridges/Shiloh"
   ]
  },
  {
   "cell_type": "markdown",
   "metadata": {},
   "source": [
    "### 4. Counties themselves\n",
    "> The following counties instead used maps or shapefiles sourced from the respective county governments:  \n",
    "Audrain, Bates, Caldwell, Callaway, Camden, Cape Girardeau, Cedar, Cooper, Franklin, Greene, Jackson, Jasper, Jefferson, Laclede, Lafayette, Lawrence, Marion, McDonald, Miller, Nodaway, Osage, Ozark, Pemiscot, Pike, Randolph, Scott, Ste. Genevieve, Texas, Warren, Washington, Worth, Wright.  "
   ]
  },
  {
   "cell_type": "markdown",
   "metadata": {},
   "source": [
    "- Audrain: https://audraingis.integritygis.com/H5/Index.html?viewer=audrain\n",
    "- Bates: https://batesgis.integritygis.com/H5/Index.html?viewer=bates\n",
    "- Caldwell: can't find\n",
    "- Callaway: can't find\n",
    "- Camden: https://camdengis.integritygis.com/H5/Index.html?viewer=camden\n",
    "- Cape Girardeau: only pdf (https://capecountyelections.com/wp-content/uploads/2019/06/Voter_Precincts.pdf)\n",
    "- Cedar: can't find\n",
    "- Cooper:\n",
    "- Franklin:\n",
    "- Greene:\n",
    "- Jackson:\n",
    "- Jasper:\n",
    "- Jefferson:\n",
    "- Laclede:\n",
    "- Lafayette:\n",
    "- Lawrence:\n",
    "- Marion:\n",
    "- McDonald:\n",
    "- Miller:\n",
    "- Nodaway:\n",
    "- Osage:\n",
    "- Ozark:\n",
    "- Pemiscot:\n",
    "- Pike:\n",
    "- Randolph:\n",
    "- Scott:\n",
    "- Ste. Genevieve:\n",
    "- Texas:\n",
    "- Warren:\n",
    "- Washington:\n",
    "- Worth:\n",
    "- Wright:"
   ]
  },
  {
   "cell_type": "markdown",
   "metadata": {},
   "source": [
    "### Shapefile Modifications\n",
    "\n",
    "- Audrain: Precinct mergers to match county reporting units\n",
    "- Audrain: Add Vandalia City; Align Mexico precincts with municipal code\n",
    "  \n",
    "- Callaway: Align Fulton, Holts Summit precincts with 2018 corporate boundaries\n",
    "- Callaway: Precinct mergers to match county reporting units\n",
    "\n",
    "- Camden: Precinct mergers to match county reporting units\n",
    "\n",
    "- Cape Girardeau: Precinct mergers to match county reporting units\n",
    "\n",
    "- Cooper: Precinct mergers to match county reporting units\n",
    "\n",
    "- Franklin: Split Dry Branch between Stanton & St. Clair Out of Town\n",
    "- Franklin: Precinct mergers to match county reporting units\n",
    "\n",
    "- Greene: Precinct mergers to match county reporting units\n",
    "\n",
    "- Jackson: Precinct mergers to match county reporting units\n",
    "\n",
    "- Jasper: Precinct mergers to match county reporting units\n",
    "- Jasper: Realign Carthage 2/3, Joplin 1/7, 10/13, 10/15, 13/22, Oronogo 1/2, Webb City 1/4 to match city ward maps\n",
    "\n",
    "- Jefferson: Precinct mergers to match county reporting units\n",
    "- Jefferson: Split Festus Ward 1 P1/P2, Ward 3 P1/P2, Ward 4 P1/P2; Adjust Crystal City/Riverview\n",
    "\n",
    "- Marion: Precinct mergers to match county reporting units\n",
    "- Marion: Split Fabius-Smileyville/Taylor, Warren-Monroe City/Warren; Align Hannibal wards with voter file\n",
    "\n",
    "- Miller: Adjust all precinct boundaries to match voter file\n",
    "\n",
    "- Nodaway: Precinct mergers to match county reporting units\n",
    "\n",
    "- Osage: Precinct mergers to match county reporting units\n",
    "\n",
    "- Pemiscot: Precinct mergers to match county reporting units\n",
    "\n",
    "- Pike: Adjust Cuivre JL boundaries with Ashley NO, Buffalo E, Prairieville I\n",
    "\n",
    "- Randolph: Precinct mergers to match county reporting units\n",
    "\n",
    "- Scott: Adjust Haywood City/Morley, Sikeston Ward 1/McMullin/Vanduser\n",
    "\n",
    "- Warren: Precinct mergers to match county reporting units\n",
    "\n",
    "- Washington: Adjust City Hall/Stony Point, Cruise/Richwoods to match county GIS\n",
    "\n",
    "- Worth: Precinct mergers to match county reporting units"
   ]
  }
 ],
 "metadata": {
  "kernelspec": {
   "display_name": "Python 3",
   "language": "python",
   "name": "python3"
  },
  "language_info": {
   "codemirror_mode": {
    "name": "ipython",
    "version": 3
   },
   "file_extension": ".py",
   "mimetype": "text/x-python",
   "name": "python",
   "nbconvert_exporter": "python",
   "pygments_lexer": "ipython3",
   "version": "3.8.3"
  }
 },
 "nbformat": 4,
 "nbformat_minor": 4
}
