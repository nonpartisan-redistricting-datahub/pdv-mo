{
 "cells": [
  {
   "cell_type": "code",
   "execution_count": 1,
   "metadata": {},
   "outputs": [],
   "source": [
    "import maup # mggg's library for proration, see documentation here: https://github.com/mggg/maup\n",
    "import pandas as pd # standard python data library\n",
    "import geopandas as gp # the geo-version of pandas\n",
    "import numpy as np \n",
    "import os\n",
    "import fiona\n",
    "from statistics import mean, median\n",
    "from pandas import read_csv\n",
    "gp.io.file.fiona.drvsupport.supported_drivers['KML'] = 'rw' #To load KML files\n",
    "import string\n",
    "import xml.etree.ElementTree as et"
   ]
  },
  {
   "cell_type": "code",
   "execution_count": 2,
   "metadata": {},
   "outputs": [],
   "source": [
    "vest_mo_18 = gp.read_file(\"./raw-from-source/VEST/mo_2018/mo_2018.shp\")"
   ]
  },
  {
   "cell_type": "markdown",
   "metadata": {},
   "source": [
    "## Election Data Sources"
   ]
  },
  {
   "cell_type": "markdown",
   "metadata": {},
   "source": [
    "Election results from the Secretary of State's office via OpenElections (https://github.com/openelections/openelections-data-mo/tree/master/2018). Absentee, provisional, and mail ballots were reported countywide in nearly every county; these were distributed by candidate to precincts based on their share of the precinct-level reported vote.\n",
    "\n",
    "- G18USSRHAW - Josh Hawley (Republican Party)  \n",
    "- G18USSDMCC - Claire McCaskill (Democratic Party)  \n",
    "- G18USSLCAM - Japheth Campbell (Libertarian Party)  \n",
    "- G18USSGCRA - Jo Crain (Green Party)  \n",
    "- G18USSIODE - Craig O'Dear (Independent)  \n",
    "  \n",
    "  \n",
    "- G18AUDRMCD - Saundra McDowell (Republican Party)  \n",
    "- G18AUDDGAL - Nicole Galloway (Democratic Party)  \n",
    "- G18AUDLOTO - Sean O'Toole (Libertarian Party)  \n",
    "- G18AUDGFIT - Don Fitz (Green Party)  \n",
    "- G18AUDCLUE - Jacob Luetkemeyer (Constitution Party)  \n"
   ]
  },
  {
   "cell_type": "code",
   "execution_count": 43,
   "metadata": {},
   "outputs": [],
   "source": [
    "mo_elections = pd.read_csv(\"./raw-from-source/Open_Elections/20181106__mo__general__precinct.csv\")\n",
    "candidate_list = ['Josh Hawley','Claire McCaskill','Japheth Campbell','Jo Crain',\n",
    " \"Craig O'Dear\",'Saundra McDowell','Nicole Galloway',\"Sean O'Toole\",'Don Fitz','Jacob Luetkemeyer']\n",
    "office_list = ['U.S. Senate', 'State Auditor']\n",
    "mo_elections[\"candidate\"] = mo_elections[\"candidate\"].str.strip()\n",
    "mo_elections = mo_elections[mo_elections[\"office\"].isin(office_list)]\n",
    "mo_elections = mo_elections[mo_elections[\"candidate\"].isin(candidate_list)]\n"
   ]
  },
  {
   "cell_type": "code",
   "execution_count": 82,
   "metadata": {},
   "outputs": [],
   "source": [
    "fips_file = pd.read_csv(\"./raw-from-source/FIPS/US_FIPS_Codes.csv\")\n",
    "fips_file = fips_file[fips_file[\"State\"]==\"Missouri\"]\n",
    "fips_file[\"FIPS County\"] = fips_file[\"FIPS County\"].astype(str)\n",
    "fips_file[\"FIPS County\"] = fips_file[\"FIPS County\"].str.zfill(3)\n",
    "#print(fips_file[~fips_file[\"County Name\"].isin(mo_elections[\"county\"])][\"County Name\"].unique())\n",
    "fips_dict = dict(zip(fips_file['County Name'], fips_file['FIPS County']))\n",
    "mo_changes = {'De Kalb':'Dekalb','Kansas City':'Jackson','McDonald':'Mcdonald',\n",
    "              'St. Charles':'St Charles','St. Clair':'St Clair',\n",
    "              'Ste. Genevieve':'Ste Genevieve','St. Francois':'St Francois',\n",
    "              'St. Louis City':'St Louis City','St. Louis County':'St Louis'}\n",
    "mo_elections['county'] = mo_elections['county'].map(mo_changes).fillna(mo_elections['county'])\n",
    "mo_elections['COUNTYFP'] = mo_elections['county'].map(fips_dict).fillna(mo_elections['county'])\n",
    "mo_elections[\"unique_ID\"]=mo_elections[\"COUNTYFP\"]+mo_elections[\"precinct\"]"
   ]
  },
  {
   "cell_type": "code",
   "execution_count": 45,
   "metadata": {},
   "outputs": [
    {
     "name": "stdout",
     "output_type": "stream",
     "text": [
      "candidate       unique_ID COUNTYFP     precinct  Claire McCaskill  \\\n",
      "0             001ABSENTEE      001     ABSENTEE             428.0   \n",
      "1             001BRASHEAR      001     BRASHEAR             170.0   \n",
      "2              001FEDERAL      001      FEDERAL               0.0   \n",
      "3          001NORTHEAST 5      001  NORTHEAST 5             277.0   \n",
      "4          001NORTHEAST 6      001  NORTHEAST 6             365.0   \n",
      "\n",
      "candidate  Craig O'Dear  Don Fitz  Jacob Luetkemeyer  Japheth Campbell  \\\n",
      "0                  11.0       5.0               33.0               9.0   \n",
      "1                  17.0       4.0               26.0               7.0   \n",
      "2                   0.0       0.0                0.0               0.0   \n",
      "3                   7.0       7.0               21.0               4.0   \n",
      "4                  10.0      13.0               20.0               5.0   \n",
      "\n",
      "candidate  Jo Crain  Josh Hawley  Nicole Galloway  Saundra McDowell  \\\n",
      "0               5.0        601.0            438.0             527.0   \n",
      "1               3.0        507.0            177.0             467.0   \n",
      "2               0.0          2.0              0.0               2.0   \n",
      "3               4.0        375.0            270.0             350.0   \n",
      "4               3.0        516.0            369.0             467.0   \n",
      "\n",
      "candidate  Sean O'Toole  \n",
      "0                  17.0  \n",
      "1                   8.0  \n",
      "2                   0.0  \n",
      "3                  11.0  \n",
      "4                  13.0  \n"
     ]
    }
   ],
   "source": [
    "mo_elections_pivot = pd.pivot_table(mo_elections,index=[\"unique_ID\",\"COUNTYFP\",\"precinct\"],columns=[\"candidate\"],values=['votes'],aggfunc=sum)\n",
    "mo_elections_pivot = mo_elections_pivot.fillna(0)\n",
    "mo_elections_pivot.columns = mo_elections_pivot.columns.droplevel(0)\n",
    "mo_elections_pivot.reset_index(drop=False,inplace=True)\n",
    "print(mo_elections_pivot.head())"
   ]
  },
  {
   "cell_type": "code",
   "execution_count": 46,
   "metadata": {},
   "outputs": [],
   "source": [
    "mo_elections_pivot = mo_elections_pivot.rename(columns={'Claire McCaskill':\"G18USSDMCC\",\n",
    "                           \"Craig O'Dear\": \"G18USSIODE\",\n",
    "                           'Don Fitz':\"G18AUDGFIT\",\n",
    "                           'Jacob Luetkemeyer':\"G18AUDCLUE\",\n",
    "                           'Japheth Campbell':\"G18USSLCAM\",\n",
    "                           'Jo Crain':\"G18USSGCRA\",\n",
    "                           'Josh Hawley':\"G18USSRHAW\",\n",
    "                           'Nicole Galloway':\"G18AUDDGAL\",\n",
    "                           'Saundra McDowell':\"G18AUDRMCD\",\n",
    "                           \"Sean O'Toole\":\"G18AUDLOTO\"})\n",
    "\n"
   ]
  },
  {
   "cell_type": "code",
   "execution_count": 48,
   "metadata": {},
   "outputs": [
    {
     "name": "stdout",
     "output_type": "stream",
     "text": [
      "candidate       unique_ID COUNTYFP     precinct  G18USSDMCC  G18USSIODE  \\\n",
      "0             001ABSENTEE      001     ABSENTEE       428.0        11.0   \n",
      "1             001BRASHEAR      001     BRASHEAR       170.0        17.0   \n",
      "2              001FEDERAL      001      FEDERAL         0.0         0.0   \n",
      "3          001NORTHEAST 5      001  NORTHEAST 5       277.0         7.0   \n",
      "4          001NORTHEAST 6      001  NORTHEAST 6       365.0        10.0   \n",
      "\n",
      "candidate  G18AUDGFIT  G18AUDCLUE  G18USSLCAM  G18USSGCRA  G18USSRHAW  \\\n",
      "0                 5.0        33.0         9.0         5.0       601.0   \n",
      "1                 4.0        26.0         7.0         3.0       507.0   \n",
      "2                 0.0         0.0         0.0         0.0         2.0   \n",
      "3                 7.0        21.0         4.0         4.0       375.0   \n",
      "4                13.0        20.0         5.0         3.0       516.0   \n",
      "\n",
      "candidate  G18AUDDGAL  G18AUDRMCD  G18AUDLOTO  \n",
      "0               438.0       527.0        17.0  \n",
      "1               177.0       467.0         8.0  \n",
      "2                 0.0         2.0         0.0  \n",
      "3               270.0       350.0        11.0  \n",
      "4               369.0       467.0        13.0  \n",
      "candidate    unique_ID COUNTYFP  precinct  G18USSDMCC  G18USSIODE  G18AUDGFIT  \\\n",
      "0          001ABSENTEE      001  ABSENTEE       428.0        11.0         5.0   \n",
      "2           001FEDERAL      001   FEDERAL         0.0         0.0         0.0   \n",
      "12         003ABSENTEE      003  ABSENTEE       179.0         6.0         1.0   \n",
      "24         005ABSENTEE      005  ABSENTEE        30.0         1.0         1.0   \n",
      "38         007ABSENTEE      007  ABSENTEE       174.0         7.0         0.0   \n",
      "\n",
      "candidate  G18AUDCLUE  G18USSLCAM  G18USSGCRA  G18USSRHAW  G18AUDDGAL  \\\n",
      "0                33.0         9.0         5.0       601.0       438.0   \n",
      "2                 0.0         0.0         0.0         2.0         0.0   \n",
      "12               29.0         4.0         4.0       309.0       193.0   \n",
      "24                5.0         1.0         1.0        98.0        36.0   \n",
      "38               19.0         1.0         2.0       302.0       199.0   \n",
      "\n",
      "candidate  G18AUDRMCD  G18AUDLOTO  \n",
      "0               527.0        17.0  \n",
      "2                 2.0         0.0  \n",
      "12              269.0         6.0  \n",
      "24               82.0         1.0  \n",
      "38              251.0         4.0  \n",
      "candidate        unique_ID COUNTYFP      precinct  G18USSDMCC  G18USSIODE  \\\n",
      "1              001BRASHEAR      001      BRASHEAR       170.0        17.0   \n",
      "3           001NORTHEAST 5      001   NORTHEAST 5       277.0         7.0   \n",
      "4           001NORTHEAST 6      001   NORTHEAST 6       365.0        10.0   \n",
      "5              001NOVINGER      001      NOVINGER       189.0        15.0   \n",
      "6          001RURAL BENTON      001  RURAL BENTON       418.0        15.0   \n",
      "\n",
      "candidate  G18AUDGFIT  G18AUDCLUE  G18USSLCAM  G18USSGCRA  G18USSRHAW  \\\n",
      "1                 4.0        26.0         7.0         3.0       507.0   \n",
      "3                 7.0        21.0         4.0         4.0       375.0   \n",
      "4                13.0        20.0         5.0         3.0       516.0   \n",
      "5                 7.0        24.0         7.0         4.0       593.0   \n",
      "6                 7.0        47.0        12.0         7.0       933.0   \n",
      "\n",
      "candidate  G18AUDDGAL  G18AUDRMCD  G18AUDLOTO  \n",
      "1               177.0       467.0         8.0  \n",
      "3               270.0       350.0        11.0  \n",
      "4               369.0       467.0        13.0  \n",
      "5               186.0       562.0        14.0  \n",
      "6               416.0       869.0        23.0  \n"
     ]
    }
   ],
   "source": [
    "print(mo_elections_pivot.head())\n",
    "remove_list = [\"ABSENTEE\",\"PROVISIONAL\",\"FEDERAL\"]\n",
    "mo_elections_countywide = mo_elections_pivot[mo_elections_pivot[\"precinct\"].isin(remove_list)]\n",
    "mo_elections_pivot = mo_elections_pivot[~mo_elections_pivot[\"precinct\"].isin(remove_list)]\n",
    "print(mo_elections_countywide.head())\n",
    "print(mo_elections_pivot.head())"
   ]
  },
  {
   "cell_type": "code",
   "execution_count": 56,
   "metadata": {},
   "outputs": [],
   "source": [
    "countywide_totals = mo_elections_countywide.groupby([\"COUNTYFP\"]).sum()\n",
    "precinct_totals = mo_elections_pivot.groupby([\"COUNTYFP\"]).sum()"
   ]
  },
  {
   "cell_type": "code",
   "execution_count": 72,
   "metadata": {},
   "outputs": [
    {
     "name": "stdout",
     "output_type": "stream",
     "text": [
      "candidate        unique_ID COUNTYFP      precinct  G18USSDMCC  G18USSIODE  \\\n",
      "0              001BRASHEAR      001      BRASHEAR       170.0        17.0   \n",
      "1           001NORTHEAST 5      001   NORTHEAST 5       277.0         7.0   \n",
      "2           001NORTHEAST 6      001   NORTHEAST 6       365.0        10.0   \n",
      "3              001NOVINGER      001      NOVINGER       189.0        15.0   \n",
      "4          001RURAL BENTON      001  RURAL BENTON       418.0        15.0   \n",
      "\n",
      "candidate  G18AUDGFIT  G18AUDCLUE  G18USSLCAM  G18USSGCRA  G18USSRHAW  ...  \\\n",
      "0                 4.0        26.0         7.0         3.0       507.0  ...   \n",
      "1                 7.0        21.0         4.0         4.0       375.0  ...   \n",
      "2                13.0        20.0         5.0         3.0       516.0  ...   \n",
      "3                 7.0        24.0         7.0         4.0       593.0  ...   \n",
      "4                 7.0        47.0        12.0         7.0       933.0  ...   \n",
      "\n",
      "candidate  G18USSDMCC_y  G18USSIODE_y  G18AUDGFIT_y  G18AUDCLUE_y  \\\n",
      "0                3066.0         111.0          75.0         216.0   \n",
      "1                3066.0         111.0          75.0         216.0   \n",
      "2                3066.0         111.0          75.0         216.0   \n",
      "3                3066.0         111.0          75.0         216.0   \n",
      "4                3066.0         111.0          75.0         216.0   \n",
      "\n",
      "candidate  G18USSLCAM_y  G18USSGCRA_y  G18USSRHAW_y  G18AUDDGAL_y  \\\n",
      "0                  79.0          47.0        4336.0        3010.0   \n",
      "1                  79.0          47.0        4336.0        3010.0   \n",
      "2                  79.0          47.0        4336.0        3010.0   \n",
      "3                  79.0          47.0        4336.0        3010.0   \n",
      "4                  79.0          47.0        4336.0        3010.0   \n",
      "\n",
      "candidate  G18AUDRMCD_y  G18AUDLOTO_y  \n",
      "0                4044.0         157.0  \n",
      "1                4044.0         157.0  \n",
      "2                4044.0         157.0  \n",
      "3                4044.0         157.0  \n",
      "4                4044.0         157.0  \n",
      "\n",
      "[5 rows x 33 columns]\n",
      "candidate\n",
      "unique_ID        object\n",
      "COUNTYFP         object\n",
      "precinct         object\n",
      "G18USSDMCC      float64\n",
      "G18USSIODE      float64\n",
      "G18AUDGFIT      float64\n",
      "G18AUDCLUE      float64\n",
      "G18USSLCAM      float64\n",
      "G18USSGCRA      float64\n",
      "G18USSRHAW      float64\n",
      "G18AUDDGAL      float64\n",
      "G18AUDRMCD      float64\n",
      "G18AUDLOTO      float64\n",
      "G18USSDMCC_x    float64\n",
      "G18USSIODE_x    float64\n",
      "G18AUDGFIT_x    float64\n",
      "G18AUDCLUE_x    float64\n",
      "G18USSLCAM_x    float64\n",
      "G18USSGCRA_x    float64\n",
      "G18USSRHAW_x    float64\n",
      "G18AUDDGAL_x    float64\n",
      "G18AUDRMCD_x    float64\n",
      "G18AUDLOTO_x    float64\n",
      "G18USSDMCC_y    float64\n",
      "G18USSIODE_y    float64\n",
      "G18AUDGFIT_y    float64\n",
      "G18AUDCLUE_y    float64\n",
      "G18USSLCAM_y    float64\n",
      "G18USSGCRA_y    float64\n",
      "G18USSRHAW_y    float64\n",
      "G18AUDDGAL_y    float64\n",
      "G18AUDRMCD_y    float64\n",
      "G18AUDLOTO_y    float64\n",
      "dtype: object\n",
      "candidate        unique_ID COUNTYFP      precinct  G18USSDMCC  G18USSIODE  \\\n",
      "0              001BRASHEAR      001      BRASHEAR       194.0        19.0   \n",
      "1           001NORTHEAST 5      001   NORTHEAST 5       316.0         8.0   \n",
      "2           001NORTHEAST 6      001   NORTHEAST 6       416.0        11.0   \n",
      "3              001NOVINGER      001      NOVINGER       215.0        16.0   \n",
      "4          001RURAL BENTON      001  RURAL BENTON       476.0        16.0   \n",
      "\n",
      "candidate  G18AUDGFIT  G18AUDCLUE  G18USSLCAM  G18USSGCRA  G18USSRHAW  ...  \\\n",
      "0                 4.0        30.0         8.0         3.0       578.0  ...   \n",
      "1                 7.0        24.0         4.0         4.0       427.0  ...   \n",
      "2                14.0        23.0         6.0         3.0       588.0  ...   \n",
      "3                 7.0        28.0         8.0         4.0       675.0  ...   \n",
      "4                 7.0        54.0        13.0         8.0      1063.0  ...   \n",
      "\n",
      "candidate  G18USSDMCC_y  G18USSIODE_y  G18AUDGFIT_y  G18AUDCLUE_y  \\\n",
      "0                3066.0         111.0          75.0         216.0   \n",
      "1                3066.0         111.0          75.0         216.0   \n",
      "2                3066.0         111.0          75.0         216.0   \n",
      "3                3066.0         111.0          75.0         216.0   \n",
      "4                3066.0         111.0          75.0         216.0   \n",
      "\n",
      "candidate  G18USSLCAM_y  G18USSGCRA_y  G18USSRHAW_y  G18AUDDGAL_y  \\\n",
      "0                  79.0          47.0        4336.0        3010.0   \n",
      "1                  79.0          47.0        4336.0        3010.0   \n",
      "2                  79.0          47.0        4336.0        3010.0   \n",
      "3                  79.0          47.0        4336.0        3010.0   \n",
      "4                  79.0          47.0        4336.0        3010.0   \n",
      "\n",
      "candidate  G18AUDRMCD_y  G18AUDLOTO_y  \n",
      "0                4044.0         157.0  \n",
      "1                4044.0         157.0  \n",
      "2                4044.0         157.0  \n",
      "3                4044.0         157.0  \n",
      "4                4044.0         157.0  \n",
      "\n",
      "[5 rows x 33 columns]\n"
     ]
    }
   ],
   "source": [
    "data_to_add = pd.merge(countywide_totals,precinct_totals,on=['COUNTYFP'],how='outer',indicator=False)\n",
    "joined = pd.merge(mo_elections_pivot,data_to_add,on=['COUNTYFP'],how='left',indicator=False)\n",
    "joined = joined.fillna(0)\n",
    "col_list = [\"G18USSDMCC\",\"G18USSIODE\",\"G18AUDGFIT\",\"G18AUDCLUE\",\"G18USSLCAM\",\"G18USSGCRA\",\"G18USSRHAW\",\"G18AUDDGAL\",\"G18AUDRMCD\",\"G18AUDLOTO\"]\n",
    "for i in col_list:\n",
    "    countywide = i + \"_x\"\n",
    "    total = i+\"_y\"\n",
    "    joined[i]=joined[i].apply(lambda x:round(((x/joined[total])*(joined[countywide])) + x))\n",
    "joined = joined[[\"unique_ID\",\"COUNTYFP\",\"precinct\",\"G18USSDMCC\",\"G18USSIODE\",\"G18AUDGFIT\",\"G18AUDCLUE\",\"G18USSLCAM\",\"G18USSGCRA\",\"G18USSRHAW\",\"G18AUDDGAL\",\"G18AUDRMCD\",\"G18AUDLOTO\"]]\n",
    "print(joined.head())"
   ]
  },
  {
   "cell_type": "markdown",
   "metadata": {},
   "source": [
    "- G18USSRHAW - Josh Hawley (Republican Party)  \n",
    "- G18USSDMCC - Claire McCaskill (Democratic Party)  \n",
    "- G18USSLCAM - Japheth Campbell (Libertarian Party)  \n",
    "- G18USSGCRA - Jo Crain (Green Party)  \n",
    "- G18USSIODE - Craig O'Dear (Independent)  \n",
    "  \n",
    "  \n",
    "- G18AUDRMCD - Saundra McDowell (Republican Party)  \n",
    "- G18AUDDGAL - Nicole Galloway (Democratic Party)  \n",
    "- G18AUDLOTO - Sean O'Toole (Libertarian Party)  \n",
    "- G18AUDGFIT - Don Fitz (Green Party)  \n",
    "- G18AUDCLUE - Jacob Luetkemeyer (Constitution Party)  "
   ]
  },
  {
   "cell_type": "code",
   "execution_count": 131,
   "metadata": {},
   "outputs": [
    {
     "name": "stdout",
     "output_type": "stream",
     "text": [
      "  STATEFP COUNTYFP           NAME  G18USSRHAW  G18USSDMCC  G18USSLCAM  \\\n",
      "0      29      189          MR032          77          26           0   \n",
      "1      29      189  CHE044/LAF001         254         288           2   \n",
      "2      29      201       Commerce         215          89           1   \n",
      "3      29      043    West Finley        1254         504          34   \n",
      "4      29      189  MID036/MID048          48         257           1   \n",
      "\n",
      "   G18USSGCRA  G18USSIODE  G18AUDRMCD  G18AUDDGAL  G18AUDLOTO  G18AUDGFIT  \\\n",
      "0           0           0          57          42           0           0   \n",
      "1           2           2         227         303           7           0   \n",
      "2           0           0         197          89           5           0   \n",
      "3          14          38        1056         651          67          15   \n",
      "4           4           9          37         268           5           4   \n",
      "\n",
      "   G18AUDCLUE                                           geometry  \\\n",
      "0           2  POLYGON ((-90.54675 38.65233, -90.54641 38.652...   \n",
      "1           7  POLYGON ((-90.55822 38.65301, -90.55760 38.652...   \n",
      "2           1  POLYGON ((-89.44957 37.06921, -89.44957 37.068...   \n",
      "3          20  POLYGON ((-93.26533 37.04093, -93.26521 37.040...   \n",
      "4           4  POLYGON ((-90.37408 38.68288, -90.37354 38.682...   \n",
      "\n",
      "          unique_ID  \n",
      "0          189MR032  \n",
      "1  189CHE044/LAF001  \n",
      "2       201Commerce  \n",
      "3    043West Finley  \n",
      "4  189MID036/MID048  \n",
      "left_only     3210\n",
      "right_only    3032\n",
      "both            32\n",
      "Name: _merge, dtype: int64\n"
     ]
    }
   ],
   "source": [
    "print(vest_mo_18.head())\n",
    "vest_mo_18[\"unique_ID\"]=vest_mo_18[\"COUNTYFP\"]+vest_mo_18[\"NAME\"]\n",
    "final_join = pd.merge(vest_mo_18,joined,how=\"outer\",on=\"unique_ID\",indicator=True)\n",
    "print(final_join[\"_merge\"].value_counts())\n",
    "final_join[final_join[\"_merge\"]==\"right_only\"].to_csv(\"./election_only.csv\")\n",
    "final_join[final_join[\"_merge\"]==\"left_only\"].to_csv(\"./VEST_only.csv\")"
   ]
  },
  {
   "cell_type": "markdown",
   "metadata": {},
   "source": [
    "## Precinct Shapefile Sources"
   ]
  },
  {
   "cell_type": "markdown",
   "metadata": {},
   "source": [
    "The documentation mentions 4 different sources for shapefiles:\n",
    "\n",
    "1. Precinct shapefiles primarily from the U.S. Census Bureau's 2020 Redistricting Data Program Phase 2 release.  \n",
    "2. Monroe County comes from the 2010 Census VTD release.  \n",
    "3. Platte County comes from the 2020 Census VTD release.  \n",
    "4. The following counties instead used maps or shapefiles sourced from the respective county governments: Audrain, Bates, Caldwell, Callaway, Camden, Cape Girardeau, Cedar, Cooper, Franklin, Greene, Jackson, Jasper, Jefferson, Laclede, Lafayette, Lawrence, Marion, McDonald, Miller, Nodaway, Osage, Ozark, Pemiscot, Pike, Randolph, Scott, Ste. Genevieve, Texas, Warren, Washington, Worth, Wright.  "
   ]
  },
  {
   "cell_type": "code",
   "execution_count": 100,
   "metadata": {},
   "outputs": [
    {
     "name": "stdout",
     "output_type": "stream",
     "text": [
      "         State County Name  FIPS State FIPS County unique_ID\n",
      "1562  Missouri      Platte          29         165     29165\n"
     ]
    }
   ],
   "source": [
    "print(fips_file[fips_file[\"County Name\"]==\"Platte\"])"
   ]
  },
  {
   "cell_type": "markdown",
   "metadata": {},
   "source": [
    "### 1. U.S. Census Bureau's 2020 Redistricting Data Program Phase 2 release\n",
    "> Precinct shapefiles primarily from the U.S. Census Bureau's 2020 Redistricting Data Program Phase 2 release.\n",
    "\n",
    "https://www.census.gov/geo/partnerships/pvs/partnership19v2/st29_mo.html"
   ]
  },
  {
   "cell_type": "code",
   "execution_count": 91,
   "metadata": {},
   "outputs": [
    {
     "name": "stdout",
     "output_type": "stream",
     "text": [
      "(4607, 16)\n"
     ]
    }
   ],
   "source": [
    "#When downloading from the Census redistricing data program, these use a FIPS code to identify counties\n",
    "\n",
    "fips_file[\"unique_ID\"] =  \"29\" + fips_file[\"FIPS County\"]\n",
    "fips_codes = fips_file[\"unique_ID\"].tolist()\n",
    "\n",
    "#Combine all the data from separate files into one\n",
    "li = []\n",
    "for i in fips_codes:\n",
    "    ref = \"./raw-from-source/Census/2020_Phase_2/partnership_shapefiles_19v2_\"\n",
    "    file_ref = ref+i+\"/PVS_19_v2_vtd_\"+i+\".shp\"\n",
    "    file_prev = gp.read_file(file_ref)\n",
    "    #print(file_prev.shape)\n",
    "    li.append(file_prev)\n",
    "shapefiles_census = pd.concat(li, axis=0, ignore_index=True)\n",
    "print(shapefiles_census.shape)"
   ]
  },
  {
   "cell_type": "code",
   "execution_count": 115,
   "metadata": {},
   "outputs": [
    {
     "name": "stdout",
     "output_type": "stream",
     "text": [
      "  STATEFP COUNTYFP   VTDST                     NAMELSAD VTDI LSAD CHNG_TYPE  \\\n",
      "0      29      001  000002     Brashear Voting District    P   V2      None   \n",
      "1      29      001  000003  Northeast 4 Voting District    P   V2      None   \n",
      "2      29      001  000004  Northeast 5 Voting District    P   V2      None   \n",
      "3      29      001  000005  Northeast 6 Voting District    P   V2      None   \n",
      "4      29      001  000006     Novinger Voting District    P   V2      None   \n",
      "\n",
      "  ORIG_NAME ORIG_CODE RELATE         NAME VINTAGE FUNCSTAT JUSTIFY  MTFCC  \\\n",
      "0      None      None   None     Brashear      90        S    None  G5240   \n",
      "1      None      None   None  Northeast 4      90        S    None  G5240   \n",
      "2      None      None   None  Northeast 5      90        S    None  G5240   \n",
      "3      None      None   None  Northeast 6      90        S    None  G5240   \n",
      "4      None      None   None     Novinger      90        S    None  G5240   \n",
      "\n",
      "                                            geometry  \n",
      "0  POLYGON Z ((-92.51637 40.23389 0.00000, -92.51...  \n",
      "1  POLYGON Z ((-92.58690 40.19287 0.00000, -92.58...  \n",
      "2  POLYGON Z ((-92.58702 40.20330 0.00000, -92.58...  \n",
      "3  POLYGON Z ((-92.58912 40.24646 0.00000, -92.58...  \n",
      "4  POLYGON Z ((-92.85637 40.06093 0.00000, -92.85...  \n"
     ]
    }
   ],
   "source": [
    "print(shapefiles_census.head())"
   ]
  },
  {
   "cell_type": "code",
   "execution_count": 119,
   "metadata": {},
   "outputs": [
    {
     "name": "stdout",
     "output_type": "stream",
     "text": [
      "34\n",
      "['007', '013', '025', '027', '029', '031', '039', '053', '071', '077', '095', '097', '099', '105', '107', '109', '119', '127', '131', '137', '147', '151', '153', '155', '163', '165', '175', '186', '201', '215', '219', '221', '227', '229']\n"
     ]
    }
   ],
   "source": [
    "#print(shapefiles_census.head())\n",
    "county_list = [\"Audrain\", \"Bates\",\"Caldwell\",\"Callaway\",\"Camden\",\"Cape Girardeau\",\"Cedar\",\"Cooper\",\"Franklin\",\"Greene\",\"Jackson\",\"Jasper\",\"Jefferson\", \n",
    "               \"Laclede\", \"Lafayette\",\"Lawrence\", \"Marion\", \"Mcdonald\",\"Miller\",\"Monroe\",\"Nodaway\",\n",
    "               \"Osage\", \"Ozark\", \"Pemiscot\",\"Platte\", \"Pike\", \"Randolph\", \"Scott\",\"Ste Genevieve\", \"Texas\", \"Warren\", \"Washington\", \"Worth\", \"Wright\"]\n",
    "print(len(county_list))\n",
    "fips_to_take = fips_file[fips_file[\"County Name\"].isin(county_list)]\n",
    "different_source = fips_to_take[\"FIPS County\"].tolist()\n",
    "print(different_source)\n",
    "\n",
    "shapefiles_census = shapefiles_census[~shapefiles_census[\"COUNTYFP\"].isin(different_source)]"
   ]
  },
  {
   "cell_type": "markdown",
   "metadata": {},
   "source": [
    "### 2. 2010 Census VTD release\n",
    ">Monroe County comes from the 2010 Census VTD release.\n",
    "\n",
    "https://www.census.gov/cgi-bin/geo/shapefiles/index.php?year=2010&layergroup=Voting+Districts"
   ]
  },
  {
   "cell_type": "code",
   "execution_count": 95,
   "metadata": {},
   "outputs": [],
   "source": [
    "monroe_shape = gp.read_file(\"./raw-from-source/Census/2010_VTD/tl_2010_29137_vtd10/tl_2010_29137_vtd10.shp\")"
   ]
  },
  {
   "cell_type": "markdown",
   "metadata": {},
   "source": [
    "### 3. 2020 Census VTD release\n",
    ">Platte County comes from the 2020 Census VTD release.\n",
    "\n",
    "https://www.census.gov/geographies/mapping-files/time-series/geo/tiger-line-file.2020.html"
   ]
  },
  {
   "cell_type": "code",
   "execution_count": 97,
   "metadata": {},
   "outputs": [
    {
     "data": {
      "text/plain": [
       "<matplotlib.axes._subplots.AxesSubplot at 0x7fcde2e8ddf0>"
      ]
     },
     "execution_count": 97,
     "metadata": {},
     "output_type": "execute_result"
    },
    {
     "data": {
      "image/png": "[encoded data removed]",
      "text/plain": [
       "<Figure size 432x288 with 1 Axes>"
      ]
     },
     "metadata": {
      "needs_background": "light"
     },
     "output_type": "display_data"
    }
   ],
   "source": [
    "platte_shape = gp.read_file(\"./raw-from-source/Census/2020_VTD/tl_2020_29_all/tl_2020_29165_vtd20.shp\")\n",
    "platte_shape.plot()"
   ]
  },
  {
   "cell_type": "markdown",
   "metadata": {},
   "source": [
    "### 4. Counties themselves\n",
    "> The following counties instead used maps or shapefiles sourced from the respective county governments:  \n",
    "Audrain, Bates, Caldwell, Callaway, Camden, Cape Girardeau, Cedar, Cooper, Franklin, Greene, Jackson, Jasper, Jefferson, Laclede, Lafayette, Lawrence, Marion, McDonald, Miller, Nodaway, Osage, Ozark, Pemiscot, Pike, Randolph, Scott, Ste. Genevieve, Texas, Warren, Washington, Worth, Wright.  "
   ]
  },
  {
   "cell_type": "markdown",
   "metadata": {},
   "source": [
    "- Audrain: https://audraingis.integritygis.com/H5/Index.html?viewer=audrain\n",
    "- Bates: https://batesgis.integritygis.com/H5/Index.html?viewer=bates\n",
    "- Caldwell: can't find\n",
    "- Callaway: can't find\n",
    "- Camden: https://camdengis.integritygis.com/H5/Index.html?viewer=camden\n",
    "- Cape Girardeau: only pdf (https://capecountyelections.com/wp-content/uploads/2019/06/Voter_Precincts.pdf)\n",
    "- Cedar: can't find\n",
    "- Cooper\n",
    "- Franklin\n",
    "- Greene\n",
    "- Jackson\n",
    "- Jasper\n",
    "- Jefferson\n",
    "- Laclede\n",
    "- Lafayette\n",
    "- Lawrence\n",
    "- Marion\n",
    "- McDonald\n",
    "- Miller\n",
    "- Nodaway\n",
    "- Osage\n",
    "- Ozark\n",
    "- Pemiscot\n",
    "- Pike\n",
    "- Randolph\n",
    "- Scott\n",
    "- Ste. Genevieve\n",
    "- Texas\n",
    "- Warren\n",
    "- Washington\n",
    "- Worth\n",
    "- Wright"
   ]
  },
  {
   "cell_type": "markdown",
   "metadata": {},
   "source": [
    "Missouri\n",
    "--------\n",
    "\n",
    "Precinct mergers were made in the following counties to match county reporting units: Andrew, Audrain, Barry, Benton, Bollinger, Boone, Callaway, Camden, Cape Girardeau, Carroll, Carter, Cass, Christian, Clark, Cole, Cooper, Crawford, Dallas, Dekalb, Douglas, Dunklin, Franklin, Gentry, Greene, Grundy, Holt, Howard, Howell, Jackson, Jasper, Jefferson, Johnson, Linn, Livingston, Marion, Mercer, Mississippi, Moniteau, Morgan, New Madrid, Nodaway, Oregon, Osage, Pemiscot, Pettis, Phelps, Platte, Polk, Putnam, Ralls, Randolph, Ray, Ripley, St. Clair, St. Francois, St. Louis, Schuyler, Shannon, Shelby, Stoddard, Sullivan, Warren, Wayne, Webster, Worth.\n",
    "\n",
    "Additional modifications to reflect how election results were reported in 2018:\n",
    "\n",
    "- Audrain: Add Vandalia City; Align Mexico precincts with municipal code\n",
    "- Barry: Add Monett City; Align Cassville with corporate boundary\n",
    "- Barton: Adjust Lamar ward boundaries to match city map\n",
    "- Bollinger: Adjust Patton/Sedgewickville to match county GIS\n",
    "- Butler: Align Poplar Bluff with corporate boundary and adjust wards to match city map\n",
    "- Callaway: Align Fulton, Holts Summit precincts with 2018 corporate boundaries\n",
    "- Carroll: Adjust Carrollton City wards to match voter file\n",
    "- Cass: Align Belton, Pleasant Hill, Raymore precincts with corporate boundaries; Adjust 37 Pleasant Prairie/25 West Peculiar Rural\n",
    "- Chariton: Adjust Salisbury wards to match city map\n",
    "- Christian: Revise Cassidy 1/Cassidy 2; Reverse Nixa City annexation into Rosedale 1B\n",
    "- Clay: Adjust Excelsior Springs, Kearney, Smithville precincts to match 2018 ward and corporate boundaries; Adjust KC 21-1/15, 21-1/17, 21-3/11, 21-4/6, 21-4/11, 21-5/7/24, 21-6/24, 21-7/20, 21-13/26, 21-14/23, 21-17/16, 21-17/26, 21-17/Platte 1, Gallatin 7/16, 10/13, 10/16, 11/15, 13/15, Kearney 3/Platte 2, Liberty 1/10, 6/13, 7/11, 11/14, Washington 1/3 to match voter file\n",
    "- Clinton: Align Atchison/Concord, Jackson/Lathrop with 2018 precinct split assignments\n",
    "- Cole: Adjust Marion Twp St Martins to include St Martins city in Jefferson Twp\n",
    "- Crawford: Move Benton Twp section of Leasburg precinct from Recklein to Leasburg\n",
    "- Dade: Realign Greenfield wards to match municipal code\n",
    "- Dallas: Split N Benton Inside/OCL, S Benton Inside/OCL; Align N/S Benton with Buffalo ward map\n",
    "- Dent: Split Boss precinct from R-4 precinct; Adjust R-2/R-3 boundary\n",
    "- Dunklin: Align Holcomb, Rives with township boundaries; Adjust Arbyrd/Senath; Align Kennett wards with city map\n",
    "- Franklin: Split Dry Branch between Stanton & St. Clair Out of Town\n",
    "- Gasconade: Align Hermann, Owensville, Rosebud with corporate boundaries and ward descriptions\n",
    "- Holt: Split West between Central/Northwest by school district\n",
    "- Howell: Align West Plains precincts with 2018 corporate boundary\n",
    "- Iron: Adjust Annapolis/Des Arc/Vulcan, Ironton/Pilot Knob\n",
    "- Jasper: Realign Carthage 2/3, Joplin 1/7, 10/13, 10/15, 13/22, Oronogo 1/2, Webb City 1/4 to match city ward maps\n",
    "- Jefferson: Split Festus Ward 1 P1/P2, Ward 3 P1/P2, Ward 4 P1/P2; Adjust Crystal City/Riverview\n",
    "- Johnson: Adjust Warrensburg NE/NW boundary to match county maps\n",
    "- Lewis: Split LaBelle Twp between LaBelle FS/Lewistown FS with PLSS grid\n",
    "- Lincoln: Align Moscow Mills, Troy with 2018 corporate boundaries; Adjust Briscoe/Troy Rural\n",
    "- Linn: Split Brookfield Township between Brookfield 1&2/3&4\n",
    "- Livingston: Align Chillicothe with 2018 corporate boundaries\n",
    "- Macon: Align Macon City wards with corporate boundaries\n",
    "- Madison: Align Fredericktown wards with corporate boundaries\n",
    "- Marion: Split Fabius-Smileyville/Taylor, Warren-Monroe City/Warren; Align Hannibal wards with voter file\n",
    "- Miller: Adjust all precinct boundaries to match voter file\n",
    "- Mississippi: Adjust Bertrand/East Prairie Rural; Align East Prairie City with corporate boundary\n",
    "- Montgomery: Align Bellflower/Middletown, Big Spring/Rhineland with voter file\n",
    "- Morgan: Adjust Versaille North/South boundary to match county GIS\n",
    "- New Madrid: Add New Madrid City wards; Add Big Prairie 4 precinct; Move Portageville Ward 1 to Portage 1\n",
    "- Newton: Align Staples precincts with Joplin City GIS boundaries; Align Neosho precincts with Neosho City GIS boundaries; Adjust Newtonia/Ritchey Wentworth\n",
    "- Pettis: Adjust Sedalia City wards to match city map\n",
    "- Phelps: Align St. James ward boundaries with city map\n",
    "- Pike: Adjust Cuivre JL boundaries with Ashley NO, Buffalo E, Prairieville I\n",
    "- Platte: Align Lake Waukomis, Parkville, Platte City, Riverside/Northmore, Weatherby Lake with corporate boundaries; Adjust Platte Hills/Park Hill, Seven Bridges/Shiloh\n",
    "- Polk: Split Campbell/Jefferson precincts by school district\n",
    "- Pulaski: Adjust Big Piney/St. Roberts, Laquey/Waynesville\n",
    "- Putnam: Split Union Twp into NE/SW precincts to match county map\n",
    "- Ralls: Replace Center/Liberty precincts with 2010 VTDs\n",
    "- Ray: Adjust Richmond City wards, Homestead Village/Wood Heights/Lawson, Richmond/Orrick\n",
    "- Reynolds: Realign precincts countywide to match voter file\n",
    "- Saline: Split Nelson precinct from Hardeman precinct; Adjust Marshall Ward 2/3 boundary\n",
    "- St. Charles: Adjust Brian/Ridgepoint, Civic/St. Paul, Harvester/Sycamore, Mamelle/Marina\n",
    "- St. Francois: Align Desloge, Farmington, Park Hills with corporate boundaries and city ward maps; Adjust Bonne Terre/Timberline, Patterson/Timberline, Leadwood/Park Hills to match voter file\n",
    "- St. Louis: Add UNV044 precinct; Split NRW011/NRW052\n",
    "- Scott: Adjust Haywood City/Morley, Sikeston Ward 1/McMullin/Vanduser\n",
    "- Shannon: Align all precincts with county GIS and voter file\n",
    "- Shelby: Adjust Jackson/North River to match voter file\n",
    "- Stoddard: Align Advance, Bernie, Bloomfield, Dexter, Puxico with corporate boundaries; Adjust Advance/Leora, Bernie/Dexter/Pyle, Bloomfield/Gray Ridge\n",
    "- Stone: Move Branson West from Ruth A to Ruth C; Split Ruth C Rural/Sunset Cove; Adjust Ruth B City/Rural to match county GIS\n",
    "- Taney: Adjust Boston Center/Walnut Shade; Align Branson wards with 2018 corporate boundary\n",
    "- Vernon: Align Bronaugh/Moundville, Harwood/Schell City, Deerfield/NG Armory with voter file\n",
    "- Washington: Adjust City Hall/Stony Point, Cruise/Richwoods to match county GIS\n",
    "\n"
   ]
  },
  {
   "cell_type": "code",
   "execution_count": null,
   "metadata": {},
   "outputs": [],
   "source": []
  }
 ],
 "metadata": {
  "kernelspec": {
   "display_name": "Python 3",
   "language": "python",
   "name": "python3"
  },
  "language_info": {
   "codemirror_mode": {
    "name": "ipython",
    "version": 3
   },
   "file_extension": ".py",
   "mimetype": "text/x-python",
   "name": "python",
   "nbconvert_exporter": "python",
   "pygments_lexer": "ipython3",
   "version": "3.8.3"
  }
 },
 "nbformat": 4,
 "nbformat_minor": 4
}
