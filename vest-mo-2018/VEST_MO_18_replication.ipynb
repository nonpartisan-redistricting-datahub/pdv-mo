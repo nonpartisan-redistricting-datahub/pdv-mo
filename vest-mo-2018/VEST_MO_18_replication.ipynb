{
 "cells": [
  {
   "cell_type": "code",
   "execution_count": 41,
   "metadata": {},
   "outputs": [],
   "source": [
    "import maup # mggg's library for proration, see documentation here: https://github.com/mggg/maup\n",
    "import pandas as pd # standard python data library\n",
    "import geopandas as gp # the geo-version of pandas\n",
    "import numpy as np \n",
    "import os\n",
    "import fiona\n",
    "from statistics import mean, median\n",
    "from pandas import read_csv\n",
    "gp.io.file.fiona.drvsupport.supported_drivers['KML'] = 'rw' #To load KML files\n",
    "import string\n",
    "import xml.etree.ElementTree as et"
   ]
  },
  {
   "cell_type": "markdown",
   "metadata": {},
   "source": [
    "# Election Results"
   ]
  },
  {
   "cell_type": "markdown",
   "metadata": {},
   "source": [
    "## Election Data Sources"
   ]
  },
  {
   "cell_type": "markdown",
   "metadata": {},
   "source": [
    "Election results from the Secretary of State's office via OpenElections (https://github.com/openelections/openelections-data-mo/tree/master/2018). Absentee, provisional, and mail ballots were reported countywide in nearly every county; these were distributed by candidate to precincts based on their share of the precinct-level reported vote.\n",
    "\n",
    "- G18USSRHAW - Josh Hawley (Republican Party)  \n",
    "- G18USSDMCC - Claire McCaskill (Democratic Party)  \n",
    "- G18USSLCAM - Japheth Campbell (Libertarian Party)  \n",
    "- G18USSGCRA - Jo Crain (Green Party)  \n",
    "- G18USSIODE - Craig O'Dear (Independent)  \n",
    "  \n",
    "  \n",
    "- G18AUDRMCD - Saundra McDowell (Republican Party)  \n",
    "- G18AUDDGAL - Nicole Galloway (Democratic Party)  \n",
    "- G18AUDLOTO - Sean O'Toole (Libertarian Party)  \n",
    "- G18AUDGFIT - Don Fitz (Green Party)  \n",
    "- G18AUDCLUE - Jacob Luetkemeyer (Constitution Party)  \n"
   ]
  },
  {
   "cell_type": "markdown",
   "metadata": {},
   "source": [
    "## Load Election Data"
   ]
  },
  {
   "cell_type": "code",
   "execution_count": 42,
   "metadata": {},
   "outputs": [],
   "source": [
    "#Import VEST file\n",
    "vest_mo_18 = gp.read_file(\"./raw-from-source/VEST/mo_2018/mo_2018.shp\")\n",
    "\n",
    "#Import elections file\n",
    "mo_elections = pd.read_csv(\"./raw-from-source/Open_Elections/20181106__mo__general__precinct.csv\")\n",
    "\n",
    "#Clean names and filter down to relevant candidates and offices\n",
    "candidate_list = ['Josh Hawley','Claire McCaskill','Japheth Campbell','Jo Crain',\n",
    " \"Craig O'Dear\",'Saundra McDowell','Nicole Galloway',\"Sean O'Toole\",'Don Fitz','Jacob Luetkemeyer']\n",
    "office_list = ['U.S. Senate', 'State Auditor']\n",
    "mo_elections[\"candidate\"] = mo_elections[\"candidate\"].str.strip()\n",
    "mo_elections = mo_elections[mo_elections[\"office\"].isin(office_list)]\n",
    "mo_elections = mo_elections[mo_elections[\"candidate\"].isin(candidate_list)]\n",
    "\n",
    "#Load in FIPS data to change counties from names to fips\n",
    "fips_file = pd.read_csv(\"./raw-from-source/FIPS/US_FIPS_Codes.csv\")\n",
    "fips_file = fips_file[fips_file[\"State\"]==\"Missouri\"]\n",
    "fips_file[\"FIPS County\"] = fips_file[\"FIPS County\"].astype(str)\n",
    "fips_file[\"FIPS County\"] = fips_file[\"FIPS County\"].str.zfill(3)\n",
    "fips_dict = dict(zip(fips_file['County Name'], fips_file['FIPS County']))\n",
    "mo_changes = {'De Kalb':'Dekalb','Kansas City':'Jackson','McDonald':'Mcdonald',\n",
    "              'St. Charles':'St Charles','St. Clair':'St Clair',\n",
    "              'Ste. Genevieve':'Ste Genevieve','St. Francois':'St Francois',\n",
    "              'St. Louis City':'St Louis City','St. Louis County':'St Louis'}\n",
    "mo_elections['county'] = mo_elections['county'].map(mo_changes).fillna(mo_elections['county'])\n",
    "mo_elections['COUNTYFP'] = mo_elections['county'].map(fips_dict).fillna(mo_elections['county'])\n",
    "mo_elections[\"unique_ID\"]=mo_elections[\"COUNTYFP\"]+mo_elections[\"precinct\"]"
   ]
  },
  {
   "cell_type": "markdown",
   "metadata": {},
   "source": [
    "### Pivot Election Results and Change Precinct Names"
   ]
  },
  {
   "cell_type": "code",
   "execution_count": 43,
   "metadata": {},
   "outputs": [],
   "source": [
    "#Pivot election results\n",
    "mo_elections_pivot = pd.pivot_table(mo_elections,index=[\"unique_ID\",\"COUNTYFP\",\"precinct\"],columns=[\"candidate\"],values=['votes'],aggfunc=sum)\n",
    "\n",
    "#Clean up dataframe NA values, index, and names\n",
    "mo_elections_pivot = mo_elections_pivot.fillna(0)\n",
    "mo_elections_pivot.columns = mo_elections_pivot.columns.droplevel(0)\n",
    "mo_elections_pivot.reset_index(drop=False,inplace=True)\n",
    "mo_elections_pivot = mo_elections_pivot.rename(columns={'Claire McCaskill':\"G18USSDMCC\",\"Craig O'Dear\": \"G18USSIODE\",'Don Fitz':\"G18AUDGFIT\",'Jacob Luetkemeyer':\"G18AUDCLUE\",'Japheth Campbell':\"G18USSLCAM\",'Jo Crain':\"G18USSGCRA\",'Josh Hawley':\"G18USSRHAW\",'Nicole Galloway':\"G18AUDDGAL\",'Saundra McDowell':\"G18AUDRMCD\",\"Sean O'Toole\":\"G18AUDLOTO\"})\n",
    "\n",
    "#Change unique_ID names to match VEST final file\n",
    "#matcher_increase is a CSV file that I created that has the name changes that VEST used\n",
    "matcher_increase = pd.read_csv(\"./raw-from-source/matcher_increase.csv\")\n",
    "new_name_dict = dict(zip(matcher_increase['source_names'], matcher_increase['vest_names']))\n",
    "mo_elections_pivot[\"unique_ID\"] = mo_elections_pivot[\"unique_ID\"].str.strip()\n",
    "mo_elections_pivot[\"unique_ID\"] = mo_elections_pivot[\"unique_ID\"].map(new_name_dict).fillna(mo_elections_pivot[\"unique_ID\"])"
   ]
  },
  {
   "cell_type": "markdown",
   "metadata": {},
   "source": [
    "### Check totals before assigning countywide votes"
   ]
  },
  {
   "cell_type": "markdown",
   "metadata": {},
   "source": [
    "Note: There seem to be minor differences in the totals (max of 15 in one column)"
   ]
  },
  {
   "cell_type": "code",
   "execution_count": 48,
   "metadata": {},
   "outputs": [
    {
     "name": "stdout",
     "output_type": "stream",
     "text": [
      "G18USSDMCC\n",
      "For  G18USSDMCC diff of 9.0\n",
      "G18USSIODE\n",
      "For  G18USSIODE diff of 0.0\n",
      "G18AUDGFIT\n",
      "For  G18AUDGFIT diff of 2.0\n",
      "G18AUDCLUE\n",
      "For  G18AUDCLUE diff of 0.0\n",
      "G18USSLCAM\n",
      "For  G18USSLCAM diff of 0.0\n",
      "G18USSGCRA\n",
      "For  G18USSGCRA diff of 2.0\n",
      "G18USSRHAW\n",
      "For  G18USSRHAW diff of 15.0\n",
      "G18AUDDGAL\n",
      "For  G18AUDDGAL diff of 2.0\n",
      "G18AUDRMCD\n",
      "For  G18AUDRMCD diff of 14.0\n",
      "G18AUDLOTO\n",
      "For  G18AUDLOTO diff of 0.0\n"
     ]
    }
   ],
   "source": [
    "col_list = [\"G18USSDMCC\",\"G18USSIODE\",\"G18AUDGFIT\",\"G18AUDCLUE\",\"G18USSLCAM\",\"G18USSGCRA\",\"G18USSRHAW\",\"G18AUDDGAL\",\"G18AUDRMCD\",\"G18AUDLOTO\"]\n",
    "for i in col_list:\n",
    "    print(i)\n",
    "    print(\"For \", i,\"diff of \" + str(abs(sum(mo_elections_pivot[i])-sum(vest_mo_18[i]))))"
   ]
  },
  {
   "cell_type": "markdown",
   "metadata": {},
   "source": [
    "### Assign Countywide Votes"
   ]
  },
  {
   "cell_type": "code",
   "execution_count": 4,
   "metadata": {},
   "outputs": [],
   "source": [
    "kc_precincts = mo_elections_pivot[mo_elections_pivot[\"unique_ID\"].str[0:5]==\"095KC\"]\n",
    "remove_list = [\"ABSENTEE\",\"PROVISIONAL\",\"FEDERAL\",\"FEDERAL/STATE\",\"INTRASTATE\",\"WRITE-IN\",\"CENTRAL POLLING LOCATION\",\"CENTRAL POLL\",\"ABSENTEE1\",\"ABSENTEE2\",\"VOTE CENTER\",\"CENTRAL POLLING LOCATION: MSU\",\"INTRASTATE/NEW RESIDENT\",\"WRITE-INS\",\"MULTI-PRECINCT COLLECTION\",\"INTRASTATE NEW RESIDENT\",\"MULTI-PRECINCT COLLECTION\",\"ABSENTEE, PROVISIONAL & CENTRAL\",\"INTRASTATE01\",\"INTRASTATE02\"]\n",
    "mo_elections_countywide = mo_elections_pivot[(mo_elections_pivot[\"precinct\"].isin(remove_list)) | (mo_elections_pivot[\"unique_ID\"]=='019CENTRAL')]\n",
    "mo_elections_pivot = mo_elections_pivot[~(mo_elections_pivot[\"precinct\"].isin(remove_list)) & ~(mo_elections_pivot[\"unique_ID\"]=='019CENTRAL') & ~(mo_elections_pivot[\"unique_ID\"].str[0:5]==\"095KC\")]\n",
    "countywide_totals = mo_elections_countywide.groupby([\"COUNTYFP\"]).sum()\n",
    "precinct_totals = mo_elections_pivot.groupby([\"COUNTYFP\"]).sum()\n",
    "data_to_add = pd.merge(precinct_totals,countywide_totals,on=['COUNTYFP'],how='left',indicator=False)\n",
    "data_to_add.reset_index(inplace=True,drop=False)\n",
    "\n",
    "joined = pd.merge(mo_elections_pivot,data_to_add,on=['COUNTYFP'],how='left',indicator=False)\n",
    "joined = joined.fillna(0)\n",
    "col_list = [\"G18USSDMCC\",\"G18USSIODE\",\"G18AUDGFIT\",\"G18AUDCLUE\",\"G18USSLCAM\",\"G18USSGCRA\",\"G18USSRHAW\",\"G18AUDDGAL\",\"G18AUDRMCD\",\"G18AUDLOTO\"]\n",
    "for i in col_list:\n",
    "    precinct_totals = i + \"_x\"\n",
    "    countywide_reported = i+\"_y\"\n",
    "    joined[i]=round(joined[i]+((joined[i]*joined[countywide_reported])/joined[precinct_totals]),0)\n",
    "joined = joined [[\"unique_ID\",\"COUNTYFP\",\"precinct\",\"G18USSDMCC\",\"G18USSIODE\",\"G18AUDGFIT\",\"G18AUDCLUE\",\"G18USSLCAM\",\"G18USSGCRA\",\"G18USSRHAW\",\"G18AUDDGAL\",\"G18AUDRMCD\",\"G18AUDLOTO\"]]\n",
    "joined = joined.append(kc_precincts)"
   ]
  },
  {
   "cell_type": "markdown",
   "metadata": {},
   "source": [
    "### Deal with Empty Precincts"
   ]
  },
  {
   "cell_type": "code",
   "execution_count": 5,
   "metadata": {},
   "outputs": [
    {
     "name": "stdout",
     "output_type": "stream",
     "text": [
      "2161    189MER44\n",
      "Name: unique_ID, dtype: object\n"
     ]
    }
   ],
   "source": [
    "vest_mo_18[\"unique_ID\"]=vest_mo_18[\"COUNTYFP\"]+vest_mo_18[\"NAME\"]\n",
    "vest_empty = vest_mo_18[(vest_mo_18['G18USSRHAW']==0) & (vest_mo_18['G18USSDMCC']==0) &\n",
    "              (vest_mo_18['G18USSLCAM']==0) & (vest_mo_18['G18USSGCRA']==0) &\n",
    "              (vest_mo_18['G18USSIODE']==0) & (vest_mo_18['G18AUDRMCD']==0) &\n",
    "              (vest_mo_18['G18AUDDGAL']==0) & (vest_mo_18['G18AUDLOTO']==0) &\n",
    "              (vest_mo_18['G18AUDGFIT']==0) & (vest_mo_18['G18AUDCLUE']==0)][\"unique_ID\"]\n",
    "\n",
    "joined_empty = joined[(joined['G18USSRHAW']==0) & (joined['G18USSDMCC']==0) &\n",
    "              (joined['G18USSLCAM']==0) & (joined['G18USSGCRA']==0) &\n",
    "              (joined['G18USSIODE']==0) & (joined['G18AUDRMCD']==0) &\n",
    "              (joined['G18AUDDGAL']==0) & (joined['G18AUDLOTO']==0) &\n",
    "              (joined['G18AUDGFIT']==0) & (joined['G18AUDCLUE']==0)][\"unique_ID\"]\n",
    "\n",
    "print(joined_empty.head())"
   ]
  },
  {
   "cell_type": "code",
   "execution_count": 6,
   "metadata": {},
   "outputs": [],
   "source": [
    "#Create empty precincts for empty VEST precincts\n",
    "new_precincts = pd.DataFrame(columns=joined.columns)\n",
    "new_precincts[\"unique_ID\"]=vest_empty\n",
    "col_list = [\"G18USSDMCC\",\"G18USSIODE\",\"G18AUDGFIT\",\"G18AUDCLUE\",\"G18USSLCAM\",\"G18USSGCRA\",\"G18USSRHAW\",\"G18AUDDGAL\",\"G18AUDRMCD\",\"G18AUDLOTO\"]\n",
    "for i in col_list:\n",
    "    new_precincts[i]=0\n",
    "joined = joined.append(new_precincts)"
   ]
  },
  {
   "cell_type": "markdown",
   "metadata": {},
   "source": [
    "### Check election results by joining to VEST final file"
   ]
  },
  {
   "cell_type": "code",
   "execution_count": 7,
   "metadata": {},
   "outputs": [
    {
     "name": "stdout",
     "output_type": "stream",
     "text": [
      "(3242, 15)\n",
      "(3243, 13)\n",
      "both          3242\n",
      "right_only       1\n",
      "left_only        0\n",
      "Name: _merge, dtype: int64\n",
      "3242    189MER44\n",
      "Name: unique_ID, dtype: object\n"
     ]
    }
   ],
   "source": [
    "print(vest_mo_18.shape)\n",
    "print(joined.shape)\n",
    "\n",
    "#Note: Only one county did not join, but it is the empty one from above\n",
    "final_join = pd.merge(vest_mo_18,joined,how=\"outer\",on=\"unique_ID\",indicator=True)\n",
    "print(final_join[\"_merge\"].value_counts())\n",
    "print(final_join[final_join[\"_merge\"]==\"right_only\"][\"unique_ID\"])"
   ]
  },
  {
   "cell_type": "markdown",
   "metadata": {},
   "source": [
    "### Validate Election Results"
   ]
  },
  {
   "cell_type": "code",
   "execution_count": 8,
   "metadata": {},
   "outputs": [
    {
     "name": "stdout",
     "output_type": "stream",
     "text": [
      "New max diff is:  1.0\n",
      "043West Finley\n",
      "New max diff is:  2.0\n",
      "0194K/4M/37\n",
      "There are  3242  total rows\n",
      "1067  of these rows have election result differences\n",
      "2175  of these rows are the same\n",
      "\n",
      "The max difference between any one shared column in a row is:  2.0\n",
      "The average difference is:  1.0192307692307692\n",
      "There are  0 precinct results with a difference greater than 5\n"
     ]
    }
   ],
   "source": [
    "def validater_row (df, column_List):\n",
    "    matching_rows = 0\n",
    "    different_rows = 0\n",
    "    diff_list=[]\n",
    "    diff_values = []\n",
    "    max_diff = 0\n",
    "    \n",
    "    for j in range(0,len(df.index)):\n",
    "        same = True\n",
    "        for i in column_List:\n",
    "            left_Data = i + \"_x\"\n",
    "            right_Data = i + \"_y\"\n",
    "            diff = abs(df.iloc[j][left_Data]-df.iloc[j][right_Data])\n",
    "            if(diff != 0):\n",
    "                diff_values.append(abs(diff))\n",
    "                same = False\n",
    "                if(np.isnan(diff)):\n",
    "                    print(\"NaN value at diff is: \", df.iloc[j]['unique_ID'])\n",
    "                if (diff>max_diff):\n",
    "                    max_diff = diff\n",
    "                    print(\"New max diff is: \", str(max_diff))\n",
    "                    print(df.iloc[j]['unique_ID'])\n",
    "        if(same != True):\n",
    "            different_rows +=1\n",
    "            diff_list.append(df.iloc[j]['unique_ID'])\n",
    "        else:\n",
    "            matching_rows +=1\n",
    "    print(\"There are \", len(df.index),\" total rows\")\n",
    "    print(different_rows,\" of these rows have election result differences\")\n",
    "    print(matching_rows,\" of these rows are the same\")\n",
    "    print(\"\")\n",
    "    print(\"The max difference between any one shared column in a row is: \", max_diff)\n",
    "    if(len(diff_values)!=0):\n",
    "        print(\"The average difference is: \", str(sum(diff_values)/len(diff_values)))\n",
    "    count_big_diff = len([i for i in diff_values if i > 10])\n",
    "    print(\"There are \", str(count_big_diff), \"precinct results with a difference greater than 5\")\n",
    "    diff_list.sort()\n",
    "\n",
    "col_list = [\"G18USSDMCC\",\"G18USSIODE\",\"G18AUDGFIT\",\"G18AUDCLUE\",\"G18USSLCAM\",\"G18USSGCRA\",\"G18USSRHAW\",\"G18AUDDGAL\",\"G18AUDRMCD\",\"G18AUDLOTO\"]\n",
    "validater_row(final_join[final_join[\"_merge\"]==\"both\"],col_list)"
   ]
  },
  {
   "cell_type": "markdown",
   "metadata": {},
   "source": [
    "# Precinct Shapefiles"
   ]
  },
  {
   "cell_type": "markdown",
   "metadata": {},
   "source": [
    "## Precinct Shapefile Sources"
   ]
  },
  {
   "cell_type": "markdown",
   "metadata": {},
   "source": [
    "The documentation mentions 4 different sources for shapefiles:\n",
    "\n",
    "1. Precinct shapefiles primarily from the U.S. Census Bureau's 2020 Redistricting Data Program Phase 2 release.  \n",
    "2. Monroe County comes from the 2010 Census VTD release.  \n",
    "3. Platte County comes from the 2020 Census VTD release.  \n",
    "4. The following counties instead used maps or shapefiles sourced from the respective county governments: Audrain, Bates, Caldwell, Callaway, Camden, Cape Girardeau, Cedar, Cooper, Franklin, Greene, Jackson, Jasper, Jefferson, Laclede, Lafayette, Lawrence, Marion, McDonald, Miller, Nodaway, Osage, Ozark, Pemiscot, Pike, Randolph, Scott, Ste. Genevieve, Texas, Warren, Washington, Worth, Wright.  "
   ]
  },
  {
   "cell_type": "markdown",
   "metadata": {},
   "source": [
    "### 1. U.S. Census Bureau's 2020 Redistricting Data Program Phase 2 release\n",
    "> Precinct shapefiles primarily from the U.S. Census Bureau's 2020 Redistricting Data Program Phase 2 release.\n",
    "\n",
    "https://www.census.gov/geo/partnerships/pvs/partnership19v2/st29_mo.html"
   ]
  },
  {
   "cell_type": "code",
   "execution_count": 9,
   "metadata": {},
   "outputs": [],
   "source": [
    "#When downloading from the Census redistricing data program, these use a FIPS code to identify counties\n",
    "\n",
    "fips_file[\"unique_ID\"] =  \"29\" + fips_file[\"FIPS County\"]\n",
    "fips_codes = fips_file[\"unique_ID\"].tolist()\n",
    "\n",
    "#Combine all the data from separate files into one\n",
    "li = []\n",
    "for i in fips_codes:\n",
    "    ref = \"./raw-from-source/Census/2020_Phase_2/partnership_shapefiles_19v2_\"\n",
    "    file_ref = ref+i+\"/PVS_19_v2_vtd_\"+i+\".shp\"\n",
    "    file_prev = gp.read_file(file_ref)\n",
    "    #print(file_prev.shape)\n",
    "    li.append(file_prev)\n",
    "global shapefiles_census\n",
    "shapefiles_census = pd.concat(li, axis=0, ignore_index=True)"
   ]
  },
  {
   "cell_type": "code",
   "execution_count": 10,
   "metadata": {},
   "outputs": [
    {
     "name": "stdout",
     "output_type": "stream",
     "text": [
      "189NW006            2\n",
      "189CHE018           2\n",
      "189FER024           1\n",
      "009Roaring River    1\n",
      "189NW051            1\n",
      "                   ..\n",
      "169Swedeborg        1\n",
      "189CHE048           1\n",
      "189QUE024           1\n",
      "189MR212            1\n",
      "189WH208            1\n",
      "Name: unique_ID, Length: 3150, dtype: int64\n"
     ]
    }
   ],
   "source": [
    "county_list = [\"Audrain\", \"Bates\",\"Caldwell\",\"Callaway\",\"Camden\",\"Cape Girardeau\",\"Cedar\",\"Cooper\",\"Franklin\",\"Greene\",\"Jackson\",\"Jasper\",\"Jefferson\", \n",
    "               \"Laclede\", \"Lafayette\",\"Lawrence\", \"Marion\", \"Mcdonald\",\"Miller\",\"Monroe\",\"Nodaway\",\n",
    "               \"Osage\", \"Ozark\", \"Pemiscot\",\"Platte\", \"Pike\", \"Randolph\", \"Scott\",\"Ste Genevieve\", \"Texas\", \"Warren\", \"Washington\", \"Worth\", \"Wright\"]\n",
    "fips_to_take = fips_file[fips_file[\"County Name\"].isin(county_list)]\n",
    "different_source = fips_to_take[\"FIPS County\"].tolist()\n",
    "\n",
    "shapefiles_census = shapefiles_census[~shapefiles_census[\"COUNTYFP\"].isin(different_source)]\n",
    "\n",
    "#Create a unique ID\n",
    "shapefiles_census[\"unique_ID\"] = shapefiles_census[\"COUNTYFP\"]+shapefiles_census[\"NAME\"]\n",
    "shapefiles_census[\"unique_ID\"] = shapefiles_census[\"unique_ID\"].apply(lambda x: x.title() if (x[0:3]!=\"189\" and x[0:3]!=\"510\" and x[0:3]!=\"047\" and x[0:3]!=\"159\" and x[0:3]!=\"051\" and x[0:3]!=\"217\" and x[0:3]!=\"183\" and x[0:3]!=\"009\" ) else x)\n",
    "shapefiles_census[\"unique_ID\"] = shapefiles_census[\"unique_ID\"].str.strip()\n",
    "\n",
    "#Check if unique_ID value is unique\n",
    "print(shapefiles_census[\"unique_ID\"].value_counts())\n",
    "\n",
    "#Filter down election results to just these counties\n",
    "elections_census_shapes = joined[~joined[\"COUNTYFP\"].isin(different_source)]\n",
    "\n"
   ]
  },
  {
   "cell_type": "markdown",
   "metadata": {},
   "source": [
    "### Look into duplicate unique IDs"
   ]
  },
  {
   "cell_type": "markdown",
   "metadata": {},
   "source": [
    "Ultimately, I didn't merge these because VEST didn't specify whether they did or not"
   ]
  },
  {
   "cell_type": "code",
   "execution_count": 11,
   "metadata": {},
   "outputs": [
    {
     "name": "stdout",
     "output_type": "stream",
     "text": [
      "     STATEFP COUNTYFP   VTDST NAMELSAD VTDI LSAD CHNG_TYPE ORIG_NAME  \\\n",
      "3087      29      189  CHE018   CHE018    A   00      None      None   \n",
      "3181      29      189  CH1605   CHE018    A   00      None      None   \n",
      "\n",
      "     ORIG_CODE RELATE    NAME VINTAGE FUNCSTAT JUSTIFY  MTFCC  \\\n",
      "3087      None   None  CHE018      90        N    None  G5240   \n",
      "3181      None   None  CHE018      90        N    None  G5240   \n",
      "\n",
      "                                               geometry  unique_ID  \n",
      "3087  POLYGON Z ((-90.61789 38.66091 0.00000, -90.61...  189CHE018  \n",
      "3181  POLYGON Z ((-90.59452 38.66029 0.00000, -90.59...  189CHE018  \n"
     ]
    },
    {
     "data": {
      "text/plain": [
       "<matplotlib.axes._subplots.AxesSubplot at 0x7f9000b4b910>"
      ]
     },
     "execution_count": 11,
     "metadata": {},
     "output_type": "execute_result"
    },
    {
     "data": {
      "image/png": "[encoded data removed]",
      "text/plain": [
       "<Figure size 432x288 with 1 Axes>"
      ]
     },
     "metadata": {
      "needs_background": "light"
     },
     "output_type": "display_data"
    }
   ],
   "source": [
    "print(shapefiles_census[shapefiles_census[\"unique_ID\"]==\"189CHE018\"])\n",
    "\n",
    "ax = shapefiles_census[shapefiles_census[\"VTDST\"]==\"CHE018\"].plot()\n",
    "shapefiles_census[shapefiles_census[\"VTDST\"]==\"CH1605\"].plot(ax = ax,color=\"orange\")"
   ]
  },
  {
   "cell_type": "code",
   "execution_count": 12,
   "metadata": {},
   "outputs": [
    {
     "name": "stdout",
     "output_type": "stream",
     "text": [
      "     STATEFP COUNTYFP   VTDST NAMELSAD VTDI LSAD CHNG_TYPE ORIG_NAME  \\\n",
      "2943      29      189  0NW006    NW006    A   00      None      None   \n",
      "3897      29      189  NW1604    NW006    A   00      None      None   \n",
      "\n",
      "     ORIG_CODE RELATE   NAME VINTAGE FUNCSTAT JUSTIFY  MTFCC  \\\n",
      "2943      None   None  NW006      90        N    None  G5240   \n",
      "3897      None   None  NW006      90        N    None  G5240   \n",
      "\n",
      "                                               geometry unique_ID  \n",
      "2943  POLYGON Z ((-90.47419 38.78762 0.00000, -90.47...  189NW006  \n",
      "3897  POLYGON Z ((-90.37090 38.80798 0.00000, -90.37...  189NW006  \n",
      "Empty DataFrame\n",
      "Columns: [unique_ID, COUNTYFP, precinct, G18USSDMCC, G18USSIODE, G18AUDGFIT, G18AUDCLUE, G18USSLCAM, G18USSGCRA, G18USSRHAW, G18AUDDGAL, G18AUDRMCD, G18AUDLOTO]\n",
      "Index: []\n"
     ]
    },
    {
     "data": {
      "image/png": "[encoded data removed]",
      "text/plain": [
       "<Figure size 432x288 with 1 Axes>"
      ]
     },
     "metadata": {
      "needs_background": "light"
     },
     "output_type": "display_data"
    }
   ],
   "source": [
    "print(shapefiles_census[shapefiles_census[\"unique_ID\"]==\"189NW006\"])\n",
    "\n",
    "ax = shapefiles_census[shapefiles_census[\"VTDST\"]==\"0NW006\"].plot()\n",
    "shapefiles_census[shapefiles_census[\"VTDST\"]==\"NW1604\"].plot(ax = ax,color=\"orange\")\n",
    "\n",
    "print(elections_census_shapes[elections_census_shapes[\"unique_ID\"]==\"189NW006\"])"
   ]
  },
  {
   "cell_type": "markdown",
   "metadata": {},
   "source": [
    "### Name Changes to Join Election Results to Precincts"
   ]
  },
  {
   "cell_type": "markdown",
   "metadata": {},
   "source": [
    "Note: All name changes and mergers below were determined by examining the names side by side and making changes as necessary. In checking the election results, I sometimes looked at VEST's final file to see what name changes they made if it was not clear."
   ]
  },
  {
   "cell_type": "code",
   "execution_count": 13,
   "metadata": {},
   "outputs": [],
   "source": [
    "census_name_changes_dict = {\"003Savannah Southeast\":\"003Southeast\"\n",
    "                            ,\"003Savannah Southwest\":\"003Southwest\",\n",
    " \"017Drum-Dongola\":\"017Drum Dungola\",\n",
    " \"021Bible Baptist Temple\":\"021Riverside Baptist Church\",\n",
    "'037No. 1 - Sherman':'03701 Sherman',\n",
    "'037No. 7 - Coldwater':'03707 Drexel',\n",
    "'037No. 10 - Grand River':'03710 Grand River Rural',\n",
    "'037No. 11 - Grand River, Ward 1':'03711 Harrisonville Ward 1',\n",
    "'037No. 12 - Grand River, Ward 2':'03712 Harrisonville Ward 2',\n",
    "'037No. 13 - Grand River, Ward 3':'03713 Harrisonville Ward 3',\n",
    "'037No. 14 - Grand River, Ward 4':'03714 Harrisonville Ward 4',\n",
    "'037No. 19 - Polk':'03719 Polk',\n",
    "'037No. 20 - Pleasant Hill':'03720 Pleasant Hill',\n",
    "'037No. 21 - Pleasant Hill':'03721 Pleasant Hill East',\n",
    "'037No. 22 - Pleasant Hill':'03722 Pleasant Hill',\n",
    "'037No. 23 - Pleasant Hill':'03723 Pleasant Hill Rural',\n",
    "'037No. 24 - Peculiar':'03724 Peculiar Rural',\n",
    "'037No. 25 - West Peculiar':'03725 West Peculiar Rural',\n",
    "'037No. 26 - West Peculiar':'03726 West Peculiar City',\n",
    "'037No. 27 - Union':'03727 Union',\n",
    "'037No. 28 - Big Creek':'03728 Big Creek Rural',\n",
    "'037No. 29 - Big Creek':'03729 Winnebago',\n",
    "'037No. 30 - Raymore':'03730 Raymore Rural',\n",
    "'037No. 31 - Raymore, Ward 3':'03731 Raymore Ward 3',\n",
    "'037No. 32 - Raymore, Ward 2':'03732 Raymore Ward 2',\n",
    "'037No. 33 - Raymore, Ward 2':'03733 Raymore Ward 2',\n",
    "'037No. 34 - Raymore, Wards 3 & 4':'03734 Raymore Wards 3 & 4',\n",
    "'037No. 35 - Raymore, Ward 4':'03735 Raymore Ward 4',\n",
    "'037No. 36 - Kansas City':'03736 Mt Pleasant Rural',\n",
    "'037No. 37 - Mt Pleasant':'03737 Pleasant Prairie',\n",
    "'037No. 38 - Mt Pleasant, NE Ward 1':'03738 Belton NE Ward 1',\n",
    "'037No. 39 - Mt Pleasant, NE Ward 1':'03739 Belton NE Ward 1',\n",
    "'037No. 40 - Mt Pleasant, NW Ward 2':'03740 Belton NW Ward 2',\n",
    "'037No. 41 - Mt Pleasant, NW Ward 2':'03741 Belton NW Ward 2',\n",
    "'037No. 42 - Mt Pleasant, SW Ward 3':'03742 Belton SW Ward 3',\n",
    "'037No. 43 - Mt Pleasant, SW Ward 3':'03743 Belton SW Ward 3',\n",
    "'037No. 44 - Mt Pleasant, SW Ward 4':'03744 Belton SW Ward 4',\n",
    "'037No. 45 - Mt Pleasant, SE Ward 4':'03745 Belton SE Ward 4',\n",
    "'037No. 46 - Mt Pleasant':'03746 East Creek',\n",
    "'037No. 47 - Raymore, Ward 1':'03747 Raymore Ward 1',\n",
    "'145Neosho No. 3':'145Neosho #3',\n",
    " \"043Cassidy\":\"043Cassidy 1\",\"510ST 1-4\":\"510STL 1-4\",\n",
    "'181Flatwoods & Johnson P2 & Washington':'181Flatwoods/Johnson P2/Washington',\n",
    "'181Gatewood & Union':'181Gatewood/Union',\n",
    "'181Harris & Varner P1':'181Harris/Varner P1',\n",
    "'181Shirley & Kelly & Pine':'181Shirley/Kelly/Pine',\n",
    "'181Thomas & Varner P2':'181Thomas/Varner P2'}\n",
    "\n",
    "\n",
    "shapefiles_census[\"unique_ID\"] = shapefiles_census[\"unique_ID\"].map(census_name_changes_dict).fillna(shapefiles_census[\"unique_ID\"])\n"
   ]
  },
  {
   "cell_type": "code",
   "execution_count": 14,
   "metadata": {},
   "outputs": [],
   "source": [
    "#Get CRS and cut down columns\n",
    "shapefiles_census_crs = shapefiles_census.crs\n",
    "shapefiles_census = shapefiles_census[['geometry', 'unique_ID']]"
   ]
  },
  {
   "cell_type": "markdown",
   "metadata": {},
   "source": [
    "### Precinct Merger Code"
   ]
  },
  {
   "cell_type": "code",
   "execution_count": 15,
   "metadata": {},
   "outputs": [],
   "source": [
    "dict_func_calls = {'03716 East Lynne/18 Gunn City':[\"037No. 16 - Camp Branch\",\"037No. 18 - Index\"],\n",
    "'03702 Dayton/03 Garden City/15 Camp Branch/17 Index':['037No. 2 - Dayton','037No. 3 - Garden City','037No. 15 - Camp Branch','037No. 17 - Index'],\n",
    "'03704 Austin/05 Archie/06 Everett':[\"037No. 4 - Austin\",\"037No. 5 - Austin\",\"037No. 6 - Everett\"],\n",
    "'03708 West Dolan/09 Dolan':[\"037No. 8 - West Dolan\",\"037No. 9 - Dolan\"],\n",
    "'1591st Ward':['1591st Ward 1st Precinct','1591st Ward 2nd Precinct','1591st Ward 3rd Precinct'],\n",
    "'1592nd Ward':['1592nd Ward 3rd Precinct','1592nd Ward 1st Precinct','1592nd Ward 2nd Precinct'],\n",
    "'1593rd Ward':['1593rd Ward 1st Precinct','1593rd Ward 2nd Precinct','1593rd Ward 3rd Precinct'],\n",
    "'1594th Ward':['1594th Ward 1st Precinct','1594th Ward 2nd Precinct','1594th Ward 3rd Precinct'],\n",
    "'159Smithton W BP/Smithton E & W/Lake Creek':['159Smithton E & W/Lake Creek','159Smithton W BP' ],\n",
    "'181Poynor/Current River/West Doniphan/Doniphan P1/Doniphan P2':['181Doniphan P1 & Doniphan P2','181Poynor & Current River & West Doniphan'],\n",
    "'185Appleton':['185Appleton No. 1','185Appleton No. 2'],\n",
    "'185Butler':['185Butler East','185Butler West'],\n",
    "'185Collins/Washington':['185Collins','185Washington'],\n",
    "'185Dallas/Doyal':['185Dallas','185Doyal'],\n",
    "'185Monegaw/Osage':['185Monegaw','185Osage'],\n",
    "'185Osceola/Polk':['185Osceola East','185Osceola West','185Polk'],\n",
    "'185Center/Roscoe':[ '185Center','185Roscoe'],\n",
    "'185Speedwell/Taber':['185Speedwell','185Taber'],\n",
    "'187Farmington No. 4/Busiek':['187Busiek','187Farmington No. 4'],\n",
    "'197Coffey/Downing':['197Coffey','197Downing'],\n",
    "'197North Liberty/Coatsville/Glenwood/South Liberty':['197Coatsville','197Glenwood','197North Liberty','197South Liberty'],\n",
    "'197East Prairie/West Prairie':['197East Prairie','197West Prairie'],\n",
    "'203Spring Creek/Birch Tree/Bartlett':['203Spring Creek','203Bartlett','203Birch Tree'],\n",
    "'203Eminence/Delaware':['203Delaware','203Eminence'],\n",
    "'205BETHEL/TIGER FORK':['205Bethel/Tiger Fork',],\n",
    "'207Bloomfield Ward No. 1/2':['207Bloomfield Ward No. 2','207Bloomfield Ward No. 1'],\n",
    "'211Green City/Pennville':['211Green City','211Pennville'],\n",
    "'211Taylor/Humphreys':['211Taylor','211Humphreys'],\n",
    "'211Pollock/Boynton':['211Boynton','211Pollock'],\n",
    "'211South Polk/Reger/Pleasant Hill':['211Reger','211South Polk','211Pleasant Hill'],\n",
    "'211West Polk/Asbury':['211West Polk','211Asbury'],\n",
    "\"223Peach Tree/Piedmont Ward 1/Ward 2\":['223Peach Tree','223Piedmont Ward No. 1','223Piedmont Ward No. 2'],\n",
    "\"223Wappapello/McGee/Shook\":['223Wappapello','223McGee','223Shook'],\n",
    "\"223Coldwater/Greenville/Silva\":['223Coldwater','223Greenville','223Silva'],\n",
    "\"223Cool Springs/Chaonia\":['223Chaonia','223Cool Springs'],\n",
    "\"223Lowndes/Hiram\":['223Lowndes','223Hiram'],\n",
    "\"223Patterson/Brunot/Smith Mill\":['223Patterson','223Smith Mill','223Brunot'],\n",
    "\"223Cascade/Clubb\":['223Clubb','223Cascade'],\n",
    "\"225East Ozark/Northview A\":[\"225Northview A\",\"225East Ozark\"],\n",
    "\"225Finley/Hazelwood\":[\"225Finley\",\"225Hazelwood\"],\n",
    "\"225Niangua/Union\":[\"225Niangua\",\"225Union\"],\n",
    "\"225Washington/Grant\":[\"225Washington\",\"225Grant\"]}"
   ]
  },
  {
   "cell_type": "code",
   "execution_count": 16,
   "metadata": {},
   "outputs": [],
   "source": [
    "def precinct_merger(precinct_list,new_precinct):\n",
    "    global shapefiles_census\n",
    "    prec_holder = []\n",
    "    for i in precinct_list:\n",
    "        prec_holder.append(shapefiles_census.loc[shapefiles_census[\"unique_ID\"]==i])\n",
    "    new_geom = pd.concat(prec_holder, ignore_index=True).unary_union\n",
    "    new_prec = gp.GeoDataFrame(geometry=[new_geom],columns=[\"geometry\",\"unique_ID\"],crs = shapefiles_census_crs)\n",
    "    new_prec[\"unique_ID\"]=new_precinct\n",
    "    shapefiles_census = shapefiles_census.append(new_prec)\n",
    "    shapefiles_census = shapefiles_census[~shapefiles_census[\"unique_ID\"].isin(precinct_list)]\n",
    "\n",
    "for val in dict_func_calls:\n",
    "    precinct_merger(dict_func_calls[val],val)"
   ]
  },
  {
   "cell_type": "code",
   "execution_count": 17,
   "metadata": {},
   "outputs": [],
   "source": [
    "county_fips_code_list = [\"003\",\"009\",\"015\",\"017\",\"019\",\"035\",\"043\",\"143\",\"189\"]\n",
    "filtered_census = elections_census_shapes[elections_census_shapes[\"unique_ID\"].str[0:3].isin(county_fips_code_list)][\"unique_ID\"]\n",
    "for val in filtered_census:\n",
    "    if \"/\" in val:\n",
    "        pieces = val.split(\"/\")\n",
    "        fips = pieces[0][0:3]\n",
    "        holder = []\n",
    "        holder.append(pieces[0])\n",
    "        for i in range(1,len(pieces)):\n",
    "            holder.append(fips+pieces[i])\n",
    "        precinct_merger(holder,val)"
   ]
  },
  {
   "cell_type": "code",
   "execution_count": 18,
   "metadata": {},
   "outputs": [
    {
     "name": "stdout",
     "output_type": "stream",
     "text": [
      "both          2088\n",
      "right_only     337\n",
      "left_only      171\n",
      "Name: _merge, dtype: int64\n"
     ]
    }
   ],
   "source": [
    "#Attempt to join on the \"unique_ID\" column\n",
    "census_join = pd.merge(elections_census_shapes,shapefiles_census,how=\"outer\",on=\"unique_ID\",indicator=True)\n",
    "print(census_join[\"_merge\"].value_counts())\n",
    "#census_join[census_join[\"_merge\"]==\"left_only\"].to_csv(\"./census_join/election.csv\")\n",
    "#census_join[census_join[\"_merge\"]==\"right_only\"].to_csv(\"./census_join/shapes.csv\")"
   ]
  },
  {
   "cell_type": "markdown",
   "metadata": {},
   "source": [
    "Documentation (modifications not attempted)\n",
    "--------\n",
    "\n",
    "Precinct mergers were made in the following counties to match county reporting units: \n",
    "- Andrew: Precinct mergers to match county reporting units\n",
    "- Barry: Precinct mergers to match county reporting units\n",
    "- Barry: Add Monett City; Align Cassville with corporate boundary\n",
    "- Barton: Adjust Lamar ward boundaries to match city map\n",
    "- Benton: Precinct mergers to match county reporting units\n",
    "- Bollinger: Precinct mergers to match county reporting units\n",
    "- Bollinger: Adjust Patton/Sedgewickville to match county GIS\n",
    "- Butler: Align Poplar Bluff with corporate boundary and adjust wards to match city map\n",
    "- Boone: Precinct mergers to match county reporting units\n",
    "- Carroll: Precinct mergers to match county reporting units\n",
    "- Carroll: Adjust Carrollton City wards to match voter file\n",
    "- Carter: Precinct mergers to match county reporting units\n",
    "- Cass: Precinct mergers to match county reporting units\n",
    "- Cass: Align Belton, Pleasant Hill, Raymore precincts with corporate boundaries; Adjust 37 Pleasant Prairie/25 West Peculiar Rural\n",
    "- Chariton: Adjust Salisbury wards to match city map\n",
    "- Christian: Revise Cassidy 1/Cassidy 2; Reverse Nixa City annexation into Rosedale 1B\n",
    "- Christian: Precinct mergers to match county reporting units\n",
    "- Clark: Precinct mergers to match county reporting units\n",
    "- Clay: Adjust Excelsior Springs, Kearney, Smithville precincts to match 2018 ward and corporate boundaries; Adjust KC 21-1/15, 21-1/17, 21-3/11, 21-4/6, 21-4/11, 21-5/7/24, 21-6/24, 21-7/20, 21-13/26, 21-14/23, 21-17/16, 21-17/26, 21-17/Platte 1, Gallatin 7/16, 10/13, 10/16, 11/15, 13/15, Kearney 3/Platte 2, Liberty 1/10, 6/13, 7/11, 11/14, Washington 1/3 to match voter file\n",
    "- Clinton: Align Atchison/Concord, Jackson/Lathrop with 2018 precinct split assignments\n",
    "- Cole: Precinct mergers to match county reporting units\n",
    "- Cole: Adjust Marion Twp St Martins to include St Martins city in Jefferson Twp\n",
    "- Crawford: Move Benton Twp section of Leasburg precinct from Recklein to Leasburg\n",
    "- Crawford: Precinct mergers to match county reporting units\n",
    "- Dade: Realign Greenfield wards to match municipal code\n",
    "- Dallas: Split N Benton Inside/OCL, S Benton Inside/OCL; Align N/S Benton with Buffalo ward map\n",
    "- Dallas: Precinct mergers to match county reporting units\n",
    "- Dekalb: Precinct mergers to match county reporting units\n",
    "- Dent: Split Boss precinct from R-4 precinct; Adjust R-2/R-3 boundary\n",
    "- Douglas: Precinct mergers to match county reporting units\n",
    "- Dunklin: Precinct mergers to match county reporting units\n",
    "- Dunklin: Align Holcomb, Rives with township boundaries; Adjust Arbyrd/Senath; Align Kennett wards with city map\n",
    "- Gasconade: Align Hermann, Owensville, Rosebud with corporate boundaries and ward descriptions\n",
    "- Gentry: Precinct mergers to match county reporting units\n",
    "- Grundy: Precinct mergers to match county reporting units\n",
    "- Holt: Precinct mergers to match county reporting units\n",
    "- Holt: Split West between Central/Northwest by school district\n",
    "- Howard: Precinct mergers to match county reporting units\n",
    "- Howell: Precinct mergers to match county reporting units\n",
    "- Howell: Align West Plains precincts with 2018 corporate boundary\n",
    "- Iron: Adjust Annapolis/Des Arc/Vulcan, Ironton/Pilot Knob\n",
    "- Johnson: Adjust Warrensburg NE/NW boundary to match county maps\n",
    "- Johnson: Precinct mergers to match county reporting units\n",
    "- Lewis: Split LaBelle Twp between LaBelle FS/Lewistown FS with PLSS grid\n",
    "- Lincoln: Align Moscow Mills, Troy with 2018 corporate boundaries; Adjust Briscoe/Troy Rural\n",
    "- Linn: Precinct mergers to match county reporting units\n",
    "- Linn: Split Brookfield Township between Brookfield 1&2/3&4\n",
    "- Livingston: Align Chillicothe with 2018 corporate boundaries\n",
    "- Livingston: Precinct mergers to match county reporting units\n",
    "- Macon: Align Macon City wards with corporate boundaries\n",
    "- Madison: Align Fredericktown wards with corporate boundaries\n",
    "- Mercer: Precinct mergers to match county reporting units\n",
    "- Mississippi: Precinct mergers to match county reporting units\n",
    "- Mississippi: Adjust Bertrand/East Prairie Rural; Align East Prairie City with corporate boundary\n",
    "- Moniteau: Precinct mergers to match county reporting units\n",
    "- Montgomery: Align Bellflower/Middletown, Big Spring/Rhineland with voter file\n",
    "- Morgan: Adjust Versaille North/South boundary to match county GIS\n",
    "- Morgan: Precinct mergers to match county reporting units\n",
    "- New Madrid: Precinct mergers to match county reporting units\n",
    "- New Madrid: Add New Madrid City wards; Add Big Prairie 4 precinct; Move Portageville Ward 1 to Portage 1\n",
    "- Newton: Align Staples precincts with Joplin City GIS boundaries; Align Neosho precincts with Neosho City GIS boundaries; Adjust Newtonia/Ritchey Wentworth\n",
    "- Oregon: Precinct mergers to match county reporting units\n",
    "- Pettis: Precinct mergers to match county reporting units\n",
    "- Pettis: Adjust Sedalia City wards to match city map\n",
    "- Phelps: Align St. James ward boundaries with city map\n",
    "- Phelps: Precinct mergers to match county reporting units\n",
    "- Polk: Precinct mergers to match county reporting units\n",
    "- Polk: Split Campbell/Jefferson precincts by school district\n",
    "- Putnam: Split Union Twp into NE/SW precincts to match county map\n",
    "- Putnam: Precinct mergers to match county reporting units\n",
    "- Pulaski: Adjust Big Piney/St. Roberts, Laquey/Waynesville\n",
    "- Ralls: Precinct mergers to match county reporting units\n",
    "- Ralls: Replace Center/Liberty precincts with 2010 VTDs\n",
    "- Ray: Adjust Richmond City wards, Homestead Village/Wood Heights/Lawson, Richmond/Orrick\n",
    "- Ray: Precinct mergers to match county reporting units\n",
    "- Reynolds: Realign precincts countywide to match voter file\n",
    "- Ripley: Precinct mergers to match county reporting units\n",
    "- Saline: Split Nelson precinct from Hardeman precinct; Adjust Marshall Ward 2/3 boundary\n",
    "- St. Charles: Adjust Brian/Ridgepoint, Civic/St. Paul, Harvester/Sycamore, Mamelle/Marina\n",
    "- St. Clair: Precinct mergers to match county reporting units\n",
    "- St. Francois: Precinct mergers to match county reporting units\n",
    "- St. Francois: Align Desloge, Farmington, Park Hills with corporate boundaries and city ward maps; Adjust Bonne Terre/Timberline, Patterson/Timberline, Leadwood/Park Hills to match voter file\n",
    "- St. Louis: Precinct mergers to match county reporting units\n",
    "- St. Louis: Add UNV044 precinct; Split NRW011/NRW052\n",
    "- Schuyler: Precinct mergers to match county reporting units\n",
    "- Shannon: Precinct mergers to match county reporting units\n",
    "- Shannon: Align all precincts with county GIS and voter file\n",
    "- Shelby: Precinct mergers to match county reporting units\n",
    "- Shelby: Adjust Jackson/North River to match voter file\n",
    "- Stoddard: Precinct mergers to match county reporting units\n",
    "- Stoddard: Align Advance, Bernie, Bloomfield, Dexter, Puxico with corporate boundaries; Adjust Advance/Leora, Bernie/Dexter/Pyle, Bloomfield/Gray Ridge\n",
    "- Stone: Move Branson West from Ruth A to Ruth C; Split Ruth C Rural/Sunset Cove; Adjust Ruth B City/Rural to match county GIS\n",
    "- Sullivan: Precinct mergers to match county reporting units\n",
    "- Taney: Adjust Boston Center/Walnut Shade; Align Branson wards with 2018 corporate boundary\n",
    "- Vernon: Align Bronaugh/Moundville, Harwood/Schell City, Deerfield/NG Armory with voter file\n",
    "- Wayne: Precinct mergers to match county reporting units\n",
    "- Webster: Precinct mergers to match county reporting units\n",
    "\n",
    "\n",
    "\n"
   ]
  },
  {
   "cell_type": "markdown",
   "metadata": {},
   "source": [
    "### 2. 2010 Census VTD release\n",
    ">Monroe County comes from the 2010 Census VTD release.\n",
    "\n",
    "https://www.census.gov/cgi-bin/geo/shapefiles/index.php?year=2010&layergroup=Voting+Districts"
   ]
  },
  {
   "cell_type": "code",
   "execution_count": 19,
   "metadata": {},
   "outputs": [],
   "source": [
    "monroe_shape = gp.read_file(\"./raw-from-source/Census/2010_VTD/tl_2010_29137_vtd10/tl_2010_29137_vtd10.shp\")"
   ]
  },
  {
   "cell_type": "markdown",
   "metadata": {},
   "source": [
    "### 3. 2020 Census VTD release\n",
    ">Platte County comes from the 2020 Census VTD release.\n",
    "\n",
    "https://www.census.gov/geographies/mapping-files/time-series/geo/tiger-line-file.2020.html"
   ]
  },
  {
   "cell_type": "code",
   "execution_count": 20,
   "metadata": {},
   "outputs": [
    {
     "data": {
      "text/plain": [
       "<matplotlib.axes._subplots.AxesSubplot at 0x7f9000d9cf40>"
      ]
     },
     "execution_count": 20,
     "metadata": {},
     "output_type": "execute_result"
    },
    {
     "data": {
      "image/png": "[encoded data removed]",
      "text/plain": [
       "<Figure size 432x288 with 1 Axes>"
      ]
     },
     "metadata": {
      "needs_background": "light"
     },
     "output_type": "display_data"
    }
   ],
   "source": [
    "platte_shape = gp.read_file(\"./raw-from-source/Census/2020_VTD/tl_2020_29_all/tl_2020_29165_vtd20.shp\")\n",
    "platte_shape.plot()"
   ]
  },
  {
   "cell_type": "markdown",
   "metadata": {},
   "source": [
    "- Platte: Precinct mergers to match county reporting units\n",
    "- Platte: Align Lake Waukomis, Parkville, Platte City, Riverside/Northmore, Weatherby Lake with corporate boundaries; Adjust Platte Hills/Park Hill, Seven Bridges/Shiloh"
   ]
  },
  {
   "cell_type": "markdown",
   "metadata": {},
   "source": [
    "### 4. Counties themselves\n",
    "> The following counties instead used maps or shapefiles sourced from the respective county governments:  \n",
    "Audrain, Bates, Caldwell, Callaway, Camden, Cape Girardeau, Cedar, Cooper, Franklin, Greene, Jackson, Jasper, Jefferson, Laclede, Lafayette, Lawrence, Marion, McDonald, Miller, Nodaway, Osage, Ozark, Pemiscot, Pike, Randolph, Scott, Ste. Genevieve, Texas, Warren, Washington, Worth, Wright.  "
   ]
  },
  {
   "cell_type": "markdown",
   "metadata": {},
   "source": [
    "Able to find shapefiles for Camden, Cooper, Marion, Lafayette, Laclede, Jasper, Bates, Audrain.  \n",
    "\n",
    "Of these, only Jasper came in shapefile format. The others came in tif formats that I was unable to load into this notebook without digitizing."
   ]
  },
  {
   "cell_type": "code",
   "execution_count": 21,
   "metadata": {},
   "outputs": [
    {
     "name": "stdout",
     "output_type": "stream",
     "text": [
      "(74, 10)\n"
     ]
    }
   ],
   "source": [
    "jasper_shape = gp.read_file(\"./raw-from-source/Counties/Jasper/Voting_Precincts_2020-shp/Voting_Precincts_2020.shp\")\n",
    "print(jasper_shape.shape)"
   ]
  },
  {
   "cell_type": "markdown",
   "metadata": {},
   "source": [
    "- Audrain: https://audraingis.integritygis.com/H5/Index.html?viewer=audrain\n",
    "- Bates: https://batesgis.integritygis.com/H5/Index.html?viewer=bates\n",
    "- Caldwell: can't find\n",
    "- Callaway: can't find\n",
    "- Camden: https://camdengis.integritygis.com/H5/Index.html?viewer=camden\n",
    "- Cape Girardeau: only pdf (https://capecountyelections.com/wp-content/uploads/2019/06/Voter_Precincts.pdf)\n",
    "- Cedar: can't find\n",
    "- Cooper: https://coopergis.integritygis.com/H5/Index.html?viewer=cooper\n",
    "- Franklin: can't find\n",
    "- Greene: not available (https://www.greenecountyassessor.org/assessor/maps/mapadv.aspx)\n",
    "- Jackson: not downloadable (https://jcebmo.org/wp-content/uploads/JACKSON-COUNTY-TOWNSHIPS-PRECINCTS.pdf)\n",
    "- Jasper: https://jaspercountymogisintiatives-jcmo.hub.arcgis.com/datasets/voting-precincts-2020\n",
    "- Jefferson: can't find\n",
    "- Laclede: https://lacledegis.integritygis.com/H5/Index.html?viewer=laclede\n",
    "- Lafayette: https://lafayettegis.integritygis.com/H5/Index.html?viewer=lafayette\n",
    "- Lawrence: not downloadable (https://www.lawrencecountymo.org/elections)\n",
    "- Marion: https://mariongis.integritygis.com/H5/Index.html?viewer=marion_public\n",
    "- McDonald: can't find\n",
    "- Miller: not available (https://millergis.integritygis.com/H5/Index.html?viewer=miller)\n",
    "- Nodaway: can't find\n",
    "- Osage: can't find\n",
    "- Ozark: can't find\n",
    "- Pemiscot: can't find\n",
    "- Pike: can't find\n",
    "- Randolph: can't find\n",
    "- Scott: not downloadable https://www.arcgis.com/apps/webappviewer/index.html?id=73de0cc0034040a5b8b0f5988a643164\n",
    "- Ste. Genevieve: can't find\n",
    "- Texas: can't find\n",
    "- Warren: not downloadable (https://www.arcgis.com/apps/webappviewer/index.html?id=edfaf72f348b4ea28a959815d82dfe86)\n",
    "- Washington: can't find\n",
    "- Worth: can't find\n",
    "- Wright: can't find"
   ]
  },
  {
   "cell_type": "markdown",
   "metadata": {},
   "source": [
    "### Shapefile Modifications\n",
    "\n",
    "- Audrain: Precinct mergers to match county reporting units\n",
    "- Audrain: Add Vandalia City; Align Mexico precincts with municipal code\n",
    "  \n",
    "- Callaway: Align Fulton, Holts Summit precincts with 2018 corporate boundaries\n",
    "- Callaway: Precinct mergers to match county reporting units\n",
    "\n",
    "- Camden: Precinct mergers to match county reporting units\n",
    "\n",
    "- Cape Girardeau: Precinct mergers to match county reporting units\n",
    "\n",
    "- Cooper: Precinct mergers to match county reporting units\n",
    "\n",
    "- Franklin: Split Dry Branch between Stanton & St. Clair Out of Town\n",
    "- Franklin: Precinct mergers to match county reporting units\n",
    "\n",
    "- Greene: Precinct mergers to match county reporting units\n",
    "\n",
    "- Jackson: Precinct mergers to match county reporting units\n",
    "\n",
    "- Jasper: Precinct mergers to match county reporting units\n",
    "- Jasper: Realign Carthage 2/3, Joplin 1/7, 10/13, 10/15, 13/22, Oronogo 1/2, Webb City 1/4 to match city ward maps\n",
    "\n",
    "- Jefferson: Precinct mergers to match county reporting units\n",
    "- Jefferson: Split Festus Ward 1 P1/P2, Ward 3 P1/P2, Ward 4 P1/P2; Adjust Crystal City/Riverview\n",
    "\n",
    "- Marion: Precinct mergers to match county reporting units\n",
    "- Marion: Split Fabius-Smileyville/Taylor, Warren-Monroe City/Warren; Align Hannibal wards with voter file\n",
    "\n",
    "- Miller: Adjust all precinct boundaries to match voter file\n",
    "\n",
    "- Nodaway: Precinct mergers to match county reporting units\n",
    "\n",
    "- Osage: Precinct mergers to match county reporting units\n",
    "\n",
    "- Pemiscot: Precinct mergers to match county reporting units\n",
    "\n",
    "- Pike: Adjust Cuivre JL boundaries with Ashley NO, Buffalo E, Prairieville I\n",
    "\n",
    "- Randolph: Precinct mergers to match county reporting units\n",
    "\n",
    "- Scott: Adjust Haywood City/Morley, Sikeston Ward 1/McMullin/Vanduser\n",
    "\n",
    "- Warren: Precinct mergers to match county reporting units\n",
    "\n",
    "- Washington: Adjust City Hall/Stony Point, Cruise/Richwoods to match county GIS\n",
    "\n",
    "- Worth: Precinct mergers to match county reporting units"
   ]
  },
  {
   "cell_type": "markdown",
   "metadata": {},
   "source": [
    "### Attempt to join election results to precincts from these 3 counties"
   ]
  },
  {
   "cell_type": "code",
   "execution_count": 22,
   "metadata": {},
   "outputs": [],
   "source": [
    "#Platte County\n",
    "platte_shape[\"unique_ID\"] = \"165\"+platte_shape[\"NAME20\"]\n",
    "platte_shape[\"unique_ID\"] = platte_shape[\"unique_ID\"].str.strip()\n",
    "platte_shape = platte_shape[[\"unique_ID\",\"geometry\"]]\n",
    "\n",
    "#Monroe County\n",
    "monroe_shape[\"unique_ID\"] = \"137\"+monroe_shape[\"NAME10\"]\n",
    "monroe_shape[\"unique_ID\"] = monroe_shape[\"unique_ID\"].str.strip()\n",
    "monroe_shape = monroe_shape[[\"unique_ID\",\"geometry\"]]\n",
    "\n",
    "#Jasper County\n",
    "jasper_shape[\"unique_ID\"] = \"097\"+jasper_shape[\"Precinct\"]\n",
    "jasper_shape[\"unique_ID\"] = jasper_shape[\"unique_ID\"].str.strip()\n",
    "jasper_shape = jasper_shape[[\"unique_ID\",\"geometry\"]]\n",
    "\n",
    "#Create a merged dataframe with these 3\n",
    "counties_shapes = pd.concat([platte_shape,monroe_shape,jasper_shape], axis=0, ignore_index=True)\n",
    "\n",
    "county_list = [\"Platte\", \"Monroe\",\"Jasper\"]\n",
    "fips_to_take = fips_file[fips_file[\"County Name\"].isin(county_list)]\n",
    "different_source = fips_to_take[\"FIPS County\"].tolist()\n",
    "elections_counties_shapes =  joined[joined[\"COUNTYFP\"].isin(different_source)]"
   ]
  },
  {
   "cell_type": "markdown",
   "metadata": {},
   "source": [
    "### Precinct name change and merger code"
   ]
  },
  {
   "cell_type": "code",
   "execution_count": 24,
   "metadata": {},
   "outputs": [],
   "source": [
    "def precinct_merger_2(precinct_list,new_precinct):\n",
    "    global counties_shapes\n",
    "    prec_holder = []\n",
    "    for i in precinct_list:\n",
    "        prec_holder.append(counties_shapes.loc[counties_shapes[\"unique_ID\"]==i])\n",
    "    new_geom = pd.concat(prec_holder, ignore_index=True).unary_union\n",
    "    new_prec = gp.GeoDataFrame(geometry=[new_geom],columns=[\"geometry\",\"unique_ID\"],crs = shapefiles_census_crs)\n",
    "    new_prec[\"unique_ID\"]=new_precinct\n",
    "    counties_shapes = counties_shapes.append(new_prec)\n",
    "    counties_shapes = counties_shapes[~counties_shapes[\"unique_ID\"].isin(precinct_list)]"
   ]
  },
  {
   "cell_type": "code",
   "execution_count": 25,
   "metadata": {},
   "outputs": [],
   "source": [
    "name_changes = {\"097Duenweg Ward 2\":\"097Duenweg\",'097Jackson West_new':'097Jackson West',\"137Monroe City 1, 2, & 3/Indian Creek 4\":\"137Monroe City 1 & 2 & 3/Indian Creek 4\",\"165South-East 37\":\"165Southeast 27\"}\n",
    "dict_func_calls = {'097Carterville Wards 1-4':[\"097Carterville - Ward 1\",\"097Carterville - Ward 2\",\"097Carterville - Ward 3\",\"097Carterville - Ward 4\"],\n",
    "                  '097Sarcoxie 1-2':['097Sarcoxie 2','097Sarcoxie 1'],\n",
    "                  '097Jackson West_new':['097Jackson West']}\n",
    "\n",
    "for val in dict_func_calls:\n",
    "    precinct_merger_2(dict_func_calls[val],val)\n",
    "    \n",
    "    \n",
    "#First call on dict_func, then 097, contains \"/\"\n",
    "counties_shapes[\"unique_ID\"] = counties_shapes[\"unique_ID\"].map(name_changes).fillna(counties_shapes[\"unique_ID\"])"
   ]
  },
  {
   "cell_type": "code",
   "execution_count": 26,
   "metadata": {},
   "outputs": [],
   "source": [
    "county_fips_code_list = [\"097\",\"165\"]\n",
    "filtered_census = elections_counties_shapes[elections_counties_shapes[\"unique_ID\"].str[0:3].isin(county_fips_code_list)][\"unique_ID\"]\n",
    "for val in filtered_census:\n",
    "    if \"/\" in val:\n",
    "        pieces = val.split(\"/\")\n",
    "        fips = pieces[0][0:3]\n",
    "        holder = []\n",
    "        holder.append(pieces[0])\n",
    "        for i in range(1,len(pieces)):\n",
    "            holder.append(fips+pieces[i])\n",
    "            #print(holder)\n",
    "        precinct_merger_2(holder,val)"
   ]
  },
  {
   "cell_type": "code",
   "execution_count": 27,
   "metadata": {},
   "outputs": [
    {
     "name": "stdout",
     "output_type": "stream",
     "text": [
      "both          81\n",
      "right_only     0\n",
      "left_only      0\n",
      "Name: _merge, dtype: int64\n",
      "165Parkville 5                                    1\n",
      "097Joplin 10/Joplin 11                            1\n",
      "165Barry East 34                                  1\n",
      "097Carthage 2                                     1\n",
      "165Riverside 1/Northmoor 3                        1\n",
      "                                                 ..\n",
      "097Carterville Wards 1-4                          1\n",
      "097Carthage 5                                     1\n",
      "165Farley-Stillings 12                            1\n",
      "165Ferrelview 30/Mid-Continent 31/Linkville 33    1\n",
      "165Embassy 11                                     1\n",
      "Name: unique_ID, Length: 81, dtype: int64\n"
     ]
    }
   ],
   "source": [
    "#Attempt to join on the \"unique_ID\" column\n",
    "county_join = pd.merge(elections_counties_shapes,counties_shapes,how=\"outer\",on=\"unique_ID\",indicator=True)\n",
    "print(county_join[\"_merge\"].value_counts())\n",
    "print(county_join[county_join[\"_merge\"]==\"both\"][\"unique_ID\"].value_counts())\n",
    "#county_join[county_join[\"_merge\"]==\"left_only\"].to_csv(\"./county_join/election.csv\")\n",
    "#county_join[county_join[\"_merge\"]==\"right_only\"].to_csv(\"./county_join/shapes.csv\")"
   ]
  },
  {
   "cell_type": "markdown",
   "metadata": {},
   "source": [
    "## Validation of precincts with election results + shapefiles"
   ]
  },
  {
   "cell_type": "code",
   "execution_count": 28,
   "metadata": {},
   "outputs": [
    {
     "name": "stdout",
     "output_type": "stream",
     "text": [
      "(2169, 15)\n"
     ]
    }
   ],
   "source": [
    "li = [county_join[county_join[\"_merge\"]==\"both\"],census_join[census_join[\"_merge\"]==\"both\"]]\n",
    "final_source = gp.GeoDataFrame(pd.concat(li))\n",
    "print(final_source.shape)"
   ]
  },
  {
   "cell_type": "code",
   "execution_count": 29,
   "metadata": {},
   "outputs": [
    {
     "name": "stdout",
     "output_type": "stream",
     "text": [
      "both          2169\n",
      "left_only     1073\n",
      "right_only       0\n",
      "Name: final_ind, dtype: int64\n"
     ]
    }
   ],
   "source": [
    "full_file = pd.merge(vest_mo_18,final_source,how=\"outer\",on=\"unique_ID\",indicator=\"final_ind\")\n",
    "print(full_file[\"final_ind\"].value_counts())\n",
    "both = full_file[full_file[\"final_ind\"]==\"both\"]\n",
    "both.reset_index(inplace=True)"
   ]
  },
  {
   "cell_type": "code",
   "execution_count": 30,
   "metadata": {},
   "outputs": [],
   "source": [
    "source_shapes = gp.GeoDataFrame(both, geometry='geometry_x')\n",
    "vest_shapes = gp.GeoDataFrame(both, geometry='geometry_y')\n",
    "vals = source_shapes.geom_almost_equals(vest_shapes,decimal=0)"
   ]
  },
  {
   "cell_type": "code",
   "execution_count": 31,
   "metadata": {},
   "outputs": [
    {
     "name": "stdout",
     "output_type": "stream",
     "text": [
      "True     1192\n",
      "False     977\n",
      "dtype: int64\n"
     ]
    }
   ],
   "source": [
    "print(vals.value_counts())"
   ]
  },
  {
   "cell_type": "code",
   "execution_count": 32,
   "metadata": {},
   "outputs": [
    {
     "name": "stdout",
     "output_type": "stream",
     "text": [
      "189    273\n",
      "047     66\n",
      "183     59\n",
      "097     42\n",
      "019     40\n",
      "      ... \n",
      "089      1\n",
      "067      1\n",
      "087      1\n",
      "063      1\n",
      "133      1\n",
      "Name: unique_ID, Length: 73, dtype: int64\n"
     ]
    },
    {
     "data": {
      "text/plain": [
       "<matplotlib.axes._subplots.AxesSubplot at 0x7f8ffdd5bc40>"
      ]
     },
     "execution_count": 32,
     "metadata": {},
     "output_type": "execute_result"
    },
    {
     "data": {
      "image/png": "[encoded data removed]",
      "text/plain": [
       "<Figure size 432x288 with 1 Axes>"
      ]
     },
     "metadata": {
      "needs_background": "light"
     },
     "output_type": "display_data"
    }
   ],
   "source": [
    "print(both[~vals][\"unique_ID\"].str[0:3].value_counts())\n",
    "diff_precincts = gp.GeoDataFrame(both[~vals], geometry='geometry_x',crs=shapefiles_census_crs)\n",
    "\n",
    "shp_difference = gp.overlay(source_shapes,vest_shapes,how='symmetric_difference')\n",
    "shp_difference.plot()"
   ]
  },
  {
   "cell_type": "code",
   "execution_count": 33,
   "metadata": {},
   "outputs": [
    {
     "name": "stdout",
     "output_type": "stream",
     "text": [
      "      index STATEFP COUNTYFP_x  \\\n",
      "0         0      29        189   \n",
      "2         3      29        043   \n",
      "4         5      29        189   \n",
      "5         8      29        165   \n",
      "7        10      29        135   \n",
      "...     ...     ...        ...   \n",
      "2164   3230      29        097   \n",
      "2165   3232      29        043   \n",
      "2166   3234      29        189   \n",
      "2167   3235      29        189   \n",
      "2168   3238      29        189   \n",
      "\n",
      "                                                   NAME  G18USSRHAW_x  \\\n",
      "0                                                 MR032            77   \n",
      "2                                           West Finley          1254   \n",
      "4                                         MID004/MID053           234   \n",
      "5                                         Barry East 34           953   \n",
      "7                                      California No. 3           517   \n",
      "...                                                 ...           ...   \n",
      "2164                                          Oronogo 1           589   \n",
      "2165                                          Lincoln 2           684   \n",
      "2166                                             UNV041            45   \n",
      "2167  MER007/MER009/MER013/MER014/MER016/MER018/MER0...          1728   \n",
      "2168                 CON007/CON019/CON020/CON050/CON051           224   \n",
      "\n",
      "      G18USSDMCC_x  G18USSLCAM_x  G18USSGCRA_x  G18USSIODE_x  G18AUDRMCD_x  \\\n",
      "0               26             0             0             0            57   \n",
      "2              504            34            14            38          1056   \n",
      "4              446            11             9            15           206   \n",
      "5             1169            29            16            33           785   \n",
      "7              191             7             0            11           404   \n",
      "...            ...           ...           ...           ...           ...   \n",
      "2164           155            11             2            14           569   \n",
      "2165           187            18             4            13           570   \n",
      "2166           367             5             1             4            30   \n",
      "2167          1082            15            11            32          1534   \n",
      "2168           405             3             8             7           196   \n",
      "\n",
      "      ...  G18AUDCLUE_y  G18USSLCAM_y  G18USSGCRA_y  G18USSRHAW_y  \\\n",
      "0     ...           2.0           0.0           0.0          77.0   \n",
      "2     ...          20.0          34.0          13.0        1254.0   \n",
      "4     ...          17.0          11.0           9.0         234.0   \n",
      "5     ...          95.0          29.0          15.0         953.0   \n",
      "7     ...          23.0           7.0           0.0         517.0   \n",
      "...   ...           ...           ...           ...           ...   \n",
      "2164  ...           9.0          11.0           2.0         589.0   \n",
      "2165  ...           7.0          18.0           4.0         684.0   \n",
      "2166  ...           3.0           5.0           1.0          45.0   \n",
      "2167  ...          62.0          15.0          11.0        1726.0   \n",
      "2168  ...          14.0           3.0           8.0         224.0   \n",
      "\n",
      "     G18AUDDGAL_y G18AUDRMCD_y G18AUDLOTO_y  \\\n",
      "0            42.0         57.0          0.0   \n",
      "2           651.0       1056.0         67.0   \n",
      "4           441.0        206.0         24.0   \n",
      "5          1230.0        785.0         43.0   \n",
      "7           285.0        404.0          5.0   \n",
      "...           ...          ...          ...   \n",
      "2164        158.0        570.0         22.0   \n",
      "2165        272.0        571.0         27.0   \n",
      "2166        372.0         30.0         10.0   \n",
      "2167       1156.0       1532.0         55.0   \n",
      "2168        403.0        196.0         14.0   \n",
      "\n",
      "                                             geometry_y  _merge  final_ind  \n",
      "0     POLYGON Z ((-90.54675 38.65233 0.00000, -90.54...    both       both  \n",
      "2     POLYGON Z ((-93.28984 36.99578 0.00000, -93.28...    both       both  \n",
      "4     POLYGON Z ((-90.37186 38.68842 0.00000, -90.37...    both       both  \n",
      "5     POLYGON ((-94.64014 39.26745, -94.64002 39.267...    both       both  \n",
      "7     POLYGON Z ((-92.57752 38.62075 0.00000, -92.57...    both       both  \n",
      "...                                                 ...     ...        ...  \n",
      "2164  POLYGON ((-94.47410 37.15967, -94.47410 37.159...    both       both  \n",
      "2165  POLYGON Z ((-93.50139 37.00008 0.00000, -93.50...    both       both  \n",
      "2166  POLYGON Z ((-90.36240 38.66384 0.00000, -90.36...    both       both  \n",
      "2167  MULTIPOLYGON Z (((-90.73653 38.46726 0.00000, ...    both       both  \n",
      "2168  POLYGON Z ((-90.32070 38.53050 0.00000, -90.32...    both       both  \n",
      "\n",
      "[977 rows x 31 columns]\n"
     ]
    },
    {
     "data": {
      "image/svg+xml": [
       "<svg xmlns=\"http://www.w3.org/2000/svg\" xmlns:xlink=\"http://www.w3.org/1999/xlink\" width=\"100.0\" height=\"100.0\" viewBox=\"-93.29590708000005 37.03841891999997 0.03194316000002573 0.016933160000021985\" preserveAspectRatio=\"xMinYMin meet\"><g transform=\"matrix(1,0,0,-1,0,74.09377099999996)\"><g><path fill-rule=\"evenodd\" fill=\"#66cc99\" stroke=\"#555555\" stroke-width=\"0.0006388632000005146\" opacity=\"0.6\" d=\"M -93.29441600000006,37.05096499999998 L -93.29356400000005,37.05092599999997 L -93.29173100000006,37.050842999999986 L -93.28988200000003,37.050759999999975 L -93.28706600000004,37.05063299999999 L -93.28689100000004,37.050624999999975 L -93.28586700000002,37.05057799999999 L -93.28549100000004,37.05056799999999 L -93.28519100000004,37.050513999999986 L -93.28475800000004,37.050522999999984 L -93.28387400000004,37.05049199999998 L -93.28357600000004,37.05046799999999 L -93.28251800000004,37.05045399999998 L -93.28234900000004,37.05042999999998 L -93.28179800000004,37.05039499999999 L -93.28150800000004,37.05039599999999 L -93.28098600000004,37.050381999999985 L -93.28077100000004,37.05032499999999 L -93.28072300000004,37.05030799999998 L -93.28057300000003,37.05025399999998 L -93.28037500000003,37.050158999999994 L -93.28005700000003,37.049967999999986 L -93.27980100000002,37.04990099999999 L -93.27950100000004,37.04985799999999 L -93.27918700000002,37.04983699999998 L -93.27851400000004,37.04983099999998 L -93.27835400000004,37.04982699999999 L -93.27808100000004,37.04981799999997 L -93.27772100000003,37.049806999999994 L -93.27740800000004,37.049796999999984 L -93.27662600000004,37.04977299999999 L -93.27616200000004,37.04975799999998 L -93.27575500000003,37.04974599999999 L -93.27564100000002,37.049742999999985 L -93.27559300000004,37.04974099999998 L -93.27555100000002,37.04973999999998 L -93.27471500000004,37.04971399999999 L -93.27445300000004,37.049707999999974 L -93.27405300000004,37.04969299999999 L -93.27399000000004,37.04969099999998 L -93.27395700000004,37.04969099999998 L -93.27174700000002,37.049679 L -93.27122300000002,37.049675999999984 L -93.27080600000004,37.049665999999974 L -93.27076600000004,37.04966499999998 L -93.27053700000002,37.04965899999999 L -93.26999100000003,37.04964599999999 L -93.26996500000004,37.04964599999999 L -93.26989400000004,37.049644999999984 L -93.26963300000004,37.049640999999994 L -93.26514700000003,37.04958199999999 L -93.26514800000004,37.04953199999999 L -93.26518000000004,37.04853499999999 L -93.26518600000004,37.048338 L -93.26519000000003,37.047171999999996 L -93.26525100000002,37.045372999999984 L -93.26526800000003,37.04490399999998 L -93.26527800000004,37.04420999999999 L -93.26527900000004,37.044183999999994 L -93.26528000000003,37.04413799999998 L -93.26528000000003,37.04395799999999 L -93.26528400000002,37.043689999999984 L -93.26528500000003,37.04364399999999 L -93.26531300000003,37.042807999999994 L -93.26531700000004,37.04270699999999 L -93.26531400000003,37.04247399999999 L -93.26531400000003,37.04235799999999 L -93.26531400000003,37.04224099999998 L -93.26531200000004,37.041524999999986 L -93.26532800000004,37.04105599999999 L -93.26533300000003,37.04092599999999 L -93.265546,37.040945 L -93.26611299999999,37.040957999999996 L -93.266617,37.040939 L -93.266684,37.040935999999995 L -93.26786,37.040881999999996 L -93.26847700000003,37.040843999999986 L -93.26933700000004,37.04078699999999 L -93.26961700000004,37.04074999999998 L -93.2697250000233,37.04073127999596 L -93.269842,37.040711 L -93.269984,37.040670999999996 L -93.27031099999999,37.040572999999995 L -93.27049399997226,37.04051387693204 L -93.27050600000001,37.04050999999999 L -93.27216200000004,37.03991699999998 L -93.27259500000004,37.039786999999976 L -93.27284200000004,37.03971799999999 L -93.27343300000004,37.039626 L -93.27365200000004,37.039609999999975 L -93.27367200000003,37.039608 L -93.27392800000004,37.039601999999974 L -93.27422400000003,37.03960999999998 L -93.27433600000003,37.03961299999999 L -93.27438200000003,37.039616999999986 L -93.27455700000004,37.03963199999999 L -93.27502300000003,37.03969999999999 L -93.27538100000002,37.039751999999986 L -93.27561000000004,37.03980099999999 L -93.27601900000003,37.03992799999998 L -93.27643800000004,37.040086999999986 L -93.27663900000003,37.040179999999985 L -93.27675700000003,37.040233999999984 L -93.27925600000003,37.04156999999998 L -93.28012000000004,37.042026999999976 L -93.28052200000003,37.04219799999999 L -93.28110400000004,37.04242399999998 L -93.28237300000004,37.042872999999986 L -93.28241000000004,37.04288599999999 L -93.28259400000003,37.04295199999999 L -93.28277100000004,37.04300199999999 L -93.28320700000003,37.04309899999999 L -93.28360900000003,37.04314199999999 L -93.28384700000004,37.04314999999998 L -93.28390800000003,37.043151999999985 L -93.28394500000005,37.04315399999999 L -93.28492100000004,37.04318999999999 L -93.28510200000004,37.043196999999985 L -93.28669400000004,37.04325799999999 L -93.28779200000004,37.04329599999998 L -93.28891600000004,37.043335999999975 L -93.28896300000005,37.043337999999984 L -93.29109000000004,37.043415999999986 L -93.29198700000005,37.04345199999999 L -93.29320900000005,37.04349999999998 L -93.29472400000004,37.04356399999999 L -93.29466200000006,37.04429999999998 L -93.29465800000004,37.044499999999985 L -93.29464000000004,37.04549499999998 L -93.29456600000003,37.047265999999986 L -93.29449300000006,37.04882999999998 L -93.29449100000005,37.04901199999998 L -93.29448400000004,37.04927799999999 L -93.29446200000005,37.04989399999998 L -93.29444400000006,37.05039999999998 L -93.29441600000006,37.05096499999998 z\" /><path fill-rule=\"evenodd\" fill=\"#66cc99\" stroke=\"#555555\" stroke-width=\"0.0006388632000005146\" opacity=\"0.6\" d=\"M -93.28529300000004,37.050594 L -93.28522400000004,37.05416899999999 L -93.28279300000004,37.05409599999999 L -93.28259700000004,37.05408999999998 L -93.28166200000003,37.05406199999999 L -93.28076300000004,37.054034999999985 L -93.28074000000004,37.05196799999999 L -93.28073000000003,37.05098299999999 L -93.28141900000004,37.05100199999998 L -93.28144200000004,37.05048499999998 L -93.28170900000002,37.05050699999999 L -93.28222700000002,37.05051699999999 L -93.28251300000004,37.05052199999999 L -93.28397500000004,37.05059799999999 L -93.28476700000004,37.050614999999986 L -93.28495500000004,37.05061699999998 L -93.28509500000004,37.05061999999998 L -93.28529300000004,37.050594 z\" /></g></g></svg>"
      ],
      "text/plain": [
       "<shapely.geometry.multipolygon.MultiPolygon at 0x7f8ffb1e4190>"
      ]
     },
     "metadata": {},
     "output_type": "display_data"
    },
    {
     "data": {
      "image/svg+xml": [
       "<svg xmlns=\"http://www.w3.org/2000/svg\" xmlns:xlink=\"http://www.w3.org/1999/xlink\" width=\"100.0\" height=\"100.0\" viewBox=\"-93.29590708 37.03841892 0.03194316000001152 0.01693316000000067\" preserveAspectRatio=\"xMinYMin meet\"><g transform=\"matrix(1,0,0,-1,0,74.093771)\"><g><path fill-rule=\"evenodd\" fill=\"#66cc99\" stroke=\"#555555\" stroke-width=\"0.0006388632000002303\" opacity=\"0.6\" d=\"M -93.285224,37.054169 L -93.282793,37.054096 L -93.282597,37.054089999999995 L -93.281662,37.054062 L -93.280763,37.054035 L -93.28074,37.051967999999995 L -93.28072999999999,37.050982999999995 L -93.281419,37.051002 L -93.281442,37.050484999999995 L -93.28170899999999,37.050506999999996 L -93.28222699999999,37.050517 L -93.282513,37.050522 L -93.283975,37.050598 L -93.284767,37.050615 L -93.284955,37.050616999999995 L -93.285095,37.050619999999995 L -93.285293,37.050594 L -93.285224,37.054169 z\" /><path fill-rule=\"evenodd\" fill=\"#66cc99\" stroke=\"#555555\" stroke-width=\"0.0006388632000002303\" opacity=\"0.6\" d=\"M -93.294662,37.0443 L -93.294658,37.0445 L -93.29464,37.045494999999995 L -93.29456599999999,37.047266 L -93.294493,37.048829999999995 L -93.294491,37.049012 L -93.294484,37.049278 L -93.294462,37.049893999999995 L -93.294444,37.0504 L -93.294416,37.050965 L -93.29356399999999,37.050926 L -93.291731,37.050843 L -93.28988199999999,37.05076 L -93.287066,37.050633 L -93.286891,37.050625 L -93.285867,37.050578 L -93.285491,37.050568 L -93.285191,37.050514 L -93.284758,37.050523 L -93.283874,37.050492 L -93.283576,37.050467999999995 L -93.282518,37.050453999999995 L -93.282349,37.05043 L -93.281798,37.050395 L -93.281508,37.050396 L -93.280986,37.050382 L -93.280771,37.050325 L -93.280723,37.050308 L -93.28057299999999,37.050253999999995 L -93.28037499999999,37.050159 L -93.280057,37.049968 L -93.27980099999999,37.049901 L -93.279501,37.049858 L -93.279187,37.049837 L -93.278514,37.049831 L -93.278354,37.049827 L -93.278081,37.049817999999995 L -93.277721,37.049807 L -93.277408,37.049797 L -93.276626,37.049773 L -93.276162,37.049758 L -93.27575499999999,37.049746 L -93.275641,37.049743 L -93.275593,37.049741 L -93.275551,37.04974 L -93.274715,37.049714 L -93.274453,37.049707999999995 L -93.274053,37.049693 L -93.27399,37.049690999999996 L -93.273957,37.049690999999996 L -93.27174699999999,37.049679 L -93.27122299999999,37.049676 L -93.270806,37.049665999999995 L -93.270766,37.049665 L -93.27053699999999,37.049659 L -93.26999099999999,37.049645999999996 L -93.269965,37.049645999999996 L -93.269894,37.049645 L -93.269633,37.049641 L -93.265147,37.049582 L -93.265148,37.049532 L -93.26518,37.048535 L -93.265186,37.048338 L -93.26518999999999,37.047171999999996 L -93.26525099999999,37.045373 L -93.26526799999999,37.044903999999995 L -93.265278,37.04421 L -93.26527899999999,37.044184 L -93.26527999999999,37.044138 L -93.26527999999999,37.043957999999996 L -93.265284,37.04369 L -93.26528499999999,37.043644 L -93.26531299999999,37.042808 L -93.265317,37.042707 L -93.26531399999999,37.042474 L -93.26531399999999,37.042358 L -93.26531399999999,37.042241 L -93.265312,37.041525 L -93.265328,37.041056 L -93.265619,37.041076 L -93.26614599999999,37.041091 L -93.266624,37.04108 L -93.266688,37.041075 L -93.268481,37.040973 L -93.26847699999999,37.040844 L -93.269337,37.040787 L -93.269617,37.040749999999996 L -93.269842,37.040711 L -93.269984,37.040670999999996 L -93.27031099999999,37.040572999999995 L -93.270506,37.04051 L -93.272162,37.039916999999996 L -93.272595,37.039787 L -93.272842,37.039718 L -93.273433,37.039626 L -93.273652,37.039609999999996 L -93.27367199999999,37.039608 L -93.273928,37.039601999999995 L -93.27422399999999,37.039609999999996 L -93.27433599999999,37.039612999999996 L -93.274382,37.039617 L -93.274557,37.039632 L -93.27502299999999,37.0397 L -93.275381,37.039752 L -93.27561,37.039801 L -93.27601899999999,37.039927999999996 L -93.276438,37.040087 L -93.27663899999999,37.04018 L -93.27675699999999,37.040234 L -93.27925599999999,37.04157 L -93.28012,37.042027 L -93.28052199999999,37.042198 L -93.281104,37.042424 L -93.28237299999999,37.042873 L -93.28241,37.042885999999996 L -93.28259399999999,37.042952 L -93.282771,37.043002 L -93.28320699999999,37.043099 L -93.283609,37.043141999999996 L -93.283847,37.04315 L -93.283908,37.043152 L -93.283945,37.043154 L -93.284921,37.043189999999996 L -93.285102,37.043197 L -93.286694,37.043258 L -93.287792,37.043296 L -93.288916,37.043336 L -93.288963,37.043338 L -93.29109,37.043416 L -93.29198699999999,37.043451999999995 L -93.29320899999999,37.0435 L -93.294724,37.043563999999996 L -93.294662,37.0443 z\" /></g></g></svg>"
      ],
      "text/plain": [
       "<shapely.geometry.multipolygon.MultiPolygon at 0x7f8ffd68a3a0>"
      ]
     },
     "metadata": {},
     "output_type": "display_data"
    },
    {
     "data": {
      "image/svg+xml": [
       "<svg xmlns=\"http://www.w3.org/2000/svg\" xmlns:xlink=\"http://www.w3.org/1999/xlink\" width=\"100.0\" height=\"100.0\" viewBox=\"-91.68424791999996 36.710166079999915 0.25260984000018993 0.18791384000006417\" preserveAspectRatio=\"xMinYMin meet\"><g transform=\"matrix(1,0,0,-1,0,73.6082459999999)\"><path fill-rule=\"evenodd\" fill=\"#66cc99\" stroke=\"#555555\" stroke-width=\"0.005052196800003799\" opacity=\"0.6\" d=\"M -91.67423699999995,36.787831999999995 L -91.67335699999995,36.78779899999998 L -91.66877399999993,36.787626999999986 L -91.66423899999992,36.787596999999984 L -91.66197099999992,36.78754799999997 L -91.66009199999993,36.78752499999999 L -91.66001699999994,36.78753099999998 L -91.65996799999994,36.79102199999997 L -91.65994399999992,36.79275199999998 L -91.65993599999993,36.793341999999974 L -91.65992799999994,36.79391599999997 L -91.65979499999993,36.795929999999984 L -91.65964699999992,36.797982999999974 L -91.65964499999993,36.79855099999998 L -91.65963699999992,36.801587999999974 L -91.65962699999993,36.80208299999999 L -91.65937799999993,36.81285499999997 L -91.65937699999992,36.812925999999976 L -91.65937199999993,36.813214999999985 L -91.65924499999994,36.82054299999999 L -91.65923999999993,36.82085799999998 L -91.65922399999994,36.82114999999998 L -91.65906499999994,36.82396199999998 L -91.65905999999993,36.82405099999998 L -91.65899099999994,36.825362999999975 L -91.65885699999993,36.82789499999997 L -91.65869299999993,36.83098399999999 L -91.65866299999993,36.83149899999998 L -91.65850099999993,36.834657999999976 L -91.65839999999994,36.83670299999998 L -91.65822999999993,36.840697999999975 L -91.65828899999994,36.84642999999998 L -91.65837699999994,36.854797999999974 L -91.65841299999992,36.85760899999998 L -91.65841299999992,36.85782999999998 L -91.65837599999992,36.85797199999998 L -91.65835499999994,36.85805899999998 L -91.65844099999994,36.85814999999998 L -91.65848299999993,36.85852199999998 L -91.65852599999994,36.858905999999976 L -91.65857599999994,36.858959999999975 L -91.65848399999994,36.86171699999997 L -91.65820599999992,36.86622999999997 L -91.65818799999994,36.86648699999998 L -91.65820599999992,36.87359099999997 L -91.65846599999992,36.87505599999998 L -91.65839599999993,36.87778899999997 L -91.65831799999994,36.88085099999998 L -91.65811099999993,36.888723999999975 L -91.65244599999994,36.88859699999997 L -91.64861399999994,36.88850299999997 L -91.64843699999994,36.888498999999975 L -91.63573199999992,36.888185999999976 L -91.6274519999999,36.887990999999985 L -91.62732599999993,36.88798799999997 L -91.62514199999993,36.88792699999997 L -91.62161165517564,36.88793090481673 L -91.61610099999993,36.88793699999997 L -91.61606599999992,36.88786099999998 L -91.60892299999992,36.88787499999998 L -91.6088949999999,36.88791099999997 L -91.6035691325709,36.8879388622413 L -91.6012489999999,36.88795099999997 L -91.5818249999999,36.88805399999996 L -91.58174199999989,36.88805399999996 L -91.57378399999989,36.887763999999954 L -91.56776599999989,36.88754499999996 L -91.5675149999999,36.88754099999996 L -91.54371699999989,36.88720599999995 L -91.54340399999988,36.88722799999995 L -91.54268799999988,36.88722799999994 L -91.54235699999988,36.88733299999995 L -91.54218499999988,36.88736399999996 L -91.54167799999988,36.88735299999995 L -91.54110699999988,36.887339999999966 L -91.54022299999988,36.88733199999996 L -91.53936199999987,36.887343999999956 L -91.53918899999987,36.88737999999996 L -91.53901499999986,36.887436999999956 L -91.53884199999987,36.88748399999995 L -91.53874099999989,36.88749199999996 L -91.53866799999987,36.88749799999995 L -91.53849499999987,36.88747699999995 L -91.53832799999986,36.88743099999996 L -91.53817199999986,36.887367999999945 L -91.53812899999987,36.88733599999995 L -91.53806399999986,36.88726399999996 L -91.53803699999987,36.88720799999995 L -91.53801499999987,36.88713099999995 L -91.53754599999986,36.887089999999965 L -91.53687799999987,36.88703199999995 L -91.53671199999987,36.887101999999956 L -91.53653999999987,36.88714199999995 L -91.53627799999987,36.88717999999995 L -91.53601099999989,36.88719099999995 L -91.53574099999987,36.88719599999995 L -91.53530299999987,36.88721699999996 L -91.53489899999987,36.887242999999955 L -91.53481499999987,36.88721399999995 L -91.53152399999986,36.88704899999995 L -91.51915299999986,36.88698899999995 L -91.51202199999986,36.886953999999946 L -91.51197999999987,36.886953999999946 L -91.50947099999985,36.88694199999995 L -91.50116399999985,36.88690299999994 L -91.50013799999984,36.88689799999994 L -91.49688199999986,36.886507999999935 L -91.49315099999984,36.88606099999994 L -91.49310899999983,36.88605499999994 L -91.49280899999984,36.88605799999994 L -91.49187199999986,36.88603599999995 L -91.48757899999985,36.88596699999993 L -91.48265599999982,36.88588799999994 L -91.47812199999983,36.88581899999993 L -91.47406699999983,36.88581899999993 L -91.46857799999982,36.885823999999936 L -91.46311699999981,36.885826999999935 L -91.46307599999982,36.885827999999925 L -91.45920199999982,36.88582899999993 L -91.45890299999982,36.88583199999993 L -91.45185099999979,36.88583399999992 L -91.44790299999981,36.885836999999924 L -91.4477139999998,36.885836999999924 L -91.44099399999978,36.88584099999992 L -91.4409979999998,36.88554999999991 L -91.4410419999998,36.88232299999992 L -91.4410899999998,36.87919699999993 L -91.4410959999998,36.87869699999992 L -91.44111299999979,36.87732599999991 L -91.4411309999998,36.87505199999992 L -91.4414009999998,36.86149799999991 L -91.4413859999998,36.85917899999992 L -91.4413899999998,36.8574799999999 L -91.4414579999998,36.852583999999915 L -91.4417339999998,36.84290899999992 L -91.44181299999978,36.83902899999991 L -91.44180999999979,36.83842499999992 L -91.44195099999979,36.82999699999992 L -91.4419519999998,36.82986799999992 L -91.4419939999998,36.82912399999992 L -91.4419939999998,36.82892399999992 L -91.4420599999998,36.824959999999926 L -91.44207899999978,36.82386599999991 L -91.4422179999998,36.81661299999991 L -91.4423859999998,36.805842999999925 L -91.4424409999998,36.80228799999991 L -91.44246799999978,36.80022399999992 L -91.4425569999998,36.79455499999992 L -91.4426979999998,36.78553299999992 L -91.44538699999981,36.78558399999993 L -91.44569899999979,36.78562399999993 L -91.44631999999982,36.78565699999993 L -91.44674399999981,36.785623999999935 L -91.44689399999982,36.78558599999992 L -91.44785099999982,36.78559699999991 L -91.45414099999981,36.78572699999992 L -91.45418799999982,36.78329999999993 L -91.4541909999998,36.783023999999926 L -91.45419199999981,36.78282599999992 L -91.45424999999982,36.776537999999924 L -91.4542439999998,36.77580499999993 L -91.45417499999981,36.76730199999993 L -91.45416999999979,36.76674199999993 L -91.4542029999998,36.76589499999993 L -91.4542719999998,36.76361199999993 L -91.4542789999998,36.759504999999926 L -91.45441199999979,36.75005699999993 L -91.45441299999982,36.749397999999935 L -91.45443399999981,36.73451899999992 L -91.45443099999981,36.73388999999993 L -91.45442999999982,36.73359099999993 L -91.45446299999979,36.73040699999993 L -91.45447599999981,36.72908899999993 L -91.4545039999998,36.71952199999992 L -91.46300299999983,36.71953199999994 L -91.47281199999982,36.719546999999935 L -91.47445699999983,36.71957099999994 L -91.47928399999982,36.71960799999994 L -91.48180999999984,36.719644999999936 L -91.49033399999985,36.71978099999994 L -91.49958899999984,36.719928999999944 L -91.50013899999985,36.71994399999995 L -91.50013899999985,36.72079599999994 L -91.50601999999985,36.72077499999994 L -91.51726099999985,36.72073599999994 L -91.52707599999987,36.72072299999996 L -91.52705499999986,36.72379499999995 L -91.52703899999987,36.725183999999956 L -91.52700999999986,36.73046599999996 L -91.52699299999986,36.73269199999995 L -91.52696399999988,36.734395999999954 L -91.52697099999986,36.73499199999994 L -91.53440699999987,36.73514199999995 L -91.53581699999987,36.73517599999995 L -91.53751299999986,36.73520799999996 L -91.53788999999986,36.73521599999996 L -91.54463999999989,36.73511199999996 L -91.54459499999989,36.739702999999956 L -91.54453799999989,36.74205999999995 L -91.54427799999988,36.74948199999996 L -91.54425499999988,36.75014799999995 L -91.54426799999989,36.750582999999956 L -91.54410699999988,36.757408999999946 L -91.54394399999988,36.764266999999954 L -91.54423599999988,36.764305999999955 L -91.54910899999989,36.76443499999996 L -91.5665629999999,36.76461099999996 L -91.5694999999999,36.76455199999996 L -91.56961799999989,36.76454999999996 L -91.57138599999989,36.76450499999996 L -91.5714559999999,36.764495999999966 L -91.5715609999999,36.76448299999996 L -91.57171199999989,36.76447299999995 L -91.5739599999999,36.76442799999995 L -91.57645199999989,36.76436899999997 L -91.5767189999999,36.76435299999997 L -91.5769849999999,36.76432799999996 L -91.57724999999989,36.76429299999995 L -91.5775109999999,36.76424799999995 L -91.5779339999999,36.76415699999996 L -91.5780369999999,36.76412699999995 L -91.59616499999991,36.76464499999998 L -91.61890099999992,36.76507299999997 L -91.61946299999993,36.76505299999998 L -91.62500499999993,36.765839999999976 L -91.62585399999992,36.765875999999984 L -91.63379899999993,36.76592599999997 L -91.63402499999992,36.76592699999997 L -91.64076999999993,36.766020999999974 L -91.64692599999994,36.76609199999997 L -91.64715399999994,36.765941999999974 L -91.65601899999994,36.76552499999998 L -91.65607799999994,36.76557299999998 L -91.65618999999994,36.765654999999974 L -91.65626299999992,36.76569799999998 L -91.65633999999994,36.765736999999994 L -91.65641899999993,36.76577099999998 L -91.65650299999993,36.765797999999975 L -91.65667699999993,36.765837999999974 L -91.65676599999993,36.765848999999974 L -91.65694499999992,36.76585899999998 L -91.65732599999993,36.765865999999974 L -91.66052799999994,36.765921999999975 L -91.66142199999993,36.76593399999998 L -91.66231499999992,36.765952999999975 L -91.66320599999995,36.76596499999998 L -91.66453399999992,36.76599599999999 L -91.66488399999993,36.76599999999998 L -91.66500799999994,36.76599599999998 L -91.66564099999994,36.76601699999998 L -91.66787099999992,36.76605899999998 L -91.66878299999993,36.76608899999999 L -91.66964999999992,36.76608899999999 L -91.67054299999994,36.766104999999975 L -91.67143599999996,36.766111999999985 L -91.67232599999994,36.76611299999998 L -91.67428599999995,36.76612599999999 L -91.67446099999994,36.76613999999998 L -91.67471799999996,36.76618799999997 L -91.67489199999996,36.76772799999999 L -91.67475299999995,36.77091899999998 L -91.67458899999995,36.77357399999999 L -91.67458299999994,36.77367699999998 L -91.67457999999993,36.773854999999976 L -91.67455999999994,36.77430799999998 L -91.67449699999996,36.77734299999998 L -91.67423699999995,36.787831999999995 z\" /></g></svg>"
      ],
      "text/plain": [
       "<shapely.geometry.polygon.Polygon at 0x7f8ffb675af0>"
      ]
     },
     "metadata": {},
     "output_type": "display_data"
    },
    {
     "data": {
      "image/svg+xml": [
       "<svg xmlns=\"http://www.w3.org/2000/svg\" xmlns:xlink=\"http://www.w3.org/1999/xlink\" width=\"100.0\" height=\"100.0\" viewBox=\"-91.68424792 36.71016608 0.2526098400000194 0.18791383999999312\" preserveAspectRatio=\"xMinYMin meet\"><g transform=\"matrix(1,0,0,-1,0,73.608246)\"><path fill-rule=\"evenodd\" fill=\"#66cc99\" stroke=\"#555555\" stroke-width=\"0.005052196800000388\" opacity=\"0.6\" d=\"M -91.674753,36.770919 L -91.674589,36.773573999999996 L -91.674583,36.773677 L -91.67457999999999,36.773855 L -91.67456,36.774308 L -91.674497,36.777342999999995 L -91.67423699999999,36.787832 L -91.673357,36.787799 L -91.668774,36.787627 L -91.664239,36.787597 L -91.661971,36.787548 L -91.66009199999999,36.787524999999995 L -91.660017,36.787531 L -91.65996799999999,36.791022 L -91.659944,36.792752 L -91.659936,36.793341999999996 L -91.659928,36.793915999999996 L -91.659795,36.79593 L -91.65964699999999,36.797982999999995 L -91.659645,36.798550999999996 L -91.65963699999999,36.801587999999995 L -91.659627,36.802082999999996 L -91.65937799999999,36.812855 L -91.65937699999999,36.812926 L -91.65937199999999,36.813215 L -91.659245,36.820543 L -91.65924,36.820858 L -91.659224,36.821149999999996 L -91.659065,36.823962 L -91.65906,36.824051 L -91.658991,36.825362999999996 L -91.658857,36.827895 L -91.658693,36.830984 L -91.65866299999999,36.831499 L -91.658501,36.834658 L -91.6584,36.836703 L -91.65822999999999,36.840697999999996 L -91.658289,36.84643 L -91.658377,36.854797999999995 L -91.658413,36.857609 L -91.658413,36.85783 L -91.65837599999999,36.857972 L -91.658355,36.858059 L -91.658441,36.858149999999995 L -91.65848299999999,36.858522 L -91.658526,36.858906 L -91.658576,36.858959999999996 L -91.658484,36.861717 L -91.65820599999999,36.86623 L -91.658188,36.866487 L -91.65820599999999,36.873591 L -91.65846599999999,36.875056 L -91.658396,36.877789 L -91.658318,36.880851 L -91.65811099999999,36.888723999999996 L -91.652446,36.888597 L -91.648614,36.888503 L -91.648437,36.888498999999996 L -91.63573199999999,36.888186 L -91.62745199999999,36.887991 L -91.627326,36.887988 L -91.625142,36.887927 L -91.616101,36.887937 L -91.61606599999999,36.887861 L -91.60892299999999,36.887875 L -91.60889499999999,36.887910999999995 L -91.601249,36.887951 L -91.581825,36.888054 L -91.58174199999999,36.888054 L -91.57378399999999,36.887764 L -91.56776599999999,36.887544999999996 L -91.567515,36.887541 L -91.543717,36.887206 L -91.543404,36.887228 L -91.542688,36.887228 L -91.542357,36.887333 L -91.54218499999999,36.887364 L -91.54167799999999,36.887353 L -91.541107,36.88734 L -91.540223,36.887332 L -91.539362,36.887344 L -91.539189,36.88738 L -91.53901499999999,36.887437 L -91.538842,36.887484 L -91.538741,36.887492 L -91.538668,36.887498 L -91.538495,36.887477 L -91.53832799999999,36.887431 L -91.53817199999999,36.887367999999995 L -91.538129,36.887336 L -91.53806399999999,36.887264 L -91.538037,36.887208 L -91.538015,36.887131 L -91.53754599999999,36.88709 L -91.536878,36.887032 L -91.536712,36.887102 L -91.53654,36.887142 L -91.536278,36.88718 L -91.536011,36.887191 L -91.535741,36.887195999999996 L -91.535303,36.887217 L -91.534899,36.887243 L -91.534815,36.887214 L -91.53152399999999,36.887049 L -91.519153,36.886989 L -91.512022,36.886953999999996 L -91.51198,36.886953999999996 L -91.50947099999999,36.886942 L -91.501164,36.886903 L -91.50013799999999,36.886897999999995 L -91.496882,36.886508 L -91.493151,36.886061 L -91.49310899999999,36.886055 L -91.492809,36.886058 L -91.491872,36.886036 L -91.487579,36.885967 L -91.48265599999999,36.885888 L -91.478122,36.885819 L -91.47406699999999,36.885819 L -91.468578,36.885824 L -91.463117,36.885827 L -91.463076,36.885828 L -91.45920199999999,36.885829 L -91.45890299999999,36.885832 L -91.45185099999999,36.885833999999996 L -91.447903,36.885836999999995 L -91.44771399999999,36.885836999999995 L -91.44099399999999,36.885841 L -91.440998,36.885549999999995 L -91.441042,36.882323 L -91.44109,36.879197 L -91.441096,36.878696999999995 L -91.441113,36.877326 L -91.441131,36.875052 L -91.441401,36.861498 L -91.441386,36.859179 L -91.44139,36.857479999999995 L -91.441458,36.852584 L -91.441734,36.842909 L -91.441813,36.839029 L -91.44180999999999,36.838425 L -91.44195099999999,36.829997 L -91.441952,36.829868 L -91.441994,36.829124 L -91.441994,36.828924 L -91.44206,36.82496 L -91.44207899999999,36.823865999999995 L -91.442218,36.816613 L -91.442386,36.805842999999996 L -91.442441,36.802288 L -91.44246799999999,36.800224 L -91.442557,36.794554999999995 L -91.442698,36.785533 L -91.445387,36.785584 L -91.44569899999999,36.785624 L -91.44632,36.785657 L -91.446744,36.785624 L -91.446894,36.785585999999995 L -91.447851,36.785596999999996 L -91.45414099999999,36.785727 L -91.454188,36.783300000000004 L -91.454191,36.783024 L -91.45419199999999,36.782826 L -91.45425,36.776537999999995 L -91.454244,36.775805 L -91.45417499999999,36.767302 L -91.45416999999999,36.766742 L -91.45420299999999,36.765895 L -91.45427199999999,36.763611999999995 L -91.454279,36.759505 L -91.45441199999999,36.750057 L -91.454413,36.749398 L -91.45443399999999,36.734519 L -91.454431,36.733889999999995 L -91.45443,36.733591 L -91.45446299999999,36.730407 L -91.454476,36.729089 L -91.454504,36.719522 L -91.463003,36.719532 L -91.47281199999999,36.719547 L -91.474457,36.719570999999995 L -91.47928399999999,36.719608 L -91.48181,36.719645 L -91.49033399999999,36.719781 L -91.499589,36.719929 L -91.50013899999999,36.719944 L -91.50013899999999,36.720796 L -91.50601999999999,36.720774999999996 L -91.51726099999999,36.720735999999995 L -91.527076,36.720723 L -91.52705499999999,36.723794999999996 L -91.527039,36.725184 L -91.52700999999999,36.730466 L -91.52699299999999,36.732692 L -91.52696399999999,36.734396 L -91.52697099999999,36.734992 L -91.534407,36.735141999999996 L -91.535817,36.735175999999996 L -91.53751299999999,36.735208 L -91.53788999999999,36.735216 L -91.54464,36.735112 L -91.544595,36.739703 L -91.544538,36.742059999999995 L -91.54427799999999,36.749482 L -91.54425499999999,36.750147999999996 L -91.544268,36.750583 L -91.544107,36.757408999999996 L -91.543944,36.764267 L -91.544236,36.764306 L -91.549109,36.764435 L -91.566563,36.764610999999995 L -91.5695,36.764551999999995 L -91.56961799999999,36.76455 L -91.57138599999999,36.764505 L -91.571456,36.764496 L -91.571561,36.764483 L -91.57171199999999,36.764472999999995 L -91.57396,36.764427999999995 L -91.57645199999999,36.764368999999995 L -91.576719,36.764353 L -91.576985,36.764328 L -91.57724999999999,36.764292999999995 L -91.577511,36.764247999999995 L -91.577934,36.764157 L -91.578037,36.764126999999995 L -91.596165,36.764645 L -91.618901,36.765073 L -91.619463,36.765053 L -91.625005,36.76584 L -91.62585399999999,36.765876 L -91.633799,36.765926 L -91.634025,36.765927 L -91.64076999999999,36.766020999999995 L -91.646926,36.766092 L -91.647154,36.765941999999995 L -91.656019,36.765525 L -91.656078,36.765572999999996 L -91.65619,36.765654999999995 L -91.656263,36.765698 L -91.65634,36.765737 L -91.656419,36.765771 L -91.656503,36.765798 L -91.656677,36.765837999999995 L -91.65676599999999,36.765848999999996 L -91.656945,36.765859 L -91.657326,36.765865999999995 L -91.660528,36.765921999999996 L -91.661422,36.765934 L -91.66231499999999,36.765952999999996 L -91.663206,36.765965 L -91.66453399999999,36.765996 L -91.664884,36.766 L -91.665008,36.765996 L -91.665641,36.766017 L -91.66787099999999,36.766059 L -91.66878299999999,36.766089 L -91.66964999999999,36.766089 L -91.670543,36.766104999999996 L -91.671436,36.766112 L -91.672326,36.766113 L -91.674286,36.766126 L -91.674461,36.76614 L -91.674718,36.766188 L -91.674892,36.767728 L -91.674753,36.770919 z\" /></g></svg>"
      ],
      "text/plain": [
       "<shapely.geometry.polygon.Polygon at 0x7f8ffda4dc70>"
      ]
     },
     "metadata": {},
     "output_type": "display_data"
    }
   ],
   "source": [
    "#Show a random difference\n",
    "test = both[~vals].sample(axis=0,n=1).index[0]\n",
    "print(both[~vals])\n",
    "display(both.iloc[test][\"geometry_x\"])\n",
    "display(both.iloc[test][\"geometry_y\"])\n",
    "\n",
    "test = both[~vals].sample(axis=0).index[0]\n",
    "display(both.iloc[test][\"geometry_x\"])\n",
    "display(both.iloc[test][\"geometry_y\"])"
   ]
  },
  {
   "cell_type": "markdown",
   "metadata": {},
   "source": [
    "### Look into county w/ FIPS 189"
   ]
  },
  {
   "cell_type": "code",
   "execution_count": 34,
   "metadata": {
    "scrolled": true
   },
   "outputs": [
    {
     "name": "stdout",
     "output_type": "stream",
     "text": [
      "(836, 31)\n"
     ]
    },
    {
     "data": {
      "text/plain": [
       "<matplotlib.axes._subplots.AxesSubplot at 0x7f9000ceb8e0>"
      ]
     },
     "execution_count": 34,
     "metadata": {},
     "output_type": "execute_result"
    },
    {
     "data": {
      "image/png": "[encoded data removed]",
      "text/plain": [
       "<Figure size 432x288 with 1 Axes>"
      ]
     },
     "metadata": {
      "needs_background": "light"
     },
     "output_type": "display_data"
    }
   ],
   "source": [
    "print(both[both[\"unique_ID\"].str[0:3]==\"189\"].shape)\n",
    "kc_1 = gp.GeoDataFrame(both[both[\"unique_ID\"].str[0:3]==\"189\"], geometry='geometry_x',crs=shapefiles_census_crs)\n",
    "kc_2 = gp.GeoDataFrame(both[both[\"unique_ID\"].str[0:3]==\"189\"], geometry='geometry_y',crs=shapefiles_census_crs)\n",
    "\n",
    "gp.overlay(kc_1,kc_2,how='symmetric_difference').plot()"
   ]
  },
  {
   "cell_type": "code",
   "execution_count": 35,
   "metadata": {},
   "outputs": [
    {
     "name": "stdout",
     "output_type": "stream",
     "text": [
      "New max diff is:  1.0\n",
      "043West Finley\n",
      "New max diff is:  2.0\n",
      "0194K/4M/37\n",
      "There are  2169  total rows\n",
      "605  of these rows have election result differences\n",
      "1564  of these rows are the same\n",
      "\n",
      "The max difference between any one shared column in a row is:  2.0\n",
      "The average difference is:  1.0208926875593543\n",
      "There are  0 precinct results with a difference greater than 5\n"
     ]
    }
   ],
   "source": [
    "col_list = [\"G18USSDMCC\",\"G18USSIODE\",\"G18AUDGFIT\",\"G18AUDCLUE\",\"G18USSLCAM\",\"G18USSGCRA\",\"G18USSRHAW\",\"G18AUDDGAL\",\"G18AUDRMCD\",\"G18AUDLOTO\"]\n",
    "validater_row(both,col_list)"
   ]
  }
 ],
 "metadata": {
  "kernelspec": {
   "display_name": "Python 3",
   "language": "python",
   "name": "python3"
  },
  "language_info": {
   "codemirror_mode": {
    "name": "ipython",
    "version": 3
   },
   "file_extension": ".py",
   "mimetype": "text/x-python",
   "name": "python",
   "nbconvert_exporter": "python",
   "pygments_lexer": "ipython3",
   "version": "3.8.3"
  }
 },
 "nbformat": 4,
 "nbformat_minor": 4
}
