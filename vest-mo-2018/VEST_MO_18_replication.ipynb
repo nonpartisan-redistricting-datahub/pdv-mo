{
 "cells": [
  {
   "cell_type": "code",
   "execution_count": 1,
   "metadata": {},
   "outputs": [],
   "source": [
    "import maup # mggg's library for proration, see documentation here: https://github.com/mggg/maup\n",
    "import pandas as pd # standard python data library\n",
    "import geopandas as gp # the geo-version of pandas\n",
    "import numpy as np \n",
    "import os\n",
    "import fiona\n",
    "from statistics import mean, median\n",
    "from pandas import read_csv\n",
    "gp.io.file.fiona.drvsupport.supported_drivers['KML'] = 'rw' #To load KML files\n",
    "import string\n",
    "import xml.etree.ElementTree as et"
   ]
  },
  {
   "cell_type": "code",
   "execution_count": 2,
   "metadata": {},
   "outputs": [],
   "source": [
    "vest_mo_18 = gp.read_file(\"./raw-from-source/VEST/mo_2018/mo_2018.shp\")"
   ]
  },
  {
   "cell_type": "code",
   "execution_count": 3,
   "metadata": {},
   "outputs": [
    {
     "name": "stdout",
     "output_type": "stream",
     "text": [
      "  STATEFP COUNTYFP           NAME  G18USSRHAW  G18USSDMCC  G18USSLCAM  \\\n",
      "0      29      189          MR032          77          26           0   \n",
      "1      29      189  CHE044/LAF001         254         288           2   \n",
      "2      29      201       Commerce         215          89           1   \n",
      "3      29      043    West Finley        1254         504          34   \n",
      "4      29      189  MID036/MID048          48         257           1   \n",
      "\n",
      "   G18USSGCRA  G18USSIODE  G18AUDRMCD  G18AUDDGAL  G18AUDLOTO  G18AUDGFIT  \\\n",
      "0           0           0          57          42           0           0   \n",
      "1           2           2         227         303           7           0   \n",
      "2           0           0         197          89           5           0   \n",
      "3          14          38        1056         651          67          15   \n",
      "4           4           9          37         268           5           4   \n",
      "\n",
      "   G18AUDCLUE                                           geometry  \n",
      "0           2  POLYGON ((-90.54675 38.65233, -90.54641 38.652...  \n",
      "1           7  POLYGON ((-90.55822 38.65301, -90.55760 38.652...  \n",
      "2           1  POLYGON ((-89.44957 37.06921, -89.44957 37.068...  \n",
      "3          20  POLYGON ((-93.26533 37.04093, -93.26521 37.040...  \n",
      "4           4  POLYGON ((-90.37408 38.68288, -90.37354 38.682...  \n"
     ]
    }
   ],
   "source": [
    "print(vest_mo_18.head())"
   ]
  },
  {
   "cell_type": "markdown",
   "metadata": {},
   "source": [
    "## Election Data Sources"
   ]
  },
  {
   "cell_type": "markdown",
   "metadata": {},
   "source": [
    "Election results from the Secretary of State's office via OpenElections (https://github.com/openelections/openelections-data-mo/tree/master/2018). Absentee, provisional, and mail ballots were reported countywide in nearly every county; these were distributed by candidate to precincts based on their share of the precinct-level reported vote.\n",
    "\n",
    "- G18USSRHAW - Josh Hawley (Republican Party)  \n",
    "- G18USSDMCC - Claire McCaskill (Democratic Party)  \n",
    "- G18USSLCAM - Japheth Campbell (Libertarian Party)  \n",
    "- G18USSGCRA - Jo Crain (Green Party)  \n",
    "- G18USSIODE - Craig O'Dear (Independent)  \n",
    "  \n",
    "  \n",
    "- G18AUDRMCD - Saundra McDowell (Republican Party)  \n",
    "- G18AUDDGAL - Nicole Galloway (Democratic Party)  \n",
    "- G18AUDLOTO - Sean O'Toole (Libertarian Party)  \n",
    "- G18AUDGFIT - Don Fitz (Green Party)  \n",
    "- G18AUDCLUE - Jacob Luetkemeyer (Constitution Party)  \n"
   ]
  },
  {
   "cell_type": "code",
   "execution_count": 4,
   "metadata": {},
   "outputs": [],
   "source": [
    "mo_elections = pd.read_csv(\"./raw-from-source/Open_Elections/20181106__mo__general__precinct.csv\")\n",
    "candidate_list = ['Josh Hawley','Claire McCaskill','Japheth Campbell','Jo Crain',\n",
    " \"Craig O'Dear\",'Saundra McDowell','Nicole Galloway',\"Sean O'Toole\",'Don Fitz','Jacob Luetkemeyer']\n",
    "office_list = ['U.S. Senate', 'State Auditor']\n",
    "mo_elections[\"candidate\"] = mo_elections[\"candidate\"].str.strip()\n",
    "mo_elections = mo_elections[mo_elections[\"office\"].isin(office_list)]\n",
    "mo_elections = mo_elections[mo_elections[\"candidate\"].isin(candidate_list)]\n"
   ]
  },
  {
   "cell_type": "code",
   "execution_count": 5,
   "metadata": {},
   "outputs": [],
   "source": [
    "fips_file = pd.read_csv(\"./raw-from-source/FIPS/US_FIPS_Codes.csv\")\n",
    "fips_file = fips_file[fips_file[\"State\"]==\"Missouri\"]\n",
    "fips_file[\"FIPS County\"] = fips_file[\"FIPS County\"].astype(str)\n",
    "fips_file[\"FIPS County\"] = fips_file[\"FIPS County\"].str.zfill(3)\n",
    "#print(fips_file[~fips_file[\"County Name\"].isin(mo_elections[\"county\"])][\"County Name\"].unique())\n",
    "fips_dict = dict(zip(fips_file['County Name'], fips_file['FIPS County']))\n",
    "mo_changes = {'De Kalb':'Dekalb','Kansas City':'Jackson','McDonald':'Mcdonald',\n",
    "              'St. Charles':'St Charles','St. Clair':'St Clair',\n",
    "              'Ste. Genevieve':'Ste Genevieve','St. Francois':'St Francois',\n",
    "              'St. Louis City':'St Louis City','St. Louis County':'St Louis'}\n",
    "mo_elections['county'] = mo_elections['county'].map(mo_changes).fillna(mo_elections['county'])\n",
    "mo_elections['COUNTYFP'] = mo_elections['county'].map(fips_dict).fillna(mo_elections['county'])\n",
    "mo_elections[\"unique_ID\"]=mo_elections[\"COUNTYFP\"]+mo_elections[\"precinct\"]"
   ]
  },
  {
   "cell_type": "code",
   "execution_count": 6,
   "metadata": {},
   "outputs": [],
   "source": [
    "mo_elections_pivot = pd.pivot_table(mo_elections,index=[\"unique_ID\",\"COUNTYFP\",\"precinct\"],columns=[\"candidate\"],values=['votes'],aggfunc=sum)\n",
    "mo_elections_pivot = mo_elections_pivot.fillna(0)\n",
    "mo_elections_pivot.columns = mo_elections_pivot.columns.droplevel(0)\n",
    "mo_elections_pivot.reset_index(drop=False,inplace=True)\n",
    "mo_elections_pivot = mo_elections_pivot.rename(columns={'Claire McCaskill':\"G18USSDMCC\",\"Craig O'Dear\": \"G18USSIODE\",'Don Fitz':\"G18AUDGFIT\",'Jacob Luetkemeyer':\"G18AUDCLUE\",'Japheth Campbell':\"G18USSLCAM\",'Jo Crain':\"G18USSGCRA\",'Josh Hawley':\"G18USSRHAW\",'Nicole Galloway':\"G18AUDDGAL\",'Saundra McDowell':\"G18AUDRMCD\",\"Sean O'Toole\":\"G18AUDLOTO\"})"
   ]
  },
  {
   "cell_type": "code",
   "execution_count": 7,
   "metadata": {},
   "outputs": [],
   "source": [
    "matcher_increase = pd.read_csv(\"./matcher_increase.csv\")\n",
    "new_name_dict = dict(zip(matcher_increase['source_names'], matcher_increase['vest_names']))\n",
    "mo_elections_pivot[\"unique_ID\"] = mo_elections_pivot[\"unique_ID\"].str.strip()\n",
    "mo_elections_pivot[\"unique_ID\"] = mo_elections_pivot[\"unique_ID\"].map(new_name_dict).fillna(mo_elections_pivot[\"unique_ID\"])\n",
    "kc_precincts = mo_elections_pivot[mo_elections_pivot[\"unique_ID\"].str[0:5]==\"095KC\"]"
   ]
  },
  {
   "cell_type": "code",
   "execution_count": 8,
   "metadata": {},
   "outputs": [
    {
     "name": "stdout",
     "output_type": "stream",
     "text": [
      "Index(['unique_ID', 'COUNTYFP', 'precinct', 'G18USSDMCC', 'G18USSIODE',\n",
      "       'G18AUDGFIT', 'G18AUDCLUE', 'G18USSLCAM', 'G18USSGCRA', 'G18USSRHAW',\n",
      "       'G18AUDDGAL', 'G18AUDRMCD', 'G18AUDLOTO'],\n",
      "      dtype='object', name='candidate')\n"
     ]
    }
   ],
   "source": [
    "print(kc_precincts.columns)"
   ]
  },
  {
   "cell_type": "code",
   "execution_count": 9,
   "metadata": {},
   "outputs": [
    {
     "name": "stdout",
     "output_type": "stream",
     "text": [
      "Empty DataFrame\n",
      "Columns: [unique_ID, COUNTYFP, precinct, G18USSDMCC, G18USSIODE, G18AUDGFIT, G18AUDCLUE, G18USSLCAM, G18USSGCRA, G18USSRHAW, G18AUDDGAL, G18AUDRMCD, G18AUDLOTO]\n",
      "Index: []\n"
     ]
    }
   ],
   "source": [
    "remove_list = [\"ABSENTEE\",\"PROVISIONAL\",\"FEDERAL\",\"FEDERAL/STATE\",\"INTRASTATE\",\"WRITE-IN\",\"CENTRAL POLLING LOCATION\",\"CENTRAL POLL\",\"ABSENTEE1\",\"ABSENTEE2\",\"VOTE CENTER\",\"CENTRAL POLLING LOCATION: MSU\",\"INTRASTATE/NEW RESIDENT\",\"WRITE-INS\",\"MULTI-PRECINCT COLLECTION\",\"INTRASTATE NEW RESIDENT\",\"MULTI-PRECINCT COLLECTION\",\"ABSENTEE, PROVISIONAL & CENTRAL\",\"INTRASTATE01\",\"INTRASTATE02\"]\n",
    "mo_elections_countywide = mo_elections_pivot[(mo_elections_pivot[\"precinct\"].isin(remove_list)) | (mo_elections_pivot[\"unique_ID\"]=='019CENTRAL')]\n",
    "mo_elections_pivot = mo_elections_pivot[~(mo_elections_pivot[\"precinct\"].isin(remove_list)) & ~(mo_elections_pivot[\"unique_ID\"]=='019CENTRAL') & ~(mo_elections_pivot[\"unique_ID\"].str[0:5]==\"095KC\")]\n",
    "print(mo_elections_pivot[(mo_elections_pivot[\"unique_ID\"].str[0:5]==\"095KC\")])\n",
    "countywide_totals = mo_elections_countywide.groupby([\"COUNTYFP\"]).sum()\n",
    "precinct_totals = mo_elections_pivot.groupby([\"COUNTYFP\"]).sum()\n",
    "data_to_add = pd.merge(precinct_totals,countywide_totals,on=['COUNTYFP'],how='left',indicator=False)\n",
    "data_to_add.reset_index(inplace=True,drop=False)"
   ]
  },
  {
   "cell_type": "code",
   "execution_count": 10,
   "metadata": {},
   "outputs": [
    {
     "name": "stdout",
     "output_type": "stream",
     "text": [
      "candidate          unique_ID COUNTYFP       precinct  G18USSDMCC  G18USSIODE  \\\n",
      "1076         095KC 1910/1911      095   W-19-P11, 10       380.0         6.0   \n",
      "1077           095KC 101/104      095       W1-P1, 4      1667.0        28.0   \n",
      "1078           095KC 102/107      095       W1-P2, 7      1127.0         8.0   \n",
      "1079               095KC 103      095          W1-P3       658.0        10.0   \n",
      "1080               095KC 105      095          W1-P5       825.0         7.0   \n",
      "...                      ...      ...            ...         ...         ...   \n",
      "1224           095KC 910/911      095     W9-P10, 11      1141.0        13.0   \n",
      "1225           095KC 901/902      095       W9-P2, 1      1300.0        16.0   \n",
      "1226       095KC 903/904/906      095    W9-P4, 3, 6      1182.0        13.0   \n",
      "1227       095KC 905/912/913      095  W9-P5, 12, 13       698.0         8.0   \n",
      "1228       095KC 907/908/909      095    W9-P8, 7, 9      1168.0         7.0   \n",
      "\n",
      "candidate  G18AUDGFIT  G18AUDCLUE  G18USSLCAM  G18USSGCRA  G18USSRHAW  \\\n",
      "1076              9.0         2.0         9.0         3.0        43.0   \n",
      "1077             20.0        14.0        22.0         6.0       326.0   \n",
      "1078              8.0         3.0        11.0         7.0       151.0   \n",
      "1079              7.0         8.0         7.0         5.0       123.0   \n",
      "1080             12.0         5.0        13.0        10.0        62.0   \n",
      "...               ...         ...         ...         ...         ...   \n",
      "1224             21.0        13.0        18.0        11.0       246.0   \n",
      "1225              6.0        20.0        11.0         3.0       344.0   \n",
      "1226              8.0        20.0        12.0         4.0       265.0   \n",
      "1227              6.0         5.0         5.0         1.0        71.0   \n",
      "1228             18.0        20.0        11.0        16.0       301.0   \n",
      "\n",
      "candidate  G18AUDDGAL  G18AUDRMCD  G18AUDLOTO  \n",
      "1076            374.0        41.0        10.0  \n",
      "1077           1655.0       289.0        44.0  \n",
      "1078           1101.0       155.0        26.0  \n",
      "1079            648.0       109.0        20.0  \n",
      "1080            806.0        67.0        17.0  \n",
      "...               ...         ...         ...  \n",
      "1224           1119.0       227.0        31.0  \n",
      "1225           1295.0       294.0        36.0  \n",
      "1226           1154.0       243.0        28.0  \n",
      "1227            677.0        62.0        18.0  \n",
      "1228           1155.0       250.0        34.0  \n",
      "\n",
      "[153 rows x 13 columns]\n"
     ]
    }
   ],
   "source": [
    "\n",
    "joined = pd.merge(mo_elections_pivot,data_to_add,on=['COUNTYFP'],how='left',indicator=False)\n",
    "joined = joined.fillna(0)\n",
    "col_list = [\"G18USSDMCC\",\"G18USSIODE\",\"G18AUDGFIT\",\"G18AUDCLUE\",\"G18USSLCAM\",\"G18USSGCRA\",\"G18USSRHAW\",\"G18AUDDGAL\",\"G18AUDRMCD\",\"G18AUDLOTO\"]\n",
    "for i in col_list:\n",
    "    precinct_totals = i + \"_x\"\n",
    "    countywide_reported = i+\"_y\"\n",
    "    joined[i]=round(joined[i]+((joined[i]*joined[countywide_reported])/joined[precinct_totals]),0)\n",
    "joined = joined [[\"unique_ID\",\"COUNTYFP\",\"precinct\",\"G18USSDMCC\",\"G18USSIODE\",\"G18AUDGFIT\",\"G18AUDCLUE\",\"G18USSLCAM\",\"G18USSGCRA\",\"G18USSRHAW\",\"G18AUDDGAL\",\"G18AUDRMCD\",\"G18AUDLOTO\"]]\n",
    "joined = joined.append(kc_precincts)\n",
    "print(joined[joined[\"unique_ID\"].str[0:5]==\"095KC\"])"
   ]
  },
  {
   "cell_type": "markdown",
   "metadata": {},
   "source": [
    "- G18USSRHAW - Josh Hawley (Republican Party)  \n",
    "- G18USSDMCC - Claire McCaskill (Democratic Party)  \n",
    "- G18USSLCAM - Japheth Campbell (Libertarian Party)  \n",
    "- G18USSGCRA - Jo Crain (Green Party)  \n",
    "- G18USSIODE - Craig O'Dear (Independent)  \n",
    "  \n",
    "  \n",
    "- G18AUDRMCD - Saundra McDowell (Republican Party)  \n",
    "- G18AUDDGAL - Nicole Galloway (Democratic Party)  \n",
    "- G18AUDLOTO - Sean O'Toole (Libertarian Party)  \n",
    "- G18AUDGFIT - Don Fitz (Green Party)  \n",
    "- G18AUDCLUE - Jacob Luetkemeyer (Constitution Party)  "
   ]
  },
  {
   "cell_type": "code",
   "execution_count": 11,
   "metadata": {},
   "outputs": [
    {
     "name": "stdout",
     "output_type": "stream",
     "text": [
      "2161    189MER44\n",
      "Name: unique_ID, dtype: object\n",
      "Series([], Name: unique_ID, dtype: object)\n"
     ]
    }
   ],
   "source": [
    "vest_mo_18[\"unique_ID\"]=vest_mo_18[\"COUNTYFP\"]+vest_mo_18[\"NAME\"]\n",
    "vest_empty = vest_mo_18[(vest_mo_18['G18USSRHAW']==0) & (vest_mo_18['G18USSDMCC']==0) &\n",
    "              (vest_mo_18['G18USSLCAM']==0) & (vest_mo_18['G18USSGCRA']==0) &\n",
    "              (vest_mo_18['G18USSIODE']==0) & (vest_mo_18['G18AUDRMCD']==0) &\n",
    "              (vest_mo_18['G18AUDDGAL']==0) & (vest_mo_18['G18AUDLOTO']==0) &\n",
    "              (vest_mo_18['G18AUDGFIT']==0) & (vest_mo_18['G18AUDCLUE']==0)][\"unique_ID\"]\n",
    "\n",
    "joined_empty = joined[(joined['G18USSRHAW']==0) & (joined['G18USSDMCC']==0) &\n",
    "              (joined['G18USSLCAM']==0) & (joined['G18USSGCRA']==0) &\n",
    "              (joined['G18USSIODE']==0) & (joined['G18AUDRMCD']==0) &\n",
    "              (joined['G18AUDDGAL']==0) & (joined['G18AUDLOTO']==0) &\n",
    "              (joined['G18AUDGFIT']==0) & (joined['G18AUDCLUE']==0)][\"unique_ID\"]\n",
    "\n",
    "print(joined_empty.head())\n",
    "print(vest_empty[vest_empty==\"189MER44\"])"
   ]
  },
  {
   "cell_type": "code",
   "execution_count": 12,
   "metadata": {},
   "outputs": [],
   "source": [
    "new_precincts = pd.DataFrame(columns=joined.columns)\n",
    "new_precincts[\"unique_ID\"]=vest_empty\n",
    "col_list = [\"G18USSDMCC\",\"G18USSIODE\",\"G18AUDGFIT\",\"G18AUDCLUE\",\"G18USSLCAM\",\"G18USSGCRA\",\"G18USSRHAW\",\"G18AUDDGAL\",\"G18AUDRMCD\",\"G18AUDLOTO\"]\n",
    "for i in col_list:\n",
    "    new_precincts[i]=0\n",
    "joined = joined.append(new_precincts)"
   ]
  },
  {
   "cell_type": "code",
   "execution_count": 13,
   "metadata": {},
   "outputs": [
    {
     "name": "stdout",
     "output_type": "stream",
     "text": [
      "(3242, 15)\n",
      "(3243, 13)\n",
      "both          3242\n",
      "right_only       1\n",
      "left_only        0\n",
      "Name: _merge, dtype: int64\n",
      "     STATEFP COUNTYFP_x NAME  G18USSRHAW_x  G18USSDMCC_x  G18USSLCAM_x  \\\n",
      "3242     NaN        NaN  NaN           NaN           NaN           NaN   \n",
      "\n",
      "      G18USSGCRA_x  G18USSIODE_x  G18AUDRMCD_x  G18AUDDGAL_x  ...  \\\n",
      "3242           NaN           NaN           NaN           NaN  ...   \n",
      "\n",
      "      G18USSIODE_y  G18AUDGFIT_y  G18AUDCLUE_y G18USSLCAM_y G18USSGCRA_y  \\\n",
      "3242           0.0           0.0           0.0          0.0          0.0   \n",
      "\n",
      "     G18USSRHAW_y G18AUDDGAL_y  G18AUDRMCD_y  G18AUDLOTO_y      _merge  \n",
      "3242          0.0          0.0           0.0           0.0  right_only  \n",
      "\n",
      "[1 rows x 28 columns]\n",
      "Empty GeoDataFrame\n",
      "Columns: [STATEFP, COUNTYFP_x, NAME, G18USSRHAW_x, G18USSDMCC_x, G18USSLCAM_x, G18USSGCRA_x, G18USSIODE_x, G18AUDRMCD_x, G18AUDDGAL_x, G18AUDLOTO_x, G18AUDGFIT_x, G18AUDCLUE_x, geometry, unique_ID, COUNTYFP_y, precinct, G18USSDMCC_y, G18USSIODE_y, G18AUDGFIT_y, G18AUDCLUE_y, G18USSLCAM_y, G18USSGCRA_y, G18USSRHAW_y, G18AUDDGAL_y, G18AUDRMCD_y, G18AUDLOTO_y, _merge]\n",
      "Index: []\n",
      "\n",
      "[0 rows x 28 columns]\n",
      "Series([], Name: unique_ID, dtype: object)\n"
     ]
    }
   ],
   "source": [
    "print(vest_mo_18.shape)\n",
    "print(joined.shape)\n",
    "\n",
    "final_join = pd.merge(vest_mo_18,joined,how=\"outer\",on=\"unique_ID\",indicator=True)\n",
    "print(final_join[\"_merge\"].value_counts())\n",
    "\n",
    "print(final_join[final_join[\"_merge\"]==\"right_only\"].head())\n",
    "print(final_join[final_join[\"_merge\"]==\"left_only\"].head())\n",
    "\n",
    "\n",
    "\n",
    "\n",
    "print(final_join[final_join[\"_merge\"]==\"left_only\"][\"unique_ID\"])"
   ]
  },
  {
   "cell_type": "code",
   "execution_count": 14,
   "metadata": {},
   "outputs": [],
   "source": [
    "def validater_row (df, column_List):\n",
    "    matching_rows = 0\n",
    "    different_rows = 0\n",
    "    diff_list=[]\n",
    "    diff_values = []\n",
    "    max_diff = 0\n",
    "    \n",
    "    for j in range(0,len(df.index)):\n",
    "        same = True\n",
    "        for i in column_List:\n",
    "            left_Data = i + \"_x\"\n",
    "            right_Data = i + \"_y\"\n",
    "            diff = abs(df.iloc[j][left_Data]-df.iloc[j][right_Data])\n",
    "            if(diff != 0):\n",
    "                diff_values.append(abs(diff))\n",
    "                same = False\n",
    "                if(np.isnan(diff)):\n",
    "                    print(\"NaN value at diff is: \", df.iloc[j]['unique_ID'])\n",
    "                if (diff>max_diff):\n",
    "                    max_diff = diff\n",
    "                    print(\"New max diff is: \", str(max_diff))\n",
    "                    print(df.iloc[j]['unique_ID'])\n",
    "        if(same != True):\n",
    "            different_rows +=1\n",
    "            diff_list.append(df.iloc[j]['unique_ID'])\n",
    "        else:\n",
    "            matching_rows +=1\n",
    "    print(\"There are \", len(df.index),\" total rows\")\n",
    "    print(different_rows,\" of these rows have election result differences\")\n",
    "    print(matching_rows,\" of these rows are the same\")\n",
    "    print(\"\")\n",
    "    print(\"The max difference between any one shared column in a row is: \", max_diff)\n",
    "    if(len(diff_values)!=0):\n",
    "        print(\"The average difference is: \", str(sum(diff_values)/len(diff_values)))\n",
    "    count_big_diff = len([i for i in diff_values if i > 10])\n",
    "    print(\"There are \", str(count_big_diff), \"precinct results with a difference greater than 5\")\n",
    "    diff_list.sort()\n",
    "    print(diff_list)"
   ]
  },
  {
   "cell_type": "code",
   "execution_count": 15,
   "metadata": {},
   "outputs": [
    {
     "name": "stdout",
     "output_type": "stream",
     "text": [
      "New max diff is:  1.0\n",
      "043West Finley\n",
      "New max diff is:  2.0\n",
      "0194K/4M/37\n",
      "There are  3242  total rows\n",
      "1067  of these rows have election result differences\n",
      "2175  of these rows are the same\n",
      "\n",
      "The max difference between any one shared column in a row is:  2.0\n",
      "The average difference is:  1.0192307692307692\n",
      "There are  0 precinct results with a difference greater than 5\n",
      "['001Brashear', '001Northeast 5', '001Novinger', '001Rural Benton', '001Southeast 2', '001Southwest 1', '003John Glenn/Country Club/Beeler', '003Lincoln', '003Rochester', '005Rock Port', '005Tarkio', '007Community', '007Martinsburg', '007Mexico No. 1', '007Mexico No. 2/3/4', '007Mexico No. 5', '007Mexico No. 6', '007Rush Hill/Benton City', '007South Fork', '009Cassville City', '009Cassville Rural/Mineral', '009Exeter', '009McDowell/Purdy', '009Ozark/Crane Creek', '009Roaring River', '009Shell Knob', '011City 3&4', '011DoylesPort/Milford/Newport/Union', '011Golden City', '011Lamar/Richland', '013Adrian North', '013Adrian South', '013Amoret', '013Butler No. 1', '013Butler No. 3', '013Butler No. 4', '013Hudson', '015Cole', '015Union', '015White', '017Lutesville/Marble Hill', '017Sedgewickville', '017Zalma', '01907', '01908', '01909/11', '01910/12', '01915/40', '01916', '01917', '0191A', '0191C/1G', '0191D', '0191E/6B', '0191F/1J/1L', '0191M', '01921', '01922/45', '01924/33', '01925/34', '01926', '0192A/2G', '0192B/2J', '0192C/2F', '0192D', '0192H', '0192I', '0192L/20', '01931/32', '01935/42', '01939', '0193A/3G/3L', '0193C', '0193D', '0193E/3H', '0193F', '0193M/6J', '0194A/4J', '0194G', '0194K/4M/37', '0194L', '0195D/5G/5M', '0195E/5P', '0195I/5J', '0195N/36/44', '0196A/6L', '0196C/6H', '0196D/6K/6M', '0196E/6I', '021Ashland United Methodist Church', '021Brookdale Student Ministry', '021Faucett Lions Club', '021Grace Evangelical Church', '021Huffman United Methodist Church', '021Our Lady of Guadalupe Church', '021Pony Express Museum', '021Savannah Avenue Baptist Church', '021Wesley United Methodist Church', '023Cane Creek', '023Coon Island', '023Hendrickson', '023Hillview', '023Kinyon', '023Lake Road', '023Moark', '023Oak Grove', '023Poplar Bluff Ward 1', '023Poplar Bluff Ward 2', '023Poplar Bluff Ward 3', '023Poplar Bluff Ward 4', '023Poplar Bluff Ward 5', '023Sale Barn', '023Twin Springs', '023Wappapello', '025Breckenridge', '025Gomer/Hamilton I', '025Grant', '025Hamilton II', '027Auxvasse', '027Calwood', '027Carrington/Guthrie', '027East/West Fulton', '027Fulton No. 1&2', '027Fulton No. 3', '027Hams Prairie', '027Hatton', '027Holts Summit No. 1&2', '027Holts Summit Rural/Cedar City', '027McCredie', '027Millersburg', '027Mokane', '027New Bloomfield', '027Portland', '027Readsville', '027Shamrock', '027Stephens', '027Tebbetts', '027Williamsburg', '029Climax Springs', '029Decaturville', '029Freedom', '029Hillhouse', '029Linn Creek', '029Sunny Slope', '031Brown Owl', '031Burfordville', '031Byrd No. 1', '031Byrd No. 2', '031Byrd No. 3', '031Byrd No. 4', '031Byrd No. 5/6', '031Cape 1', '031Cape 2A', '031Cape 3A', '031Cape 3B', '031Cape 4A', '031Cape 4C', '031Cape 5A', '031Cape 5B', '031Cape 6A', '031Cape 6B', '031Cape 6C', '031Delta', '031Fruitland', '031Hanover', '031Millersville', '031Neelys Landing/Oriole', '031Nell Holcomb', '031New Wells', '031Oak Ridge', '031Pocahontas', '031Whitewater', '033Carrollton Ward 1', '033Carrollton Ward 2/3', '033Carrollton Ward 4', '033Dewitt', '033Leslie/Van Horn', '033Prairie/Egypt', '033Ridge/Rockford', '035Colemansville/Ellsinore', '035Fremont', '035Grandin', '035Hunter', '035Van Buren', '03702 Dayton/03 Garden City/15 Camp Branch/17 Index', '03708 West Dolan/09 Dolan', '03712 Harrisonville Ward 2', '03714 Harrisonville Ward 4', '03716 East Lynne/18 Gunn City', '03721 Pleasant Hill East', '03722 Pleasant Hill', '03725 West Peculiar Rural', '03729 Winnebago', '03733 Raymore Ward 2', '03735 Raymore Ward 4', '03736 Mt Pleasant Rural', '03737 Pleasant Prairie', '03739 Belton NE Ward 1', '03741 Belton NW Ward 2', '03743 Belton SW Ward 3', '03744 Belton SW Ward 4', '03745 Belton SE Ward 4', '03747 Raymore Ward 1', '039Benton', '039Madison', '039Washington', '041Bee Branch', '041Brunswick', '041Chariton', '041Keytesville', '041Mendon', '041Salisbury No. 1', '041Salisbury No. 2', '041Wayland', '043Cassidy 1', '043East Finley', '043Lincoln', '043Lincoln 2', '043Mccracken', '043North Galloway', '043Polk', '043Rosedale 1B', '043Union Chapel 1', '043Union Chapel 2', '043West Benton/Linden', '043West Finley', '045Clay/Des Moines 1&2/Vernon', '045Jackson1&2/Jefferson/Madison/Union', '045Lincoln', '045Sweet Home/Grant', '045Wyaconda No. 1/Folker', '045Wyaconda No. 2/Washington', '047FR 1', '047FR 2', '047FR 3', '047FR 4', '047Gal 10', '047Gal 11', '047Gal 13', '047Gal 14', '047Gal 15', '047Gal 16', '047Gal 17', '047Gal 18', '047Gal 4', '047Gal 5', '047Gal 6', '047Gal 7', '047KC 21 Lib 1', '047KC 21 Lib 2', '047KC 21 Lib 3', '047KC 21 Lib 4', '047KC 21 Lib 5', '047KC 21 Lib 6', '047KC 21 Pl 1', '047KC 21-1', '047KC 21-10', '047KC 21-11', '047KC 21-12', '047KC 21-13', '047KC 21-14', '047KC 21-15', '047KC 21-16', '047KC 21-17', '047KC 21-18', '047KC 21-19', '047KC 21-2', '047KC 21-21', '047KC 21-23', '047KC 21-24', '047KC 21-25', '047KC 21-26', '047KC 21-27', '047KC 21-3', '047KC 21-5', '047KC 21-6', '047KC 21-7', '047KC 21-8', '047Kry 1', '047Kry 2', '047Kry 3', '047Kry 4', '047Lib 1', '047Lib 10', '047Lib 11', '047Lib 12', '047Lib 13', '047Lib 14', '047Lib 3', '047Lib 4', '047Lib 5', '047Lib 6', '047Lib 7', '047Lib 8', '047Pl 1', '047Pl 2', '047Pl 3', '047Wash 2', '049Concord - Concord', '049Hardin - Trimble', '049Jackson - Holt', '049Shoal - Cameron', '051Clark Township Eugene', '051JC-Ward 1 Precinct 1', '051JC-Ward 1 Precinct 2', '051JC-Ward 1 Precinct 3', '051JC-Ward 2 Precinct 2', '051JC-Ward 3 Precinct 2', '051JC-Ward 4 Precinct 1', '051JC-Ward 5 Precinct 2', '051Jefferson Township CC General', '051Liberty Township Taos', '051Marion Township Centertown', '051Moreau Township Lohman', '051Osage Township Wardsville', '053Boonville Ward 1', '053Boonville Ward 2', '053Boonville Ward 3', '053Boonville Ward 4', '053Pilot Grove', '053Prairie Home', '055Bourbon Community Center', '055Leasburg First Southern Baptist Church', '055Recklein Auditorium', '055Steelville Community Building', '057Polk/East Center/N. Ward City/Pilgrim & Rock Prairie', '057Polk/South & Smith R-4/Pilgrim & Rock Prairie', '057West Lockwood/W. Ward City/Marion', '059Benton North', '059Benton South', '059Grant', '059Jackson', '059Sheridan', '059Sherman/Miller', '059Washington', '061Altamont', '061Gallatin', '061Jameson', '063Grand River', '063Polk', '065Boss', '065R-1', '065R-2', '065R-4', '065Spring Creek East', '067Benton No. 1', '067Benton No. 2', '067Buchanan/Campbell/Washington', '067Clay/Champion/McMurtrey', '067Findley', '067Spencer/Lincoln', '069Campbell Ward 1/Campbell Ward 2 & Rural', '069Cardwell', '069Clarkton', '069Holcomb', '069Hornersville', '069Independence Rural', '069Kennett Ward 1', '069Kennett Ward 2', '069Kennett Ward 3', '069Kennett Ward 4', '069Kennett Ward 5', '069Malden Ward 1 & 2/Malden Ward 3 & Rural/Malden Ward 4', '069Senath', '071Beaufort-Lyon', '071Berger Ward 1/Berger Ward 2/Berger Out Of Town', '071Catawissa', '071Detmold/Jaegers Shop', '071Gray Summit', '071Krakow', '071Luebbering', '071Miramiguoa/Oak Grove/Sullivan Out Of Town', '071Pacific Out Of Town', '071Pacific Ward 2', '071Pacific Ward 3', '071Pea Ridge/Beaufort/Union', '071Prairie Dell', '071Robertsville', '071St Clair Out Of Town/Parkway Village/Dry Branch', '071St Clair Ward 1', '071Stanton/Charmwood/Dry Branch', '071Sullivan Ward 1', '071Union Ward 1', '071Union Ward 3', '071Union Ward 4', '071Washington Ward 1', '071Washington Ward 3', '073Canaan/Bland Ward Nos. 1 & 2', '073Hermann Ward No. 1', '073Hermann Ward No. 2', '073Owensville Ward No. 1', '073Owensville Ward No. 2', '073Rural Canaan', '073Swiss', '073Tayloe', '073Third Creek', '075Athens South/Athens North', '075Bogle/Gentry', '075Cooper East/Cooper West', '075Darlington', '075Miller/Berlin', '07711/1st Campbell', '07712A/12B', '07716A/16B/27A', '07716C', '0771A/1B/1C', '0771st Center', '0771st Franklin', '0771st Jackson', '0771st N Campbell', '0771st Robberson A/B', '0771st/2nd Boone', '07720A/20B', '07722A/22B', '07722C', '07726A/26B/26C', '07727B/27C', '07729A/29B/29C', '0772A/2B', '0772nd Campbell A/C', '0772nd Campbell B/CN', '0772nd Franklin', '0772nd Jackson', '0772nd N Campbell', '0772nd Robberson', '07730A/30B', '07731A/31B/31C', '07732A/32C/38A/38B', '07732B', '07733A/33B', '07734A', '07734B', '07734C', '07735A', '07735B', '07736A/3rd N Campbell B', '07737A/37B', '07737C', '07739A', '07739B', '07739C', '0773A', '0773B', '0773rd Center', '0773rd N Campbell A', '07740A/40B', '07741A/41B', '07742A', '07742B/42C', '07744A', '07744B/44C', '07745A', '0774A/4B', '0775A/6A', '0775B/6B', '0777A/7B', '0777C', '0779A/9B', '077Battlefield A', '077Battlefield B', '077Brookline', '077Cass', '077Cherokee', '077Clay B', '077Clay C', '077East Clay A', '077East Republic', '077Murray', '077North Republic', '077Pond Creek', '077Taylor', '077Walnut Grove', '077Washington', '077West Republic', '077Wilson C/CW', '079Madison/Taylor', '079Trenton Ward 1/Jefferson', '079Trenton Ward 2', '079Trenton Ward 4/Jackson', '079Washington/Franklin', '081Bethany', '081Cainsville', '081Gilman City', '081New Hampton', '081Ridgeway', '083Benson Center', '083Clinton 1', '083Urich', '083Windsor', '085Cross Timbers-Jordan', '085Elkton', '085Pleasant Ridge', '085Weaubleau', '085Wheatland', '087Central/West', '087Northeast', '087Southeast/Southwest', '089Bonne Femme', '089Boonslick', '089Burton/Prairie', '089Chariton', '089Franklin', '091Benton No. 1', '091Dry Creek', '091Goldsberry', '091Howell No. 1', '091Howell No. 2', '091Howell No. 3', '091Howell No. 4', '091Howell No. 6', '091Siloam Springs', '091South Fork', '093Annapolis', '093Arcadia', '093Des Arc', '093Ironton', '093Pilot Knob', '095Blue 01-01/01-02', '095Blue 01-04', '095Blue 01-05', '095Blue 02-03/02-04', '095Blue 03-03', '095Blue 03-08', '095Blue 04-02', '095Blue 04-03', '095Blue 04-05', '095Blue 04-06/04-07', '095Blue 04-10', '095Blue 05-01/05-02', '095Blue 05-06', '095Blue 06-06', '095Blue 07-01/07-02', '095Blue 08-02', '095Brooking No. 1', '095Brooking No. 11/15', '095Brooking No. 18', '095Brooking No. 3/4', '095Brooking No. 5/6/20', '095Brooking No. 7', '095Brooking No. 9', '095Fort Osage 07', '095Fort Osage 08', '095Prairie 03/04', '095Prairie 13/14', '095Prairie 23', '095Prairie 30/31', '095Prairie 41/42', '095Prairie 44', '095Prairie 47', '095Prairie 53/54', '095Sni-A-Bar 10/12', '095Sni-A-Bar 17', '095Sni-A-Bar 20', '095Sni-A-Bar 27', '095Sni-A-Bar 30', '095Sni-A-Bar 31', '095Sni-A-Bar 34/35/36', '095Sni-A-Bar 39', '095Sni-A-Bar 41', '095Van Buren 07/08/14', '095Van Buren 10/11/19', '095Washington 01', '095Washington 03/04', '095Washington 07', '097Alba/Neck City/Purcell', '097Carl Junction 1/Carl Junction 2', '097Carl Junction 3/Carl Junction 4', '097Carterville Wards 1-4', '097Carthage 1', '097Carthage 2', '097Carthage 3', '097Carthage 4', '097Carthage 5', '097Duenweg', '097Jackson West', '097Joplin 1/Joplin 8', '097Joplin 10/Joplin 11', '097Joplin 12/Joplin 14', '097Joplin 13', '097Joplin 15/Central City', '097Joplin 16/Joplin 18', '097Joplin 2/Joplin 3', '097Joplin 22/Joplin 24', '097Joplin 23', '097Joplin 25', '097Joplin 26', '097Joplin 4', '097Lincoln/Sheridan', '097Madison North', '097Madison South', '097Monitor', '097Oronogo 1', '097Pine/Prairie Star', '097Rex', '097Sarcoxie 1-2/La Russell', '097Tuckahoe', '097Webb City 2', '097Webb City 3', '097Webb City 4', '097Zincite', '099Antonia', '099Brennan', '099Byrnesville/Cedar Hill Lakes', '099Dulin Creek/Scotsdale', '099Flamm City', '099Goldman', '099Grubville', '099Herculaneum W 1-3', '099Hillsboro W 1-4', '099Hoene Springs', '099Jefferson Heights', '099Jefferson R7', '099Meramec Valley/Lake Tekakwitha', '099Oakvale', '099Otto', '099Pevely W 1-4', '099Plattin', '099Raintree', '099Saline', '099Springdale', '099Victoria', '099Vineland', '099Windsor/Kimmswick W 1-2', '101Chilhowee', '101NS Holden/Rose Hill/Kingsville', '101Pittsville', '101Post Oak/Jefferson', '101Warrensburg SE-1/Montserrat', '101Warrensburg SW/NW', '103Baring', '103Hurdland', '103Knox City', '105East Lebanon 2B', '105Spring Hollow 1 & 2', '105West Lebanon 1D/Eldridge/Friendship', '1071st/2nd/3rd Higginsville & W. Davis', '107Bates City', '107Concordia/Aullville', '107Lexington Wards No. 1 & 2', '107Wellington', '109Aurora North', '109Aurora Southeast', '109Aurora Southwest', '109Buck Prairie', '109Forest Park', '109Hoberg', '109Mt. Vernon North', '109Mt. Vernon Southeast', '109Spring River', '109Turnback', '111Ewing R-4 Fire Station', '111LaBelle Fire Station', '111LaGrange City Hall', '111Monticello Courthouse', '113Birkhead', '113Moscow Mills Rural', '115Benton North', '115Brookfield 1&2', '115Brookfield 3&4', '115Bucklin', '115Clay/Parsons Creek', '115Grantsville/Enterprise', '115Jackson', '115Jefferson', '115Locust Creek', '115Marceline', '115Yellow Creek', '117Chillicothe Ward No. 3', '117Chillicothe Ward No. 4', '117Cream Ridge/Medicine', '117Monroe/Blue Mound', '117Sampsel/Jackson', '117Wheeling', '119Anderson East', '119Center', '119Elkriver East', '119Mountain', '119Pineville North/South', '119Whiterock', '121Atlanta/Elmer', '121Bevier', '121LaPlata', '121Macon Ward 1', '121Macon Ward 3', '121New Cambria', '123Castor', '123Central', '123Fredericktown Ward 1', '123Fredericktown Ward 2', '123Fredericktown Ward 3', '123Marquand', '123St. Francis', '125Belle', '125Mason Ridge', '125Vienna', '127Fabius/Smileyville', '127Fifth Ward', '127First Ward First Precinct/First Ward Out Of City', '127Fourth Ward', '127Second Ward First Precinct', '127Third Ward', '127Warren/Monroe City', '129Medicine/Madison/Washington/Harrison', '129Morgan', '129Ravanna', '129Somerset/Marion/Lindley', '131Eldon City', '131Eldon North', '131Eldon South', '131Tuscumbia', '133Bertrand Ward 1/Ward 2/Rural', '133Charleston Ward 1A/Ward 1B/Ward 2', '133Charleston Ward 3/Ward 4', '133East Prairie Rural/Wolf Island/Dorena', '133East Prairie Ward 1/Ward 2/Ward 3', '135California No. 1', '135Harmony', '135Jamestown/Lupus', '135Latham', '135Tipton/Fortuna', '137Duncans Bridge 7 & 8/Madison 10 & 11', '137Granville 6/Paris 14 & 15', '137Monroe City 1 & 2 & 3/Indian Creek 4', '137North Fork 5/Florida 18/Stoutsville 19', '137Santa Fe 17', '139Bellflower', '139Big Spring/Americus', '139Jonesburg', '139Middletown', '139Montgomery', '139New Florence', '139Wellsville', '141Barnett I & II', '141Indian Creek', '141Stover North/Stover South', '141Versailles North Excelsior & Fairgrounds North', '141Versailles South Fairgrounds South', '141Webb', '143Big Prairie 4', '143New Madrid 1', '143New Madrid 2&4&5/Hough 1/St. John 1', '143Portage 1/Lesieur 1', '143West 1&2', '145Diamond', '145East Neosho', '145Fairview', '145Granby', '145Hornet', '145Neosho #1', '145Neosho #3', '145Neosho #4', '145Newtonia', '145Reding', '145Seneca', '145Stella', '145Thurman', '145West Neosho', '147Atchison', '147Green', '147Hopkins', '147Jackson', '147Jefferson', '147Monroe', '147Nodaway', '147Polk A', '147Polk B', '147Polk E', '147Washington', '147White Cloud', '149Big Apple', '149Cedar Bluff/Myrtle', '149Jeff/Couch', '149Moore & Blackpond', '149Thayer No. 2/Thayer No. 1', '151Belle', '151Chamois', '151Freedom/Hope/Cooper Hill', '151Koeltztown/Argyle', '151Linn 2 South (St. John)', '153Barren Fork', '153Bayou', '153Big Creek', '153Jackson', '153Lick Creek', '153Richland', '153Thornfield', '155Caruthersville 1/2', '155Caruthersville 3', '155Caruthersville 4', '155Cottonwood/McCarty', '155Deering/Braggadocio', '155Hayti 1/Hayti Heights 1/2/3', '155Hayti 2', '155Steele 1/2/Rural/Holland', '157Brewer', '157Frohna', '157P-1', '157P-2', '157P-3', '157P-4', '157P-5', '1593rd Ward', '1594th Ward', '159Bowling Green', '159Cedar', '159Hughesville', '159La Monte/Blackwater', '159Sedalia East', '161Cold Springs West', '161Dillon Central', '161Dillon North', '161Edgar Springs/Spring Creek', '161Miller/Rolla North', '161Newburg/Liberty', '161Rolla Ward No. 1', '161Rolla Ward No. 3', '161Rolla Ward No. 4', '161Rolla Ward No. 6', '163Ashley NO/Hartford PQ', '163Buffalo B', '163Buffalo C', '163Buffalo D', '163Buffalo E', '163Calumet F', '163Cuivre JL', '163Cuivre K', '165Barry East 34', '165Barry South 42', '165Camden Point 27', '165Edgerton 25/Ridgely 26', '165New Market 23/Dearborn 24', '165Northern Heights 35', '165Park Hill North 41', '165Platte City 14', '165Platte Woods 8/Park Hill 36', '165Riverside 1/Northmoor 3', '165Seven Bridges 44', '165Weatherby Lake 10', '165Weston 18/Weston 19/Lakeview 20/Pisgah 22/Dye 21/Iatan 39', '167E&W Madison/Campbell', '167East Looney', '167Jackson', '167Johnson/Flemington/Campbell/Jefferson', '167Mooney', '167N Greene/McKinley/Jefferson', '167N&S Benton/S Greene', '167Northeast Marion', '167Northwest Marion/Cliquot', '167Southeast Marion', '167Southwest Marion', '167West Looney/Wishart', '169Big Piney', '169Crocker', '169Laquey', '169Richland', '169St. Robert', '169Swedeborg', '171Elm', '171Grant', '171Liberty', '171Medicine', '171Union NE/Sherman/Richland', '171Wilson/Union SW/Jackson', '173Center', '173New London', '173Oakwood', '173Perry', '175Higbee/Yates', '175Jacksonville/Levicks Mill/Cairo', '175Moberly Ward 1-1/Moberly Ward 1-2', '175Moberly Ward 2-1/Moberly Ward 3-1', '175Moberly Ward 2-2/Moberly Ward 2-3', '175Moberly Ward 3-2/Moberly Ward 3-3', '175Moberly Ward 4-2/Moberly Ward 4-1', '175North Sugar Creek/Union', '177Camden', '177Hardin', '177Knoxville', '177Lawson', '177Orrick', '179Bluffview', '179Bunker', '179Centerville', '179Ellington No. 1', '179Ellington No. 2', '179Redford', '181Flatwoods/Johnson P2/Washington', '181Gatewood/Union', '181Harris/Varner P1', '181Jordan/Johnson P1', '181Poynor/Current River/West Doniphan/Doniphan P1/Doniphan P2', '183Amber Meadows', '183Arlington', '183Briarhill', '183Canary', '183Cedar', '183Country Hill', '183Edgewood', '183Fairways', '183Fox', '183Graybridge', '183Hi Point', '183Hopewell', '183Katy Trail', '183Lakes', '183Marina', '183McNair', '183Meadow Valley', '183Mid Rivers', '183Montclair', '183New Melle', '183Pioneer', '183Pitman', '183Ridgepoint', '183Shadow Creek', '183Sibley', '183Spencer', '183Summerset', '183Sun Lake', '183Twin Chimneys', '183Twin Oaks', '183Washington', '183Weldon Spring', '183Windcastle', '183Woodcliff', '185Butler', '185Center/Roscoe', '185Collins/Washington', '185Osceola/Polk', '185Speedwell/Taber', '186Bloomsdale', '186Chestnut Ridge', '186Kinsey', '186New Offenburg', '186Ozora', '186Ste. Genevieve 5', '186Ste. Genevieve South', '186Zell', '187Bismarck', '187Desloge No. 1', '187Farmington No. 2', '187Knob Lick', '187Leadwood', '187Libertyville', '187Park Hills No. 3', '187Patterson', '187Terre Du Lac', '189BON005/BON024/BON036', '189CLA003/CLA011/CLA048', '189FER037/FER040', '189HAD001', '189JEF014', '189LC017/LC022', '189MER007/MER009/MER013/MER014/MER016/MER018/MER019/MER020/MER039', '189MHT010/MHT011/MHT021/MHT022/MHT025/MHT031/MHT033/MHT040/MHT044', '189NW041/NW048', '189OAK007/OAK021', '189OAK015', '189SPL015/SPL021/SPL022', '189WH009', '189WH034/WH043', '195Blackburn', '195Malta Bend', '195Marshall 2', '195Marshall 4', '195Miami', '197Coffey/Downing', '197East Prairie/West Prairie', '197Greentop', '199East Jeff/Tobin', '199Harrison', '199Thomson/Arbela', '199Thomson/Granger', '199West Jeff/Union/Miller/Vest', '201Benton', '201Chaffee', '201Scott City', '201Sikeston Ward 1/Rural', '201Sikeston Ward 4', '203Montier I & II', '203Spring Creek/Birch Tree/Bartlett', '203Spring Valley', '203Winona', '205Salt River/Lentner', '207Advance City', '207Bloomfield Rural', '207Bloomfield Ward No. 1/2', '207Dexter Rural', '207Dexter Ward No. 1', '207Dexter Ward No. 3', '207Gray Ridge', '209Pine A', '209Ponce de Leon', '209Ruth A', '209Ruth B', '209Ruth B Rural', '209Ruth C', '209Ruth C Rural', '209Sunset Cove', '209Washington', '209Williams', '211Browning', '211Green City/Pennville', '211Osgood', '211South Polk/Reger/Pleasant Hill', '211Taylor/Humphreys', '211West Polk/Asbury', '211Winigan', '213Boston Center', '213Branson 1', '213Branson 2', '213Forsyth 2', '213Hollister 2', '213Hollister 3', '213Kirbyville', '213Kissee Mills', '213Mark Twain', '213Merriam Woods', '213Rockaway Beach', '213Walnut Shade', '215Boone/Lynch II/Sherrill', '215Carroll/Current/Date', '215Cass I/Burdine/Sargent', '215Morris/Upton II', '215Piney/Cass II', '2171st Baptist Church', '217Courthouse', '217Deerfield Baptist Church', '217Harwood Town Hall', '217Milo Fire Barn', '217Moundville Community Building', '217National Guard Armory', '217Schell City City Hall', '217Sheldon Community Building', '217United Methodist Church', '217Virgil', '219Hickory Grove North', '219Hickory Grove South', '219Innsbrook', '219Pendleton', '219South Elkhorn/Macedonia', '219Warrenton Ward 2', '219Wright City Ward 1', '219Wright City Ward 2', '221Algire', '221Courthouse', '221Cruise', '221Richwoods', '221Stony Point', '223Cascade/Clubb', '223Coldwater/Greenville/Silva', '223Cool Springs/Chaonia', '223Mill Spring', '223Patterson/Brunot/Smith Mill', '223Williamsville', '225Diggins', '225Finley/Hazelwood', '225Fordland', '225Marshfield West', '225Washington/Grant', '227East Fletchall', '227West Fletchall', '227West Union', '229Fairview', '229Mansfield', '229Mountain Grove North', '229Mountain Grove South']\n"
     ]
    }
   ],
   "source": [
    "col_list = [\"G18USSDMCC\",\"G18USSIODE\",\"G18AUDGFIT\",\"G18AUDCLUE\",\"G18USSLCAM\",\"G18USSGCRA\",\"G18USSRHAW\",\"G18AUDDGAL\",\"G18AUDRMCD\",\"G18AUDLOTO\"]\n",
    "validater_row(final_join[final_join[\"_merge\"]==\"both\"],col_list)\n"
   ]
  },
  {
   "cell_type": "code",
   "execution_count": 16,
   "metadata": {},
   "outputs": [
    {
     "name": "stdout",
     "output_type": "stream",
     "text": [
      "There are  3242  total rows\n",
      "1067 of these rows have election result differences\n",
      "2175 of these rows are the same\n",
      "['043West Finley' '165Barry East 34' '123Marquand' ...\n",
      " '175Jacksonville/Levicks Mill/Cairo' '147Green' '147Nodaway']\n",
      "\n"
     ]
    }
   ],
   "source": [
    "\n",
    "def validater_row_vect(df, county_column, join_column, column_List):\n",
    "    matching_rows = 0\n",
    "    different_rows = 0\n",
    "    \n",
    "    county_join_cols = (df[join_column].astype('str')).to_numpy()\n",
    "    \n",
    "    # it's because before, we were checking that a row was entirely consistent\n",
    "    # here, we are double checking a lot\n",
    "    # so, let's just keep one track of the rows that are messed up\n",
    "    \n",
    "    wrong_idxs = np.zeros(len(df))\n",
    "    for i in column_List:\n",
    "        left_data = df[i + \"_x\"].to_numpy()\n",
    "        right_data = df[i + \"_y\"].to_numpy()\n",
    "        \n",
    "        local_idxs = np.where(left_data != right_data)\n",
    "        wrong_idxs[local_idxs] = 1\n",
    "        #print(\"Wrong idxs\", wrong_idxs)\n",
    "        \n",
    "    # we are close, we get the same result, but are double adding lots of rows\n",
    "    different_rows += np.sum(wrong_idxs)\n",
    "    matching_rows += len(df) - different_rows\n",
    "    \n",
    "    diff_list = county_join_cols[np.where(wrong_idxs == 1)]\n",
    "            \n",
    "    print(\"There are \", len(df.index),\" total rows\")\n",
    "    print(f\"{int(different_rows)} of these rows have election result differences\")\n",
    "    print(f\"{int(matching_rows)} of these rows are the same\")\n",
    "    print(diff_list)\n",
    "    print(\"\")\n",
    "\n",
    "    \n",
    "\n",
    "col_list = [\"G18USSDMCC\",\"G18USSIODE\",\"G18AUDGFIT\",\"G18AUDCLUE\",\"G18USSLCAM\",\"G18USSGCRA\",\"G18USSRHAW\",\"G18AUDDGAL\",\"G18AUDRMCD\",\"G18AUDLOTO\"]\n",
    "validater_row_vect(final_join[final_join[\"_merge\"]==\"both\"],\"unique_ID\",\"unique_ID\",col_list)"
   ]
  },
  {
   "cell_type": "markdown",
   "metadata": {},
   "source": [
    "## Precinct Shapefile Sources"
   ]
  },
  {
   "cell_type": "markdown",
   "metadata": {},
   "source": [
    "The documentation mentions 4 different sources for shapefiles:\n",
    "\n",
    "1. Precinct shapefiles primarily from the U.S. Census Bureau's 2020 Redistricting Data Program Phase 2 release.  \n",
    "2. Monroe County comes from the 2010 Census VTD release.  \n",
    "3. Platte County comes from the 2020 Census VTD release.  \n",
    "4. The following counties instead used maps or shapefiles sourced from the respective county governments: Audrain, Bates, Caldwell, Callaway, Camden, Cape Girardeau, Cedar, Cooper, Franklin, Greene, Jackson, Jasper, Jefferson, Laclede, Lafayette, Lawrence, Marion, McDonald, Miller, Nodaway, Osage, Ozark, Pemiscot, Pike, Randolph, Scott, Ste. Genevieve, Texas, Warren, Washington, Worth, Wright.  "
   ]
  },
  {
   "cell_type": "markdown",
   "metadata": {},
   "source": [
    "### 1. U.S. Census Bureau's 2020 Redistricting Data Program Phase 2 release\n",
    "> Precinct shapefiles primarily from the U.S. Census Bureau's 2020 Redistricting Data Program Phase 2 release.\n",
    "\n",
    "https://www.census.gov/geo/partnerships/pvs/partnership19v2/st29_mo.html"
   ]
  },
  {
   "cell_type": "code",
   "execution_count": 17,
   "metadata": {},
   "outputs": [
    {
     "name": "stdout",
     "output_type": "stream",
     "text": [
      "(4607, 16)\n"
     ]
    }
   ],
   "source": [
    "#When downloading from the Census redistricing data program, these use a FIPS code to identify counties\n",
    "\n",
    "fips_file[\"unique_ID\"] =  \"29\" + fips_file[\"FIPS County\"]\n",
    "fips_codes = fips_file[\"unique_ID\"].tolist()\n",
    "\n",
    "#Combine all the data from separate files into one\n",
    "li = []\n",
    "for i in fips_codes:\n",
    "    ref = \"./raw-from-source/Census/2020_Phase_2/partnership_shapefiles_19v2_\"\n",
    "    file_ref = ref+i+\"/PVS_19_v2_vtd_\"+i+\".shp\"\n",
    "    file_prev = gp.read_file(file_ref)\n",
    "    #print(file_prev.shape)\n",
    "    li.append(file_prev)\n",
    "shapefiles_census = pd.concat(li, axis=0, ignore_index=True)\n",
    "print(shapefiles_census.shape)"
   ]
  },
  {
   "cell_type": "code",
   "execution_count": 18,
   "metadata": {},
   "outputs": [
    {
     "name": "stdout",
     "output_type": "stream",
     "text": [
      "34\n",
      "['007', '013', '025', '027', '029', '031', '039', '053', '071', '077', '095', '097', '099', '105', '107', '109', '119', '127', '131', '137', '147', '151', '153', '155', '163', '165', '175', '186', '201', '215', '219', '221', '227', '229']\n"
     ]
    }
   ],
   "source": [
    "#print(shapefiles_census.head())\n",
    "county_list = [\"Audrain\", \"Bates\",\"Caldwell\",\"Callaway\",\"Camden\",\"Cape Girardeau\",\"Cedar\",\"Cooper\",\"Franklin\",\"Greene\",\"Jackson\",\"Jasper\",\"Jefferson\", \n",
    "               \"Laclede\", \"Lafayette\",\"Lawrence\", \"Marion\", \"Mcdonald\",\"Miller\",\"Monroe\",\"Nodaway\",\n",
    "               \"Osage\", \"Ozark\", \"Pemiscot\",\"Platte\", \"Pike\", \"Randolph\", \"Scott\",\"Ste Genevieve\", \"Texas\", \"Warren\", \"Washington\", \"Worth\", \"Wright\"]\n",
    "print(len(county_list))\n",
    "fips_to_take = fips_file[fips_file[\"County Name\"].isin(county_list)]\n",
    "different_source = fips_to_take[\"FIPS County\"].tolist()\n",
    "print(different_source)\n",
    "\n",
    "shapefiles_census = shapefiles_census[~shapefiles_census[\"COUNTYFP\"].isin(different_source)]"
   ]
  },
  {
   "cell_type": "code",
   "execution_count": 38,
   "metadata": {},
   "outputs": [
    {
     "name": "stdout",
     "output_type": "stream",
     "text": [
      "(3243, 13)\n",
      "(2259, 13)\n"
     ]
    }
   ],
   "source": [
    "#Filter down election results to just these counties\n",
    "print(joined.shape)\n",
    "elections_census_shapes = joined[~joined[\"COUNTYFP\"].isin(different_source)]\n",
    "print(elections_census_shapes.shape)\n",
    "\n",
    "#Create a unique ID\n",
    "shapefiles_census[\"unique_ID\"] = shapefiles_census[\"COUNTYFP\"]+shapefiles_census[\"NAME\"]\n",
    "shapefiles_census[\"unique_ID\"] = shapefiles_census[\"unique_ID\"].apply(lambda x: x.title() if (x[0:3]!=\"189\" and x[0:3]!=\"510\" and x[0:3]!=\"047\" and x[0:3]!=\"159\" and x[0:3]!=\"051\" and x[0:3]!=\"217\" and x[0:3]!=\"183\" ) else x)\n",
    "\n"
   ]
  },
  {
   "cell_type": "code",
   "execution_count": 39,
   "metadata": {},
   "outputs": [
    {
     "name": "stdout",
     "output_type": "stream",
     "text": [
      "both          1655\n",
      "right_only    1497\n",
      "left_only      604\n",
      "Name: _merge, dtype: int64\n"
     ]
    }
   ],
   "source": [
    "census_name_changes_dict = {\"003John Glenn A\":\"003John Glenn\",\"009Capps Creek\":\"009Monett/Capps Creek\",\n",
    " \"017Drum-Dongola\":\"017Drum Dungola\",\n",
    " \"021Bible Baptist Temple\":\"021Riverside Baptist Church\",\n",
    "'037No. 1 - Sherman':'03701 Sherman',\n",
    "'037No. 7 - Coldwater':'03707 Drexel',\n",
    "'037No. 10 - Grand River':'03710 Grand River Rural',\n",
    "'037No. 11 - Grand River, Ward 1':'03711 Harrisonville Ward 1',\n",
    "'037No. 12 - Grand River, Ward 2':'03712 Harrisonville Ward 2',\n",
    "'037No. 13 - Grand River, Ward 3':'03713 Harrisonville Ward 3',\n",
    "'037No. 14 - Grand River, Ward 4':'03714 Harrisonville Ward 4',\n",
    "'037No. 19 - Polk':'03719 Polk',\n",
    "'037No. 20 - Pleasant Hill':'03720 Pleasant Hill',\n",
    "'037No. 21 - Pleasant Hill':'03721 Pleasant Hill East',\n",
    "'037No. 22 - Pleasant Hill':'03722 Pleasant Hill',\n",
    "'037No. 23 - Pleasant Hill':'03723 Pleasant Hill Rural',\n",
    "'037No. 24 - Peculiar':'03724 Peculiar Rural',\n",
    "'037No. 25 - West Peculiar':'03725 West Peculiar Rural',\n",
    "'037No. 26 - West Peculiar':'03726 West Peculiar City',\n",
    "'037No. 27 - Union':'03727 Union',\n",
    "'037No. 28 - Big Creek':'03728 Big Creek Rural',\n",
    "'037No. 29 - Big Creek':'03729 Winnebago',\n",
    "'037No. 30 - Raymore':'03730 Raymore Rural',\n",
    "'037No. 31 - Raymore, Ward 3':'03731 Raymore Ward 3',\n",
    "'037No. 32 - Raymore, Ward 2':'03732 Raymore Ward 2',\n",
    "'037No. 33 - Raymore, Ward 2':'03733 Raymore Ward 2',\n",
    "'037No. 34 - Raymore, Wards 3 & 4':'03734 Raymore Wards 3 & 4',\n",
    "'037No. 35 - Raymore, Ward 4':'03735 Raymore Ward 4',\n",
    "'037No. 36 - Kansas City':'03736 Mt Pleasant Rural',\n",
    "'037No. 37 - Mt Pleasant':'03737 Pleasant Prairie',\n",
    "'037No. 38 - Mt Pleasant, NE Ward 1':'03738 Belton NE Ward 1',\n",
    "'037No. 39 - Mt Pleasant, NE Ward 1':'03739 Belton NE Ward 1',\n",
    "'037No. 40 - Mt Pleasant, NW Ward 2':'03740 Belton NW Ward 2',\n",
    "'037No. 41 - Mt Pleasant, NW Ward 2':'03741 Belton NW Ward 2',\n",
    "'037No. 42 - Mt Pleasant, SW Ward 3':'03742 Belton SW Ward 3',\n",
    "'037No. 43 - Mt Pleasant, SW Ward 3':'03743 Belton SW Ward 3',\n",
    "'037No. 44 - Mt Pleasant, SW Ward 4':'03744 Belton SW Ward 4',\n",
    "'037No. 45 - Mt Pleasant, SE Ward 4':'03745 Belton SE Ward 4',\n",
    "'037No. 46 - Mt Pleasant':'03746 East Creek',\n",
    "'037No. 47 - Raymore, Ward 1':'03747 Raymore Ward 1',\n",
    "'145Neosho No. 3':'145Neosho #3',\n",
    " \"043Cassidy\":\"043Cassidy 1\",\"510ST 1-4\":\"510STL 1-4\",\n",
    "'181Flatwoods & Johnson P2 & Washington':'181Flatwoods/Johnson P2/Washington',\n",
    "'181Gatewood & Union':'181Gatewood/Union',\n",
    "'181Harris & Varner P1':'181Harris/Varner P1',\n",
    "'181Shirley & Kelly & Pine':'181Shirley/Kelly/Pine',\n",
    "'181Thomas & Varner P2':'181Thomas/Varner P2'}\n",
    "\n",
    "shapefiles_census[\"unique_ID\"] = shapefiles_census[\"unique_ID\"].map(census_name_changes_dict).fillna(shapefiles_census[\"unique_ID\"])\n",
    "\n",
    "#Attempt to join on the \"unique_ID\" column\n",
    "census_join = pd.merge(elections_census_shapes,shapefiles_census,how=\"outer\",on=\"unique_ID\",indicator=True)\n",
    "print(census_join[\"_merge\"].value_counts())\n",
    "census_join[census_join[\"_merge\"]==\"left_only\"].to_csv(\"./census_join/election.csv\")\n",
    "census_join[census_join[\"_merge\"]==\"right_only\"].to_csv(\"./census_join/shapes.csv\")"
   ]
  },
  {
   "cell_type": "code",
   "execution_count": null,
   "metadata": {},
   "outputs": [],
   "source": [
    "print(shapefiles_census[shapefiles_census[\"COUNTYFP\"].str[0:3]==\"009\"][\"unique_ID\"])\n",
    "print(elections_census_shapes[elections_census_shapes[\"unique_ID\"].str[0:3]==\"009\"][\"unique_ID\"])"
   ]
  },
  {
   "cell_type": "code",
   "execution_count": null,
   "metadata": {},
   "outputs": [],
   "source": [
    "#Counties to deal with manually\n",
    "\n",
    "#003\n",
    "#009\n",
    "#015\n",
    "#017\n",
    "#019\n",
    "#035\n",
    "#043\n",
    "#143, split \n",
    "#189\n",
    "#197\n",
    "\n",
    "#Can't deal with\n",
    "#011\n",
    "\n",
    "{'03716 East Lynne/18 Gunn City':[\"037No. 16 - Camp Branch\",\"037No. 18 - Index\"],\n",
    "'03702 Dayton/03 Garden City/15 Camp Branch/17 Index':['037No. 2 - Dayton','037No. 3 - Garden City','037No. 15 - Camp Branch','037No. 17 - Index'],\n",
    "'03704 Austin/05 Archie/06 Everett':[\"037No. 4 - Austin\",\"037No. 5 - Austin\",\"037No. 6 - Everett\"],\n",
    "'03708 West Dolan/09 Dolan':[\"037No. 8 - West Dolan\",\"037No. 9 - Dolan\"],\n",
    "'1591st Ward':['1591st Ward 1st Precinct','1591st Ward 2nd Precinct','1591st Ward 3rd Precinct'],\n",
    "'1592nd Ward':['1592nd Ward 3rd Precinct','1592nd Ward 1st Precinct','1592nd Ward 2nd Precinct'],\n",
    "'1593rd Ward':['1593rd Ward 1st Precinct','1593rd Ward 2nd Precinct','1593rd Ward 3rd Precinct'],\n",
    "'1594th Ward':['1594th Ward 1st Precinct','1594th Ward 2nd Precinct','1594th Ward 3rd Precinct'],\n",
    "'159Smithton W BP/Smithton E & W/Lake Creek':['159Smithton E & W/Lake Creek','159Smithton W BP' ],\n",
    "'181Poynor/Current River/West Doniphan/Doniphan P1/Doniphan P2':['181Doniphan P1 & Doniphan P2','181Poynor & Current River & West Doniphan'],\n",
    "'185Appleton':['185Appleton No. 1','185Appleton No. 2'],\n",
    "'185Butler':['185Butler East','185Butler West'],\n",
    "'185Collins/Washington':['185Collins','185Washington'],\n",
    "'185Dallas/Doyal':['185Dallas','185Doyal'],\n",
    "'185Monegaw/Osage':['185Monegaw','185Osage'],\n",
    "'185Osceola/Polk':['185Osceola East','185Osceola West','185Polk'],\n",
    "'185Center/Roscoe':[ '185Center','185Roscoe'],\n",
    "'185Speedwell/Taber':['185Speedwell','185Taber'],\n",
    "'187Farmington No. 4/Busiek':['187Busiek','187Farmington No. 4'],\n",
    "'197Coffey/Downing':['197Coffey','197Downing'],\n",
    "'197North Liberty/Coatsville/Glenwood/South Liberty':['197Coatsville','197Glenwood','197North Liberty','197South Liberty'],\n",
    "'197East Prairie/West Prairie':['197East Prairie','197West Prairie'],\n",
    "'203Spring Creek/Birch Tree/Bartlett':['203Spring Creek','203Bartlett','203Birch Tree'],\n",
    "'203Eminence/Delaware':['203Delaware','203Eminence'],\n",
    "'205BETHEL/TIGER FORK':['205Bethel/Tiger Fork',],\n",
    "'207Bloomfield Ward No. 1/2':['207Bloomfield Ward No. 2','207Bloomfield Ward No. 1'],\n",
    "'211Green City/Pennville':['211Green City','211Pennville'],\n",
    "'211Taylor/Humphreys':['211Taylor','211Humphreys'],\n",
    "'211Pollock/Boynton':['211Boynton','211Pollock'],\n",
    "'211South Polk/Reger/Pleasant Hill':['211Reger','211South Polk','211Pleasant Hill'],\n",
    "'211West Polk/Asbury':['211West Polk','211Asbury'],\n",
    "\"223Peach Tree/Piedmont Ward 1/Ward 2\":['223Peach Tree','223Piedmont Ward No. 1','223Piedmont Ward No. 2'],\n",
    "\"223Wappapello/McGee/Shook\":['223Wappapello','223McGee','223Shook'],\n",
    "\"223Coldwater/Greenville/Silva\":['223Coldwater','223Greenville','223Silva'],\n",
    "\"223Cool Springs/Chaonia\":['223Chaonia','223Cool Springs'],\n",
    "\"223Lowndes/Hiram\":['223Lowndes','223Hiram'],\n",
    "\"223Patterson/Brunot/Smith Mill\":['223Patterson','223Smith Mill','223Brunot'],\n",
    "\"223Cascade/Clubb\":['223Clubb','223Cascade'],\n",
    "\"225East Ozark/Northview A\":[\"225Northview A\",\"225East Ozark\"],\n",
    "\"225Finley/Hazelwood\":[\"225Finley\",\"225Hazelwood\"],\n",
    "\"225Niangua/Union\":[\"225Niangua\",\"225Union\"],\n",
    "\"225Washington/Grant\":[\"225Washington\",\"225Grant\"]}"
   ]
  },
  {
   "cell_type": "code",
   "execution_count": null,
   "metadata": {},
   "outputs": [],
   "source": [
    "txt = \"0191F/1J/1L\"\n",
    "txt.split(\"/\")"
   ]
  },
  {
   "cell_type": "markdown",
   "metadata": {},
   "source": [
    "Missouri\n",
    "--------\n",
    "\n",
    "Precinct mergers were made in the following counties to match county reporting units: \n",
    "- Andrew: Precinct mergers to match county reporting units\n",
    "- Barry: Precinct mergers to match county reporting units\n",
    "- Barry: Add Monett City; Align Cassville with corporate boundary\n",
    "- Barton: Adjust Lamar ward boundaries to match city map\n",
    "- Benton: Precinct mergers to match county reporting units\n",
    "- Bollinger: Precinct mergers to match county reporting units\n",
    "- Bollinger: Adjust Patton/Sedgewickville to match county GIS\n",
    "- Butler: Align Poplar Bluff with corporate boundary and adjust wards to match city map\n",
    "- Boone: Precinct mergers to match county reporting units\n",
    "- Carroll: Precinct mergers to match county reporting units\n",
    "- Carroll: Adjust Carrollton City wards to match voter file\n",
    "- Carter: Precinct mergers to match county reporting units\n",
    "- Cass: Precinct mergers to match county reporting units\n",
    "- Cass: Align Belton, Pleasant Hill, Raymore precincts with corporate boundaries; Adjust 37 Pleasant Prairie/25 West Peculiar Rural\n",
    "- Chariton: Adjust Salisbury wards to match city map\n",
    "- Christian: Revise Cassidy 1/Cassidy 2; Reverse Nixa City annexation into Rosedale 1B\n",
    "- Christian: Precinct mergers to match county reporting units\n",
    "- Clark: Precinct mergers to match county reporting units\n",
    "- Clay: Adjust Excelsior Springs, Kearney, Smithville precincts to match 2018 ward and corporate boundaries; Adjust KC 21-1/15, 21-1/17, 21-3/11, 21-4/6, 21-4/11, 21-5/7/24, 21-6/24, 21-7/20, 21-13/26, 21-14/23, 21-17/16, 21-17/26, 21-17/Platte 1, Gallatin 7/16, 10/13, 10/16, 11/15, 13/15, Kearney 3/Platte 2, Liberty 1/10, 6/13, 7/11, 11/14, Washington 1/3 to match voter file\n",
    "- Clinton: Align Atchison/Concord, Jackson/Lathrop with 2018 precinct split assignments\n",
    "- Cole: Precinct mergers to match county reporting units\n",
    "- Cole: Adjust Marion Twp St Martins to include St Martins city in Jefferson Twp\n",
    "- Crawford: Move Benton Twp section of Leasburg precinct from Recklein to Leasburg\n",
    "- Crawford: Precinct mergers to match county reporting units\n",
    "- Dade: Realign Greenfield wards to match municipal code\n",
    "- Dallas: Split N Benton Inside/OCL, S Benton Inside/OCL; Align N/S Benton with Buffalo ward map\n",
    "- Dallas: Precinct mergers to match county reporting units\n",
    "- Dekalb: Precinct mergers to match county reporting units\n",
    "- Dent: Split Boss precinct from R-4 precinct; Adjust R-2/R-3 boundary\n",
    "- Douglas: Precinct mergers to match county reporting units\n",
    "- Dunklin: Precinct mergers to match county reporting units\n",
    "- Dunklin: Align Holcomb, Rives with township boundaries; Adjust Arbyrd/Senath; Align Kennett wards with city map\n",
    "- Gasconade: Align Hermann, Owensville, Rosebud with corporate boundaries and ward descriptions\n",
    "- Gentry: Precinct mergers to match county reporting units\n",
    "- Grundy: Precinct mergers to match county reporting units\n",
    "- Holt: Precinct mergers to match county reporting units\n",
    "- Holt: Split West between Central/Northwest by school district\n",
    "- Howard: Precinct mergers to match county reporting units\n",
    "- Howell: Precinct mergers to match county reporting units\n",
    "- Howell: Align West Plains precincts with 2018 corporate boundary\n",
    "- Iron: Adjust Annapolis/Des Arc/Vulcan, Ironton/Pilot Knob\n",
    "- Johnson: Adjust Warrensburg NE/NW boundary to match county maps\n",
    "- Johnson: Precinct mergers to match county reporting units\n",
    "- Lewis: Split LaBelle Twp between LaBelle FS/Lewistown FS with PLSS grid\n",
    "- Lincoln: Align Moscow Mills, Troy with 2018 corporate boundaries; Adjust Briscoe/Troy Rural\n",
    "- Linn: Precinct mergers to match county reporting units\n",
    "- Linn: Split Brookfield Township between Brookfield 1&2/3&4\n",
    "- Livingston: Align Chillicothe with 2018 corporate boundaries\n",
    "- Livingston: Precinct mergers to match county reporting units\n",
    "- Macon: Align Macon City wards with corporate boundaries\n",
    "- Madison: Align Fredericktown wards with corporate boundaries\n",
    "- Mercer: Precinct mergers to match county reporting units\n",
    "- Mississippi: Precinct mergers to match county reporting units\n",
    "- Mississippi: Adjust Bertrand/East Prairie Rural; Align East Prairie City with corporate boundary\n",
    "- Moniteau: Precinct mergers to match county reporting units\n",
    "- Montgomery: Align Bellflower/Middletown, Big Spring/Rhineland with voter file\n",
    "- Morgan: Adjust Versaille North/South boundary to match county GIS\n",
    "- Morgan: Precinct mergers to match county reporting units\n",
    "- New Madrid: Precinct mergers to match county reporting units\n",
    "- New Madrid: Add New Madrid City wards; Add Big Prairie 4 precinct; Move Portageville Ward 1 to Portage 1\n",
    "- Newton: Align Staples precincts with Joplin City GIS boundaries; Align Neosho precincts with Neosho City GIS boundaries; Adjust Newtonia/Ritchey Wentworth\n",
    "- Oregon: Precinct mergers to match county reporting units\n",
    "- Pettis: Precinct mergers to match county reporting units\n",
    "- Pettis: Adjust Sedalia City wards to match city map\n",
    "- Phelps: Align St. James ward boundaries with city map\n",
    "- Phelps: Precinct mergers to match county reporting units\n",
    "- Polk: Precinct mergers to match county reporting units\n",
    "- Polk: Split Campbell/Jefferson precincts by school district\n",
    "- Putnam: Split Union Twp into NE/SW precincts to match county map\n",
    "- Putnam: Precinct mergers to match county reporting units\n",
    "- Pulaski: Adjust Big Piney/St. Roberts, Laquey/Waynesville\n",
    "- Ralls: Precinct mergers to match county reporting units\n",
    "- Ralls: Replace Center/Liberty precincts with 2010 VTDs\n",
    "- Ray: Adjust Richmond City wards, Homestead Village/Wood Heights/Lawson, Richmond/Orrick\n",
    "- Ray: Precinct mergers to match county reporting units\n",
    "- Reynolds: Realign precincts countywide to match voter file\n",
    "- Ripley: Precinct mergers to match county reporting units\n",
    "- Saline: Split Nelson precinct from Hardeman precinct; Adjust Marshall Ward 2/3 boundary\n",
    "- St. Charles: Adjust Brian/Ridgepoint, Civic/St. Paul, Harvester/Sycamore, Mamelle/Marina\n",
    "- St. Clair: Precinct mergers to match county reporting units\n",
    "- St. Francois: Precinct mergers to match county reporting units\n",
    "- St. Francois: Align Desloge, Farmington, Park Hills with corporate boundaries and city ward maps; Adjust Bonne Terre/Timberline, Patterson/Timberline, Leadwood/Park Hills to match voter file\n",
    "- St. Louis: Precinct mergers to match county reporting units\n",
    "- St. Louis: Add UNV044 precinct; Split NRW011/NRW052\n",
    "- Schuyler: Precinct mergers to match county reporting units\n",
    "- Shannon: Precinct mergers to match county reporting units\n",
    "- Shannon: Align all precincts with county GIS and voter file\n",
    "- Shelby: Precinct mergers to match county reporting units\n",
    "- Shelby: Adjust Jackson/North River to match voter file\n",
    "- Stoddard: Precinct mergers to match county reporting units\n",
    "- Stoddard: Align Advance, Bernie, Bloomfield, Dexter, Puxico with corporate boundaries; Adjust Advance/Leora, Bernie/Dexter/Pyle, Bloomfield/Gray Ridge\n",
    "- Stone: Move Branson West from Ruth A to Ruth C; Split Ruth C Rural/Sunset Cove; Adjust Ruth B City/Rural to match county GIS\n",
    "- Sullivan: Precinct mergers to match county reporting units\n",
    "- Taney: Adjust Boston Center/Walnut Shade; Align Branson wards with 2018 corporate boundary\n",
    "- Vernon: Align Bronaugh/Moundville, Harwood/Schell City, Deerfield/NG Armory with voter file\n",
    "- Wayne: Precinct mergers to match county reporting units\n",
    "- Webster: Precinct mergers to match county reporting units\n",
    "\n",
    "\n",
    "\n"
   ]
  },
  {
   "cell_type": "markdown",
   "metadata": {},
   "source": [
    "### 2. 2010 Census VTD release\n",
    ">Monroe County comes from the 2010 Census VTD release.\n",
    "\n",
    "https://www.census.gov/cgi-bin/geo/shapefiles/index.php?year=2010&layergroup=Voting+Districts"
   ]
  },
  {
   "cell_type": "code",
   "execution_count": null,
   "metadata": {},
   "outputs": [],
   "source": [
    "monroe_shape = gp.read_file(\"./raw-from-source/Census/2010_VTD/tl_2010_29137_vtd10/tl_2010_29137_vtd10.shp\")"
   ]
  },
  {
   "cell_type": "markdown",
   "metadata": {},
   "source": [
    "### 3. 2020 Census VTD release\n",
    ">Platte County comes from the 2020 Census VTD release.\n",
    "\n",
    "https://www.census.gov/geographies/mapping-files/time-series/geo/tiger-line-file.2020.html"
   ]
  },
  {
   "cell_type": "code",
   "execution_count": null,
   "metadata": {},
   "outputs": [],
   "source": [
    "platte_shape = gp.read_file(\"./raw-from-source/Census/2020_VTD/tl_2020_29_all/tl_2020_29165_vtd20.shp\")\n",
    "platte_shape.plot()"
   ]
  },
  {
   "cell_type": "markdown",
   "metadata": {},
   "source": [
    "- Platte: Precinct mergers to match county reporting units\n",
    "- Platte: Align Lake Waukomis, Parkville, Platte City, Riverside/Northmore, Weatherby Lake with corporate boundaries; Adjust Platte Hills/Park Hill, Seven Bridges/Shiloh"
   ]
  },
  {
   "cell_type": "markdown",
   "metadata": {},
   "source": [
    "### 4. Counties themselves\n",
    "> The following counties instead used maps or shapefiles sourced from the respective county governments:  \n",
    "Audrain, Bates, Caldwell, Callaway, Camden, Cape Girardeau, Cedar, Cooper, Franklin, Greene, Jackson, Jasper, Jefferson, Laclede, Lafayette, Lawrence, Marion, McDonald, Miller, Nodaway, Osage, Ozark, Pemiscot, Pike, Randolph, Scott, Ste. Genevieve, Texas, Warren, Washington, Worth, Wright.  "
   ]
  },
  {
   "cell_type": "markdown",
   "metadata": {},
   "source": [
    "Able to find shapefiles for Camden, Cooper, Marion, Lafayette, Laclede, Jasper, Bates, Audrain.  \n",
    "\n",
    "Of these, only Jasper came in shapefile format. The others came in tif formats that I was unable to load into this notebook without digitizing."
   ]
  },
  {
   "cell_type": "code",
   "execution_count": null,
   "metadata": {},
   "outputs": [],
   "source": [
    "jasper_precincts = gp.read_file(\"./raw-from-source/Counties/Jasper/Voting_Precincts_2020-shp/Voting_Precincts_2020.shp\")\n",
    "print(jasper_precincts.shape)"
   ]
  },
  {
   "cell_type": "code",
   "execution_count": null,
   "metadata": {},
   "outputs": [],
   "source": [
    "jasper_precincts.plot()"
   ]
  },
  {
   "cell_type": "markdown",
   "metadata": {},
   "source": [
    "- Audrain: https://audraingis.integritygis.com/H5/Index.html?viewer=audrain\n",
    "- Bates: https://batesgis.integritygis.com/H5/Index.html?viewer=bates\n",
    "- Caldwell: can't find\n",
    "- Callaway: can't find\n",
    "- Camden: https://camdengis.integritygis.com/H5/Index.html?viewer=camden\n",
    "- Cape Girardeau: only pdf (https://capecountyelections.com/wp-content/uploads/2019/06/Voter_Precincts.pdf)\n",
    "- Cedar: can't find\n",
    "- Cooper: https://coopergis.integritygis.com/H5/Index.html?viewer=cooper\n",
    "- Franklin: can't find\n",
    "- Greene: not available (https://www.greenecountyassessor.org/assessor/maps/mapadv.aspx)\n",
    "- Jackson: not downloadable (https://jcebmo.org/wp-content/uploads/JACKSON-COUNTY-TOWNSHIPS-PRECINCTS.pdf)\n",
    "- Jasper: https://jaspercountymogisintiatives-jcmo.hub.arcgis.com/datasets/voting-precincts-2020\n",
    "- Jefferson: can't find\n",
    "- Laclede: https://lacledegis.integritygis.com/H5/Index.html?viewer=laclede\n",
    "- Lafayette: https://lafayettegis.integritygis.com/H5/Index.html?viewer=lafayette\n",
    "- Lawrence: not downloadable (https://www.lawrencecountymo.org/elections)\n",
    "- Marion: https://mariongis.integritygis.com/H5/Index.html?viewer=marion_public\n",
    "- McDonald: can't find\n",
    "- Miller: not available (https://millergis.integritygis.com/H5/Index.html?viewer=miller)\n",
    "- Nodaway: can't find\n",
    "- Osage: can't find\n",
    "- Ozark: can't find\n",
    "- Pemiscot: can't find\n",
    "- Pike: can't find\n",
    "- Randolph: can't find\n",
    "- Scott: not downloadable https://www.arcgis.com/apps/webappviewer/index.html?id=73de0cc0034040a5b8b0f5988a643164\n",
    "- Ste. Genevieve: can't find\n",
    "- Texas: can't find\n",
    "- Warren: not downloadable (https://www.arcgis.com/apps/webappviewer/index.html?id=edfaf72f348b4ea28a959815d82dfe86)\n",
    "- Washington: can't find\n",
    "- Worth: can't find\n",
    "- Wright: can't find"
   ]
  },
  {
   "cell_type": "code",
   "execution_count": null,
   "metadata": {},
   "outputs": [],
   "source": []
  },
  {
   "cell_type": "markdown",
   "metadata": {},
   "source": [
    "### Shapefile Modifications\n",
    "\n",
    "- Audrain: Precinct mergers to match county reporting units\n",
    "- Audrain: Add Vandalia City; Align Mexico precincts with municipal code\n",
    "  \n",
    "- Callaway: Align Fulton, Holts Summit precincts with 2018 corporate boundaries\n",
    "- Callaway: Precinct mergers to match county reporting units\n",
    "\n",
    "- Camden: Precinct mergers to match county reporting units\n",
    "\n",
    "- Cape Girardeau: Precinct mergers to match county reporting units\n",
    "\n",
    "- Cooper: Precinct mergers to match county reporting units\n",
    "\n",
    "- Franklin: Split Dry Branch between Stanton & St. Clair Out of Town\n",
    "- Franklin: Precinct mergers to match county reporting units\n",
    "\n",
    "- Greene: Precinct mergers to match county reporting units\n",
    "\n",
    "- Jackson: Precinct mergers to match county reporting units\n",
    "\n",
    "- Jasper: Precinct mergers to match county reporting units\n",
    "- Jasper: Realign Carthage 2/3, Joplin 1/7, 10/13, 10/15, 13/22, Oronogo 1/2, Webb City 1/4 to match city ward maps\n",
    "\n",
    "- Jefferson: Precinct mergers to match county reporting units\n",
    "- Jefferson: Split Festus Ward 1 P1/P2, Ward 3 P1/P2, Ward 4 P1/P2; Adjust Crystal City/Riverview\n",
    "\n",
    "- Marion: Precinct mergers to match county reporting units\n",
    "- Marion: Split Fabius-Smileyville/Taylor, Warren-Monroe City/Warren; Align Hannibal wards with voter file\n",
    "\n",
    "- Miller: Adjust all precinct boundaries to match voter file\n",
    "\n",
    "- Nodaway: Precinct mergers to match county reporting units\n",
    "\n",
    "- Osage: Precinct mergers to match county reporting units\n",
    "\n",
    "- Pemiscot: Precinct mergers to match county reporting units\n",
    "\n",
    "- Pike: Adjust Cuivre JL boundaries with Ashley NO, Buffalo E, Prairieville I\n",
    "\n",
    "- Randolph: Precinct mergers to match county reporting units\n",
    "\n",
    "- Scott: Adjust Haywood City/Morley, Sikeston Ward 1/McMullin/Vanduser\n",
    "\n",
    "- Warren: Precinct mergers to match county reporting units\n",
    "\n",
    "- Washington: Adjust City Hall/Stony Point, Cruise/Richwoods to match county GIS\n",
    "\n",
    "- Worth: Precinct mergers to match county reporting units"
   ]
  }
 ],
 "metadata": {
  "kernelspec": {
   "display_name": "Python 3",
   "language": "python",
   "name": "python3"
  },
  "language_info": {
   "codemirror_mode": {
    "name": "ipython",
    "version": 3
   },
   "file_extension": ".py",
   "mimetype": "text/x-python",
   "name": "python",
   "nbconvert_exporter": "python",
   "pygments_lexer": "ipython3",
   "version": "3.8.3"
  }
 },
 "nbformat": 4,
 "nbformat_minor": 4
}
